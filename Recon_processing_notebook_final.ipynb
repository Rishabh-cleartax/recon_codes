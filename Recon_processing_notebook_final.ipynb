{
 "cells": [
  {
   "cell_type": "code",
   "execution_count": 1,
   "metadata": {
    "application/vnd.databricks.v1+cell": {
     "cellMetadata": {
      "byteLimit": 2048000,
      "rowLimit": 10000
     },
     "inputWidgets": {},
     "nuid": "aefffdeb-6dff-4b7e-929d-ff0fe0b60d27",
     "showTitle": false,
     "title": ""
    }
   },
   "outputs": [],
   "source": [
    "import pandas as pd\n",
    "import numpy as np\n",
    "import duckdb"
   ]
  },
  {
   "cell_type": "markdown",
   "metadata": {
    "application/vnd.databricks.v1+cell": {
     "cellMetadata": {
      "byteLimit": 2048000,
      "rowLimit": 10000
     },
     "inputWidgets": {},
     "nuid": "d3352f09-b67c-469e-971c-5a9574349906",
     "showTitle": false,
     "title": ""
    }
   },
   "source": [
    "## Loading GL AND PR data "
   ]
  },
  {
   "cell_type": "code",
   "execution_count": 2,
   "metadata": {},
   "outputs": [
    {
     "name": "stderr",
     "output_type": "stream",
     "text": [
      "C:\\Users\\rishabh.singh_clear\\AppData\\Local\\Temp\\ipykernel_14792\\1320238739.py:1: DtypeWarning: Columns (6,7,9,17) have mixed types. Specify dtype option on import or set low_memory=False.\n",
      "  gl_file_excel = pd.read_csv('gl.csv')\n"
     ]
    }
   ],
   "source": [
    "gl_file_excel = pd.read_csv('gl.csv')"
   ]
  },
  {
   "cell_type": "code",
   "execution_count": 3,
   "metadata": {},
   "outputs": [
    {
     "data": {
      "text/plain": [
       "(92046, 19)"
      ]
     },
     "execution_count": 3,
     "metadata": {},
     "output_type": "execute_result"
    }
   ],
   "source": [
    "gl_file_excel.shape"
   ]
  },
  {
   "cell_type": "code",
   "execution_count": 6,
   "metadata": {},
   "outputs": [],
   "source": [
    "pr_file_excel = pd.read_csv(\"pr.csv\")"
   ]
  },
  {
   "cell_type": "code",
   "execution_count": 7,
   "metadata": {},
   "outputs": [
    {
     "data": {
      "text/plain": [
       "(89605, 63)"
      ]
     },
     "execution_count": 7,
     "metadata": {},
     "output_type": "execute_result"
    }
   ],
   "source": [
    "pr_file_excel.shape"
   ]
  },
  {
   "cell_type": "code",
   "execution_count": 8,
   "metadata": {},
   "outputs": [
    {
     "data": {
      "text/html": [
       "<div>\n",
       "<style scoped>\n",
       "    .dataframe tbody tr th:only-of-type {\n",
       "        vertical-align: middle;\n",
       "    }\n",
       "\n",
       "    .dataframe tbody tr th {\n",
       "        vertical-align: top;\n",
       "    }\n",
       "\n",
       "    .dataframe thead th {\n",
       "        text-align: right;\n",
       "    }\n",
       "</style>\n",
       "<table border=\"1\" class=\"dataframe\">\n",
       "  <thead>\n",
       "    <tr style=\"text-align: right;\">\n",
       "      <th></th>\n",
       "      <th>MY GSTIN</th>\n",
       "      <th>Type</th>\n",
       "      <th>Supplier Name</th>\n",
       "      <th>Supplier GSTIN/UIN</th>\n",
       "      <th>Invoice No</th>\n",
       "      <th>Invoice Date</th>\n",
       "      <th>Original Invoice No</th>\n",
       "      <th>Original Invoice date</th>\n",
       "      <th>Total Invoice value</th>\n",
       "      <th>Place of Supply</th>\n",
       "      <th>Total Taxable Amount</th>\n",
       "      <th>Integrated Tax Amount</th>\n",
       "      <th>Central Tax Amount</th>\n",
       "      <th>State Tax Amount</th>\n",
       "      <th>Cess Amount</th>\n",
       "      <th>ITC Available - Cess</th>\n",
       "      <th>Remarks</th>\n",
       "      <th>HL Remarks</th>\n",
       "      <th>Final Remarks</th>\n",
       "    </tr>\n",
       "  </thead>\n",
       "  <tbody>\n",
       "    <tr>\n",
       "      <th>0</th>\n",
       "      <td>29AADCH3844D1ZO</td>\n",
       "      <td>B2B</td>\n",
       "      <td>SOLUTIONS INFINI TECHNOLOGIES (I) Pvt Ltd</td>\n",
       "      <td>29AANCS0353C1ZF</td>\n",
       "      <td>NaN</td>\n",
       "      <td>NaN</td>\n",
       "      <td>NaN</td>\n",
       "      <td>NaN</td>\n",
       "      <td>2001.55</td>\n",
       "      <td>Karnataka</td>\n",
       "      <td>2001.55</td>\n",
       "      <td>13.98</td>\n",
       "      <td>173.15</td>\n",
       "      <td>173.15</td>\n",
       "      <td>NaN</td>\n",
       "      <td>NaN</td>\n",
       "      <td>Supplier GSTIN missing+Supplier Tax Invoice No...</td>\n",
       "      <td>Ignore No GST ( Journal Entry)</td>\n",
       "      <td>NaN</td>\n",
       "    </tr>\n",
       "  </tbody>\n",
       "</table>\n",
       "</div>"
      ],
      "text/plain": [
       "          MY GSTIN Type                              Supplier Name   \n",
       "0  29AADCH3844D1ZO  B2B  SOLUTIONS INFINI TECHNOLOGIES (I) Pvt Ltd  \\\n",
       "\n",
       "  Supplier GSTIN/UIN Invoice No Invoice Date Original Invoice No   \n",
       "0    29AANCS0353C1ZF        NaN          NaN                 NaN  \\\n",
       "\n",
       "  Original Invoice date  Total Invoice value Place of Supply   \n",
       "0                   NaN              2001.55       Karnataka  \\\n",
       "\n",
       "   Total Taxable Amount  Integrated Tax Amount  Central Tax Amount   \n",
       "0               2001.55                  13.98              173.15  \\\n",
       "\n",
       "   State Tax Amount  Cess Amount  ITC Available - Cess   \n",
       "0            173.15          NaN                   NaN  \\\n",
       "\n",
       "                                             Remarks   \n",
       "0  Supplier GSTIN missing+Supplier Tax Invoice No...  \\\n",
       "\n",
       "                       HL Remarks  Final Remarks  \n",
       "0  Ignore No GST ( Journal Entry)            NaN  "
      ]
     },
     "execution_count": 8,
     "metadata": {},
     "output_type": "execute_result"
    }
   ],
   "source": [
    "gl_file_excel.head(1)"
   ]
  },
  {
   "cell_type": "code",
   "execution_count": 9,
   "metadata": {},
   "outputs": [],
   "source": [
    "# Convert to datetime\n",
    "gl_file_excel['Invoice Date'] = pd.to_datetime(gl_file_excel['Invoice Date'], format='%d-%m-%Y', errors='coerce')\n",
    "\n",
    "# Format as 'dd-mm-yyyy'\n",
    "gl_file_excel['Invoice Date'] = gl_file_excel['Invoice Date'].dt.strftime('%d-%m-%Y')"
   ]
  },
  {
   "cell_type": "code",
   "execution_count": 10,
   "metadata": {},
   "outputs": [],
   "source": [
    "# Convert to datetime\n",
    "pr_file_excel['Document Date (PR)'] = pd.to_datetime(pr_file_excel['Document Date (PR)'], format='%d-%m-%Y', errors='coerce')\n",
    "\n",
    "# Format as 'dd-mm-yyyy'\n",
    "pr_file_excel['Document Date (PR)'] = pr_file_excel['Document Date (PR)'].dt.strftime('%d-%m-%Y')"
   ]
  },
  {
   "cell_type": "code",
   "execution_count": 11,
   "metadata": {},
   "outputs": [
    {
     "data": {
      "text/html": [
       "<div>\n",
       "<style scoped>\n",
       "    .dataframe tbody tr th:only-of-type {\n",
       "        vertical-align: middle;\n",
       "    }\n",
       "\n",
       "    .dataframe tbody tr th {\n",
       "        vertical-align: top;\n",
       "    }\n",
       "\n",
       "    .dataframe thead th {\n",
       "        text-align: right;\n",
       "    }\n",
       "</style>\n",
       "<table border=\"1\" class=\"dataframe\">\n",
       "  <thead>\n",
       "    <tr style=\"text-align: right;\">\n",
       "      <th></th>\n",
       "      <th>ITC Claim month</th>\n",
       "      <th>Matching Key</th>\n",
       "      <th>Match Status</th>\n",
       "      <th>Match Status Description</th>\n",
       "      <th>Matching at Pan/ GSTIN</th>\n",
       "      <th>Sub-Buckets</th>\n",
       "      <th>Mismatched Fields</th>\n",
       "      <th>Mismatched Fields Count</th>\n",
       "      <th>Supplier Name</th>\n",
       "      <th>Supplier GSTIN (PR)</th>\n",
       "      <th>...</th>\n",
       "      <th>Financial Year</th>\n",
       "      <th>Voucher Number</th>\n",
       "      <th>Out of Range (2B)</th>\n",
       "      <th>Out of Range (PR)</th>\n",
       "      <th>Claimable ITC - CGST</th>\n",
       "      <th>Claimable ITC - SGST</th>\n",
       "      <th>Claimable ITC - IGST</th>\n",
       "      <th>Claimable ITC - Cess</th>\n",
       "      <th>CT Remarks</th>\n",
       "      <th>Deferred ITC Month</th>\n",
       "    </tr>\n",
       "  </thead>\n",
       "  <tbody>\n",
       "    <tr>\n",
       "      <th>0</th>\n",
       "      <td>2024 01</td>\n",
       "      <td>f5552d7f441c141c</td>\n",
       "      <td>Exact</td>\n",
       "      <td>NaN</td>\n",
       "      <td>My Gstin and Supplier Gstin Level</td>\n",
       "      <td>Actioned with No Changes</td>\n",
       "      <td>Taxable Value</td>\n",
       "      <td>1</td>\n",
       "      <td>TRINITY PANEL</td>\n",
       "      <td>29AAMFT6309F1ZV</td>\n",
       "      <td>...</td>\n",
       "      <td>2023-24</td>\n",
       "      <td>Jan'24</td>\n",
       "      <td>False</td>\n",
       "      <td>False</td>\n",
       "      <td>1737.9</td>\n",
       "      <td>1737.9</td>\n",
       "      <td>0.0</td>\n",
       "      <td>0</td>\n",
       "      <td>NaN</td>\n",
       "      <td>NaN</td>\n",
       "    </tr>\n",
       "  </tbody>\n",
       "</table>\n",
       "<p>1 rows × 63 columns</p>\n",
       "</div>"
      ],
      "text/plain": [
       "  ITC Claim month      Matching Key Match Status Match Status Description   \n",
       "0         2024 01  f5552d7f441c141c        Exact                      NaN  \\\n",
       "\n",
       "              Matching at Pan/ GSTIN               Sub-Buckets   \n",
       "0  My Gstin and Supplier Gstin Level  Actioned with No Changes  \\\n",
       "\n",
       "  Mismatched Fields  Mismatched Fields Count  Supplier Name   \n",
       "0     Taxable Value                        1  TRINITY PANEL  \\\n",
       "\n",
       "  Supplier GSTIN (PR)  ... Financial Year Voucher Number Out of Range (2B)   \n",
       "0     29AAMFT6309F1ZV  ...        2023-24         Jan'24             False  \\\n",
       "\n",
       "   Out of Range (PR)  Claimable ITC - CGST  Claimable ITC - SGST   \n",
       "0              False                1737.9                1737.9  \\\n",
       "\n",
       "   Claimable ITC - IGST  Claimable ITC - Cess  CT Remarks  Deferred ITC Month  \n",
       "0                   0.0                     0         NaN                 NaN  \n",
       "\n",
       "[1 rows x 63 columns]"
      ]
     },
     "execution_count": 11,
     "metadata": {},
     "output_type": "execute_result"
    }
   ],
   "source": [
    "pr_file_excel.head(1)"
   ]
  },
  {
   "cell_type": "code",
   "execution_count": 12,
   "metadata": {
    "application/vnd.databricks.v1+cell": {
     "cellMetadata": {
      "byteLimit": 2048000,
      "rowLimit": 10000
     },
     "inputWidgets": {},
     "nuid": "3a3f36c6-a183-41e4-9f90-c1c90d35beaa",
     "showTitle": false,
     "title": ""
    }
   },
   "outputs": [],
   "source": [
    "gl_file = gl_file_excel.copy()"
   ]
  },
  {
   "cell_type": "code",
   "execution_count": 13,
   "metadata": {
    "application/vnd.databricks.v1+cell": {
     "cellMetadata": {
      "byteLimit": 2048000,
      "rowLimit": 10000
     },
     "inputWidgets": {},
     "nuid": "3b57e246-bdec-4b73-8ce1-22b187ae31b7",
     "showTitle": false,
     "title": ""
    }
   },
   "outputs": [],
   "source": [
    "pr_file = pr_file_excel.copy()"
   ]
  },
  {
   "cell_type": "code",
   "execution_count": 14,
   "metadata": {
    "application/vnd.databricks.v1+cell": {
     "cellMetadata": {
      "byteLimit": 2048000,
      "rowLimit": 10000
     },
     "inputWidgets": {},
     "nuid": "2232925a-e288-4cb3-af01-8b20cdae1ad9",
     "showTitle": false,
     "title": ""
    }
   },
   "outputs": [
    {
     "data": {
      "text/plain": [
       "(92046, 19)"
      ]
     },
     "execution_count": 14,
     "metadata": {},
     "output_type": "execute_result"
    }
   ],
   "source": [
    "gl_file.shape"
   ]
  },
  {
   "cell_type": "code",
   "execution_count": 15,
   "metadata": {},
   "outputs": [
    {
     "data": {
      "text/plain": [
       "(89605, 63)"
      ]
     },
     "execution_count": 15,
     "metadata": {},
     "output_type": "execute_result"
    }
   ],
   "source": [
    "pr_file.shape"
   ]
  },
  {
   "cell_type": "code",
   "execution_count": 16,
   "metadata": {
    "application/vnd.databricks.v1+cell": {
     "cellMetadata": {
      "byteLimit": 2048000,
      "rowLimit": 10000
     },
     "inputWidgets": {},
     "nuid": "7de6d7c7-d425-4445-898f-ad42531be39a",
     "showTitle": false,
     "title": ""
    }
   },
   "outputs": [],
   "source": [
    "gl = duckdb.sql(\"\"\"\n",
    "              select * \n",
    "              from (\n",
    "              select \n",
    "                \"Supplier GSTIN/UIN\",\n",
    "                \"MY GSTIN\",\n",
    "                regexp_replace(\"Invoice No\", '^[^a-zA-Z0-9]|[^a-zA-Z0-9]$', '')   as \"Invoice No\",\n",
    "                 \"Invoice Date\" as \"Invoice Date\",\n",
    "                  string_agg(case when \"Remarks\" is null then '-' else \"Remarks\" end , '-')as \"Remark\",\n",
    "                  string_agg(case when \"HL Remarks\" is null then '-' else \"HL Remarks\" end,'-') as \"HL Remark\",\n",
    "                    sum(coalesce(cast(replace(\"Integrated Tax Amount\",',','') as DECIMAL(10,2)),0)) as \"IGST (GL)\",\n",
    "                    sum(coalesce(cast(replace(\"Central Tax Amount\",',','') as DECIMAL(10,2)),0)) as \"CGST (GL)\",\n",
    "                    sum(coalesce(cast(replace(\"State Tax Amount\",',','') as DECIMAL(10,2)),0)) as \"SGST (GL)\",\n",
    "                    sum(\n",
    "                  coalesce(cast(replace(\"Integrated Tax Amount\",',','') as DECIMAL(10,2)),0) + \n",
    "                  coalesce(cast(replace(\"Central Tax Amount\",',','') as DECIMAL(10,2)),0) +\n",
    "                  coalesce(cast(replace(\"State Tax Amount\",',','') as DECIMAL(10,2)),0) \n",
    "              \n",
    "              ) as \"Total Tax(GL)\",\n",
    "               from gl_file\n",
    "              group by 1,2,3,4 )\n",
    "              \"\"\")"
   ]
  },
  {
   "cell_type": "code",
   "execution_count": 17,
   "metadata": {},
   "outputs": [
    {
     "data": {
      "text/plain": [
       "(88093, 10)"
      ]
     },
     "execution_count": 17,
     "metadata": {},
     "output_type": "execute_result"
    }
   ],
   "source": [
    "gl.shape"
   ]
  },
  {
   "cell_type": "code",
   "execution_count": 18,
   "metadata": {},
   "outputs": [
    {
     "name": "stdout",
     "output_type": "stream",
     "text": [
      "IGST amount is gl is:-> 153907928.52999997\n",
      "CGST amount is gl is:-> 117670418.69000003\n",
      "SGST amount is gl is:-> 114199400.66999999\n",
      "Total amount is gl is:-> 385777747.8899999\n"
     ]
    }
   ],
   "source": [
    "print(f'IGST amount is gl is:-> {gl.df()[\"IGST (GL)\"].sum()}')\n",
    "print(f'CGST amount is gl is:-> {gl.df()[\"CGST (GL)\"].sum()}')\n",
    "print(f'SGST amount is gl is:-> {gl.df()[\"SGST (GL)\"].sum()}')\n",
    "print(f'Total amount is gl is:-> {gl.df()[\"Total Tax(GL)\"].sum()}')"
   ]
  },
  {
   "cell_type": "code",
   "execution_count": 19,
   "metadata": {
    "application/vnd.databricks.v1+cell": {
     "cellMetadata": {
      "byteLimit": 2048000,
      "rowLimit": 10000
     },
     "inputWidgets": {},
     "nuid": "685333ae-2686-45fb-aa26-2eb502527767",
     "showTitle": false,
     "title": ""
    }
   },
   "outputs": [],
   "source": [
    "# Rank the rows in pr_file\n",
    "pr_ranked_1 = duckdb.sql(\"\"\"\n",
    "    SELECT \"Supplier GSTIN (PR)\",\n",
    "        \"My GSTIN (PR)\",\n",
    "        REGEXP_REPLACE(\"Document Number (PR)\", '^[^a-zA-Z0-9]|[^a-zA-Z0-9]$', '') AS \"Document Number (PR)\",\n",
    "        \"Document Date (PR)\",\n",
    "        COALESCE(CAST(REPLACE(\"IGST (PR)\", ',', '') AS DECIMAL(10,2)), 0) AS \"IGST (PR)\",\n",
    "        COALESCE(CAST(REPLACE(\"CGST (PR)\", ',', '') AS DECIMAL(10,2)), 0) AS \"CGST (PR)\",\n",
    "        COALESCE(CAST(REPLACE(\"SGST (PR)\", ',', '') AS DECIMAL(10,2)), 0) AS \"SGST (PR)\",\n",
    "        CAST(REPLACE(\"Total Tax (PR)\", ',', '') AS DECIMAL(10,2)) AS \"Total Tax(PR)\"\n",
    "    FROM pr_file\n",
    "\"\"\")\n",
    "\n",
    "pr_ranked = duckdb.sql(\"\"\"\n",
    "    SELECT \n",
    "    \"Supplier GSTIN (PR)\",\n",
    "        \"My GSTIN (PR)\",\n",
    "        REGEXP_REPLACE(\"Document Number (PR)\", '^[^a-zA-Z0-9]|[^a-zA-Z0-9]$', '') AS \"Document Number (PR)\",\n",
    "        \"Document Date (PR)\",\n",
    "        COALESCE(CAST(REPLACE(\"IGST (PR)\", ',', '') AS DECIMAL(10,2)), 0) AS \"IGST (PR)\",\n",
    "        COALESCE(CAST(REPLACE(\"CGST (PR)\", ',', '') AS DECIMAL(10,2)), 0) AS \"CGST (PR)\",\n",
    "        COALESCE(CAST(REPLACE(\"SGST (PR)\", ',', '') AS DECIMAL(10,2)), 0) AS \"SGST (PR)\",\n",
    "        CAST(REPLACE(\"Total Tax(PR)\", ',', '') AS DECIMAL(10,2)) AS \"Total Tax(PR)\",\n",
    "        row_number() OVER (PARTITION BY \"Supplier GSTIN (PR)\", \"My GSTIN (PR)\", \"Document Number (PR)\", \"Document Date (PR)\" \n",
    "           order by \"Document Number (PR)\") AS rn\n",
    "    FROM pr_ranked_1\n",
    "\"\"\")\n",
    "# Separate the ranked data into rank 1 and duplicates\n",
    "pr_filtered =duckdb.sql(\"\"\"\n",
    "  \n",
    "          SELECT \n",
    "        \n",
    "        \"Supplier GSTIN (PR)\",\n",
    "        \"My GSTIN (PR)\",\n",
    "        REGEXP_REPLACE(\"Document Number (PR)\", '^[^a-zA-Z0-9]|[^a-zA-Z0-9]$', '') AS \"Document Number (PR)\",\n",
    "        \"Document Date (PR)\",\n",
    "        COALESCE(CAST(REPLACE(\"IGST (PR)\", ',', '') AS DECIMAL(10,2)), 0) AS \"IGST (PR)\",\n",
    "        COALESCE(CAST(REPLACE(\"CGST (PR)\", ',', '') AS DECIMAL(10,2)), 0) AS \"CGST (PR)\",\n",
    "        COALESCE(CAST(REPLACE(\"SGST (PR)\", ',', '') AS DECIMAL(10,2)), 0) AS \"SGST (PR)\",\n",
    "        CAST(REPLACE(\"Total Tax(PR)\", ',', '') AS DECIMAL(10,2)) AS \"Total Tax(PR)\"\n",
    "        \n",
    "    FROM pr_ranked\n",
    "    where rn= 1\n",
    "\"\"\")"
   ]
  },
  {
   "cell_type": "code",
   "execution_count": 19,
   "metadata": {
    "application/vnd.databricks.v1+cell": {
     "cellMetadata": {
      "byteLimit": 2048000,
      "rowLimit": 10000
     },
     "inputWidgets": {},
     "nuid": "8d3710c5-1e1e-4910-b793-570c4fd8bffe",
     "showTitle": false,
     "title": ""
    }
   },
   "outputs": [
    {
     "data": {
      "text/plain": [
       "(88218, 8)"
      ]
     },
     "execution_count": 19,
     "metadata": {},
     "output_type": "execute_result"
    }
   ],
   "source": [
    "pr_filtered.shape"
   ]
  },
  {
   "cell_type": "code",
   "execution_count": 20,
   "metadata": {},
   "outputs": [],
   "source": [
    "gl_file = gl.df()"
   ]
  },
  {
   "cell_type": "code",
   "execution_count": 21,
   "metadata": {},
   "outputs": [],
   "source": [
    "pr_filtered = pr_filtered.df()"
   ]
  },
  {
   "cell_type": "code",
   "execution_count": 25,
   "metadata": {},
   "outputs": [],
   "source": [
    "# Perform the left join with indicator\n",
    "merged_1 = pd.merge(gl_file, pr_filtered,\n",
    "                  how='left',\n",
    "                  left_on=[\n",
    "                      'Supplier GSTIN/UIN', \n",
    "                      'MY GSTIN', \n",
    "                      'Invoice No', \n",
    "                      'Invoice Date'\n",
    "                  ],\n",
    "                  right_on=[\n",
    "                      'Supplier GSTIN (PR)', \n",
    "                      'My GSTIN (PR)', \n",
    "                      'Document Number (PR)', \n",
    "                      'Document Date (PR)'\n",
    "                  ],\n",
    "                  indicator=True)"
   ]
  },
  {
   "cell_type": "code",
   "execution_count": 26,
   "metadata": {},
   "outputs": [],
   "source": [
    "merged_result = duckdb.sql(\"\"\"\n",
    "\n",
    "select * from merged_1\n",
    "\n",
    "\"\"\")"
   ]
  },
  {
   "cell_type": "code",
   "execution_count": 27,
   "metadata": {},
   "outputs": [
    {
     "data": {
      "text/plain": [
       "┌────────────────────┬─────────────────┬──────────────────┬───┬───────────┬───────────┬───────────────┬───────────┐\n",
       "│ Supplier GSTIN/UIN │    MY GSTIN     │    Invoice No    │ … │ CGST (PR) │ SGST (PR) │ Total Tax(PR) │  _merge   │\n",
       "│      varchar       │     varchar     │     varchar      │   │  double   │  double   │    double     │  _merge   │\n",
       "├────────────────────┼─────────────────┼──────────────────┼───┼───────────┼───────────┼───────────────┼───────────┤\n",
       "│ 07AAKCR2308F1ZK    │ 29AADCH3844D1ZO │ 855/2023-24      │ … │       0.0 │       0.0 │       1016.46 │ both      │\n",
       "│ 29ABFFM0843B1ZK    │ 29AADCH3844D1ZO │ 1554             │ … │      54.0 │      54.0 │         108.0 │ both      │\n",
       "│ 29AAICM1239J1Z8    │ 29AADCH3844D1ZO │ MPPL/24606/23-24 │ … │    3652.0 │    3652.0 │        7304.0 │ both      │\n",
       "│ 29AAICM1239J1Z8    │ 29AADCH3844D1ZO │ MPCN0350/23-24   │ … │    -79.65 │    -79.65 │        -159.3 │ both      │\n",
       "│ 29DIAPM0989P2ZD    │ 29AADCH3844D1ZO │ MA26481/2023-24  │ … │    1809.6 │    1809.6 │        3619.2 │ both      │\n",
       "│ 29DIAPM0989P2ZD    │ 29AADCH3844D1ZO │ MA26485/2023-24  │ … │    432.48 │    432.48 │        864.96 │ both      │\n",
       "│ 29AAGCH5179J1ZO    │ 29AADCH3844D1ZO │ HLPB/1879/23-24  │ … │      NULL │      NULL │          NULL │ left_only │\n",
       "│ 29AAGFE5658J1ZX    │ 29AADCH3844D1ZO │ EF/23-24/458     │ … │    663.04 │    663.04 │       1326.08 │ both      │\n",
       "│ 29BMMPK2924C1Z2    │ 29AADCH3844D1ZO │ 113              │ … │   1702.19 │   1702.19 │       3404.38 │ both      │\n",
       "│ 29AAEFP0244R1ZS    │ 29AADCH3844D1ZO │ PG/23-24/1004    │ … │    4860.0 │    4860.0 │        9720.0 │ both      │\n",
       "│        ·           │        ·        │ ·                │ · │       ·   │       ·   │           ·   │  ·        │\n",
       "│        ·           │        ·        │ ·                │ · │       ·   │       ·   │           ·   │  ·        │\n",
       "│        ·           │        ·        │ ·                │ · │       ·   │       ·   │           ·   │  ·        │\n",
       "│ 27ACVPH2771G1Z9    │ 27AADCH3844D1ZS │ 38               │ … │    1350.0 │    1350.0 │        2700.0 │ both      │\n",
       "│ 29BKQPD4594K1ZE    │ 29AADCH3844D1ZO │ 890              │ … │   1404.15 │   1404.15 │        2808.3 │ both      │\n",
       "│ 29BKQPD4594K1ZE    │ 29AADCH3844D1ZO │ 918              │ … │   1145.67 │   1145.67 │       2291.34 │ both      │\n",
       "│ 29BOUPR4987N1ZD    │ 29AADCH3844D1ZO │ 623              │ … │      NULL │      NULL │          NULL │ left_only │\n",
       "│ 29BKQPD4594K1ZE    │ 29AADCH3844D1ZO │ 919              │ … │   1707.33 │   1707.33 │       3414.66 │ both      │\n",
       "│ 29CDIPD3739A1ZS    │ 29AADCH3844D1ZO │ 587              │ … │     451.8 │     451.8 │         903.6 │ both      │\n",
       "│ 29CDIPD3739A1ZS    │ 29AADCH3844D1ZO │ 588              │ … │     531.0 │     531.0 │        1062.0 │ both      │\n",
       "│ 29AFJPR9381M1ZC    │ 29AADCH3844D1ZO │ 145              │ … │      NULL │      NULL │          NULL │ left_only │\n",
       "│ 29BKQPD4594K1ZE    │ 29AADCH3844D1ZO │ 958              │ … │   4316.31 │   4316.31 │       8632.62 │ both      │\n",
       "│ 29BKQPD4594K1ZE    │ 29AADCH3844D1ZO │ 960              │ … │     660.6 │     660.6 │        1321.2 │ both      │\n",
       "├────────────────────┴─────────────────┴──────────────────┴───┴───────────┴───────────┴───────────────┴───────────┤\n",
       "│ ? rows (>9999 rows, 20 shown)                                                              19 columns (7 shown) │\n",
       "└─────────────────────────────────────────────────────────────────────────────────────────────────────────────────┘"
      ]
     },
     "execution_count": 27,
     "metadata": {},
     "output_type": "execute_result"
    }
   ],
   "source": [
    "merged_result"
   ]
  },
  {
   "cell_type": "code",
   "execution_count": 29,
   "metadata": {},
   "outputs": [],
   "source": [
    "merged_result.df().to_csv('merged_csv.csv')"
   ]
  },
  {
   "cell_type": "code",
   "execution_count": null,
   "metadata": {},
   "outputs": [],
   "source": []
  },
  {
   "cell_type": "code",
   "execution_count": null,
   "metadata": {},
   "outputs": [],
   "source": []
  },
  {
   "cell_type": "code",
   "execution_count": null,
   "metadata": {},
   "outputs": [],
   "source": []
  },
  {
   "cell_type": "code",
   "execution_count": null,
   "metadata": {},
   "outputs": [],
   "source": []
  },
  {
   "cell_type": "code",
   "execution_count": null,
   "metadata": {},
   "outputs": [],
   "source": []
  },
  {
   "cell_type": "code",
   "execution_count": null,
   "metadata": {},
   "outputs": [],
   "source": []
  },
  {
   "cell_type": "code",
   "execution_count": null,
   "metadata": {},
   "outputs": [],
   "source": []
  },
  {
   "cell_type": "code",
   "execution_count": null,
   "metadata": {},
   "outputs": [],
   "source": []
  },
  {
   "cell_type": "code",
   "execution_count": null,
   "metadata": {},
   "outputs": [],
   "source": []
  },
  {
   "cell_type": "code",
   "execution_count": null,
   "metadata": {},
   "outputs": [],
   "source": []
  },
  {
   "cell_type": "code",
   "execution_count": null,
   "metadata": {},
   "outputs": [],
   "source": []
  },
  {
   "cell_type": "code",
   "execution_count": null,
   "metadata": {},
   "outputs": [],
   "source": []
  },
  {
   "cell_type": "code",
   "execution_count": null,
   "metadata": {},
   "outputs": [],
   "source": []
  },
  {
   "cell_type": "code",
   "execution_count": null,
   "metadata": {},
   "outputs": [],
   "source": []
  },
  {
   "cell_type": "code",
   "execution_count": null,
   "metadata": {},
   "outputs": [],
   "source": []
  },
  {
   "cell_type": "code",
   "execution_count": null,
   "metadata": {},
   "outputs": [],
   "source": []
  },
  {
   "cell_type": "code",
   "execution_count": null,
   "metadata": {},
   "outputs": [],
   "source": []
  },
  {
   "cell_type": "code",
   "execution_count": null,
   "metadata": {},
   "outputs": [],
   "source": []
  },
  {
   "cell_type": "code",
   "execution_count": null,
   "metadata": {},
   "outputs": [],
   "source": []
  },
  {
   "cell_type": "code",
   "execution_count": null,
   "metadata": {},
   "outputs": [],
   "source": []
  },
  {
   "cell_type": "code",
   "execution_count": null,
   "metadata": {},
   "outputs": [],
   "source": []
  },
  {
   "cell_type": "code",
   "execution_count": null,
   "metadata": {},
   "outputs": [],
   "source": []
  },
  {
   "cell_type": "code",
   "execution_count": null,
   "metadata": {},
   "outputs": [],
   "source": []
  },
  {
   "cell_type": "code",
   "execution_count": null,
   "metadata": {},
   "outputs": [],
   "source": []
  },
  {
   "cell_type": "code",
   "execution_count": null,
   "metadata": {},
   "outputs": [],
   "source": []
  },
  {
   "cell_type": "code",
   "execution_count": 20,
   "metadata": {
    "application/vnd.databricks.v1+cell": {
     "cellMetadata": {
      "byteLimit": 2048000,
      "rowLimit": 10000
     },
     "inputWidgets": {},
     "nuid": "32eed05f-5e15-4016-869b-69f98c7bb612",
     "showTitle": false,
     "title": ""
    }
   },
   "outputs": [],
   "source": [
    "pr_duplicates = duckdb.sql(\"\"\"\n",
    "    \n",
    "    SELECT \n",
    "        \"Supplier GSTIN (PR)\",\n",
    "        \"My GSTIN (PR)\",\n",
    "        \"Document Number (PR)\",\n",
    "        \"Document Date (PR)\",\n",
    "            coalesce(CAST(REPLACE(\"IGST (PR)\", ',', '') AS DECIMAL(10,2)),0) as \"IGST (PR)\",\n",
    "             coalesce(CAST(REPLACE(\"CGST (PR)\", ',', '') AS DECIMAL(10,2)),0) as  \"CGST (PR)\",\n",
    "             coalesce(CAST(REPLACE(\"SGST (PR)\", ',', '') AS DECIMAL(10,2)),0) as \"SGST (PR)\",\n",
    "         CAST(REPLACE(\"Total Tax(PR)\", ',', '') AS DECIMAL(10,2)) AS \"Total Tax(PR)\"\n",
    "       FROM pr_ranked\n",
    "    WHERE rn >= 2\n",
    "\"\"\")\n",
    "\n",
    "\n",
    "# Add duplicates with appropriate remarks\n",
    "duplicates_df = duckdb.sql(\"\"\"\n",
    "    SELECT\n",
    "       NULL AS \"Supplier GSTIN/UIN\",\n",
    "       NULL AS \"MY GSTIN\",\n",
    "       NULL AS \"Invoice No\", \n",
    "       NULL AS \"Invoice Date\", \n",
    "       NULL as \"IGST (GL)\",\n",
    "       Null as \"CGST (GL)\",\n",
    "       Null as \"SGST (GL)\",\n",
    "       NULL AS \"total Tax(GL)\",\n",
    "        \"Supplier GSTIN (PR)\",\n",
    "        \"My GSTIN (PR)\", \n",
    "        \"Document Number (PR)\",\n",
    "        \"Document Date (PR)\", \n",
    "        \"IGST (PR)\",\n",
    "        \"CGST (PR)\",\n",
    "        \"SGST (PR)\",\n",
    "        \"Total Tax(PR)\", \n",
    "        null as \"Remark\",\n",
    "        null as \"HL Remark\",\n",
    "        Null as \"Matching keys\",\n",
    "       'Duplicate Entry In PR' AS \"Remarks\",\n",
    "       Null as \"Remarks_1\"\n",
    "\n",
    "    FROM pr_duplicates\n",
    "\"\"\")\n",
    "\n",
    "\n",
    "# Perform the full outer join and add remarks\n",
    "result_1 = duckdb.sql(\"\"\"\n",
    "        SELECT\n",
    "        gl_file.\"Supplier GSTIN/UIN\",\n",
    "        gl_file.\"MY GSTIN\" ,\n",
    "        gl_file.\"Invoice No\", \n",
    "        gl_file.\"Invoice Date\", \n",
    "        gl_file.\"IGST (GL)\",\n",
    "        gl_file.\"CGST (GL)\",\n",
    "        gl_file.\"SGST (GL)\",\n",
    "        gl_file.\"Total Tax(GL)\",\n",
    "        pr_filtered.\"Supplier GSTIN (PR)\", \n",
    "        pr_filtered.\"My GSTIN (PR)\" ,\n",
    "        pr_filtered.\"Document Number (PR)\",\n",
    "        pr_filtered.\"Document Date (PR)\",\n",
    "        pr_filtered.\"IGST (PR)\",\n",
    "        pr_filtered.\"CGST (PR)\",\n",
    "        pr_filtered.\"SGST (PR)\",\n",
    "        pr_filtered.\"Total Tax(PR)\",\n",
    "        gl_file.\"Remark\",\n",
    "        gl_file.\"HL Remark\",\n",
    "        'SUPPLIER GSTIN-MY GSTIN-INVOICE NO-INVOICE DATE' as \"Matching keys\",\n",
    "        CASE\n",
    "            WHEN ABS(gl_file.\"Total Tax(GL)\" - pr_filtered.\"Total Tax(PR)\") BETWEEN 1 AND 10 THEN 'Suggested Match'\n",
    "            WHEN abs(gl_file.\"Total Tax(GL)\" - pr_filtered.\"Total Tax(PR)\") <1  THEN 'Exact Match'\n",
    "            WHEN abs(gl_file.\"Total Tax(GL)\" - pr_filtered.\"Total Tax(PR)\") >10  THEN 'Mismatch'\n",
    "            ELSE 'Others In Mismatch'\n",
    "        END AS \"Remarks\",\n",
    "        'All Match' as 'Remarks-1'\n",
    "    FROM gl as gl_file\n",
    "    FULL OUTER JOIN pr_filtered as pr_filtered\n",
    "    ON gl_file.\"Supplier GSTIN/UIN\" = pr_filtered.\"Supplier GSTIN (PR)\"\n",
    "    AND gl_file.\"MY GSTIN\" = pr_filtered.\"My GSTIN (PR)\"\n",
    "    AND gl_file.\"Invoice No\" = pr_filtered.\"Document Number (PR)\"\n",
    "    AND gl_file.\"Invoice Date\" = pr_filtered.\"Document Date (PR)\"\n",
    "\"\"\")"
   ]
  },
  {
   "cell_type": "code",
   "execution_count": 22,
   "metadata": {},
   "outputs": [
    {
     "name": "stdout",
     "output_type": "stream",
     "text": [
      "IGST amount is gl is:-> 153907928.53000003\n",
      "CGST amount is gl is:-> 117670418.69\n",
      "SGST amount is gl is:-> 114199400.67\n",
      "Total Tax amount is gl is:-> 385777747.89000005\n"
     ]
    }
   ],
   "source": [
    "print(f'IGST amount is gl is:-> {result_1.df()[\"IGST (GL)\"].sum()}')\n",
    "print(f'CGST amount is gl is:-> {result_1.df()[\"CGST (GL)\"].sum()}')\n",
    "print(f'SGST amount is gl is:-> {result_1.df()[\"SGST (GL)\"].sum()}')\n",
    "print(f'Total Tax amount is gl is:-> {result_1.df()[\"Total Tax(GL)\"].sum()}')"
   ]
  },
  {
   "cell_type": "code",
   "execution_count": 23,
   "metadata": {},
   "outputs": [
    {
     "name": "stdout",
     "output_type": "stream",
     "text": [
      "2.9802322387695312e-08\n",
      "1.4901161193847656e-08\n",
      "1.4901161193847656e-08\n",
      "5.960464477539063e-08\n"
     ]
    }
   ],
   "source": [
    "print(result_1.df()[\"IGST (GL)\"].sum() - gl.df()[\"IGST (GL)\"].sum())\n",
    "print(result_1.df()[\"CGST (GL)\"].sum() - gl.df()[\"CGST (GL)\"].sum())\n",
    "print(result_1.df()[\"SGST (GL)\"].sum() - gl.df()[\"SGST (GL)\"].sum())\n",
    "print(result_1.df()[\"Total Tax(GL)\"].sum() - gl.df()[\"Total Tax(GL)\"].sum())"
   ]
  },
  {
   "cell_type": "code",
   "execution_count": 24,
   "metadata": {
    "application/vnd.databricks.v1+cell": {
     "cellMetadata": {
      "byteLimit": 2048000,
      "rowLimit": 10000
     },
     "inputWidgets": {},
     "nuid": "8369ff88-eecc-4475-b1d7-152795ca7e26",
     "showTitle": false,
     "title": ""
    }
   },
   "outputs": [
    {
     "data": {
      "text/plain": [
       "(105186, 21)"
      ]
     },
     "execution_count": 24,
     "metadata": {},
     "output_type": "execute_result"
    }
   ],
   "source": [
    "result_1.shape"
   ]
  },
  {
   "cell_type": "code",
   "execution_count": 24,
   "metadata": {},
   "outputs": [],
   "source": [
    "result_1.df().to_csv('result_1.csv', index = False)"
   ]
  },
  {
   "cell_type": "code",
   "execution_count": 25,
   "metadata": {
    "application/vnd.databricks.v1+cell": {
     "cellMetadata": {
      "byteLimit": 2048000,
      "rowLimit": 10000
     },
     "inputWidgets": {},
     "nuid": "b4b23686-fd83-423a-9967-d609e433681c",
     "showTitle": false,
     "title": ""
    }
   },
   "outputs": [],
   "source": [
    "matched_1 = duckdb.sql( \"\"\"select * from result_1\n",
    "                               \n",
    "                               where Remarks in ('Exact Match', 'Suggested Match', 'Mismatch') \"\"\")"
   ]
  },
  {
   "cell_type": "code",
   "execution_count": 26,
   "metadata": {
    "application/vnd.databricks.v1+cell": {
     "cellMetadata": {
      "byteLimit": 2048000,
      "rowLimit": 10000
     },
     "inputWidgets": {},
     "nuid": "d3bfa408-a0db-45f6-b0ef-281353226396",
     "showTitle": false,
     "title": ""
    }
   },
   "outputs": [],
   "source": [
    "matched_1.df().to_csv('matched_1.csv', index= False)"
   ]
  },
  {
   "cell_type": "code",
   "execution_count": 27,
   "metadata": {},
   "outputs": [],
   "source": [
    "duplicates_df.df().to_csv('Duplicates.csv', index = False)"
   ]
  },
  {
   "cell_type": "code",
   "execution_count": 28,
   "metadata": {},
   "outputs": [
    {
     "name": "stderr",
     "output_type": "stream",
     "text": [
      "C:\\Users\\rishabh.singh_clear\\AppData\\Local\\Temp\\ipykernel_7736\\2182478160.py:1: DtypeWarning: Columns (0,1,2,3,16,17) have mixed types. Specify dtype option on import or set low_memory=False.\n",
      "  result_1 = pd.read_csv('result_1.csv')\n"
     ]
    }
   ],
   "source": [
    "result_1 = pd.read_csv('result_1.csv')"
   ]
  },
  {
   "cell_type": "code",
   "execution_count": 30,
   "metadata": {},
   "outputs": [
    {
     "name": "stdout",
     "output_type": "stream",
     "text": [
      "IGST amount is gl is:-> 153907928.53\n",
      "CGST amount is gl is:-> 117670418.69\n",
      "SGST amount is gl is:-> 114199400.66999999\n",
      "Total amount is gl is:-> 385777747.89\n"
     ]
    }
   ],
   "source": [
    "print(f'IGST amount is gl is:-> {result_1[\"IGST (GL)\"].sum()}')\n",
    "print(f'CGST amount is gl is:-> {result_1[\"CGST (GL)\"].sum()}')\n",
    "print(f'SGST amount is gl is:-> {result_1[\"SGST (GL)\"].sum()}')\n",
    "print(f'Total amount is gl is:-> {result_1[\"Total Tax(GL)\"].sum()}')"
   ]
  },
  {
   "cell_type": "code",
   "execution_count": 47,
   "metadata": {
    "application/vnd.databricks.v1+cell": {
     "cellMetadata": {
      "byteLimit": 2048000,
      "implicitDf": true,
      "rowLimit": 10000
     },
     "inputWidgets": {},
     "nuid": "86af383d-7cdf-4024-8d00-f0b0a1ba2757",
     "showTitle": false,
     "title": ""
    }
   },
   "outputs": [],
   "source": [
    "pr_2 = duckdb.sql(\"\"\"\n",
    "    SELECT \n",
    "        \"Supplier GSTIN (PR)\",\n",
    "        \"My GSTIN (PR)\",\n",
    "        \"Document Number (PR)\",\n",
    "        \"Document Date (PR)\",\n",
    "        sum(\"IGST (PR)\") AS \"IGST (PR)\",\n",
    "        sum(\"CGST (PR)\") AS \"CGST (PR)\",\n",
    "        sum(\"SGST (PR)\") AS \"SGST (PR)\",\n",
    "        sum(CAST(REPLACE(\"Total Tax(PR)\", ',', '') AS DECIMAL(10,2))) AS \"Total Tax(PR)\"\n",
    "    FROM result_1\n",
    "        WHERE \"Supplier GSTIN/UIN\" is null\n",
    "    GROUP BY 1,2,3,4\n",
    "\"\"\")\n"
   ]
  },
  {
   "cell_type": "code",
   "execution_count": 48,
   "metadata": {
    "application/vnd.databricks.v1+cell": {
     "cellMetadata": {
      "byteLimit": 2048000,
      "rowLimit": 10000
     },
     "inputWidgets": {},
     "nuid": "c927d022-4c93-44e8-8b12-f49e34dca7e3",
     "showTitle": false,
     "title": ""
    }
   },
   "outputs": [
    {
     "data": {
      "text/plain": [
       "(17094, 8)"
      ]
     },
     "execution_count": 48,
     "metadata": {},
     "output_type": "execute_result"
    }
   ],
   "source": [
    "pr_2.shape"
   ]
  },
  {
   "cell_type": "code",
   "execution_count": 52,
   "metadata": {
    "application/vnd.databricks.v1+cell": {
     "cellMetadata": {
      "byteLimit": 2048000,
      "implicitDf": true,
      "rowLimit": 10000
     },
     "inputWidgets": {},
     "nuid": "bd8edec3-f021-4f44-9248-930bbc46b7bc",
     "showTitle": false,
     "title": ""
    }
   },
   "outputs": [],
   "source": [
    "gl_2 = duckdb.sql(\"\"\"\n",
    "SELECT \n",
    "       \"Supplier GSTIN/UIN\",\n",
    "        \"MY GSTIN\",\n",
    "        \"Invoice No\", \n",
    "        \"Invoice Date\", \n",
    "       string_agg(\"Remark\",'') as \"Remark\",\n",
    "        string_agg(\"HL Remark\",'') as \"HL Remark\",\n",
    "        sum(\"IGST (GL)\") AS \"IGST (GL)\",\n",
    "        sum(\"CGST (GL)\") AS \"CGST (GL)\",\n",
    "        sum(\"SGST (GL)\") AS \"SGST (GL)\",\n",
    "        sum(\"total Tax(GL)\") as \"total Tax(GL)\"\n",
    " from result_1\n",
    " where  \"Supplier GSTIN (PR)\" is null \n",
    " group by 1,2,3,4 \"\"\")"
   ]
  },
  {
   "cell_type": "code",
   "execution_count": 53,
   "metadata": {
    "application/vnd.databricks.v1+cell": {
     "cellMetadata": {
      "byteLimit": 2048000,
      "rowLimit": 10000
     },
     "inputWidgets": {},
     "nuid": "d0e2588b-96dc-4e62-a022-1378b8f52bb7",
     "showTitle": false,
     "title": ""
    }
   },
   "outputs": [
    {
     "data": {
      "text/plain": [
       "(16968, 10)"
      ]
     },
     "execution_count": 53,
     "metadata": {},
     "output_type": "execute_result"
    }
   ],
   "source": [
    "gl_2.shape"
   ]
  },
  {
   "cell_type": "code",
   "execution_count": 67,
   "metadata": {
    "application/vnd.databricks.v1+cell": {
     "cellMetadata": {
      "byteLimit": 2048000,
      "rowLimit": 10000
     },
     "inputWidgets": {},
     "nuid": "778d89c3-c37f-46fb-b8c8-2867535a18f1",
     "showTitle": false,
     "title": ""
    }
   },
   "outputs": [],
   "source": [
    "result_2 = duckdb.sql( \"\"\"\n",
    "        SELECT\n",
    "        gl_file.\"Supplier GSTIN/UIN\",\n",
    "        gl_file.\"MY GSTIN\" ,\n",
    "        gl_file.\"Invoice No\", \n",
    "        gl_file.\"Invoice Date\",\n",
    "        gl_file.\"IGST (GL)\",\n",
    "        gl_file.\"CGST (GL)\",\n",
    "        gl_file.\"SGST (GL)\", \n",
    "        gl_file.\"Total Tax(GL)\" ,\n",
    "        pr_filtered.\"Supplier GSTIN (PR)\", \n",
    "        pr_filtered.\"My GSTIN (PR)\" ,\n",
    "        pr_filtered.\"Document Number (PR)\",\n",
    "        pr_filtered.\"IGST (PR)\",\n",
    "        pr_filtered. \"CGST (PR)\", \n",
    "        pr_filtered.\"SGST (PR)\",\n",
    "        pr_filtered.\"Document Date (PR)\" ,\n",
    "        pr_filtered.\"Total Tax(PR)\",\n",
    "        gl_file.\"Remark\" as \"Remark\" ,\n",
    "        gl_file.\"HL Remark\",\n",
    "        'SUPPLIER GSTIN, MY GSTIN, INVOICE NO' as \"Matching keys\",\n",
    "        CASE\n",
    "            WHEN ABS(gl_file.\"Total Tax(GL)\" - pr_filtered.\"Total Tax(PR)\") BETWEEN 1 AND 10 THEN 'Suggested Match'\n",
    "            WHEN abs(gl_file.\"Total Tax(GL)\" - pr_filtered.\"Total Tax(PR)\") <1  THEN 'Exact Match'\n",
    "            WHEN abs(gl_file.\"Total Tax(GL)\" - pr_filtered.\"Total Tax(PR)\") >10  THEN 'Mismatch'\n",
    "            ELSE 'Others In Mismatch'\n",
    "        END AS \"Remarks\",\n",
    "        'Date Not match' as \"Remarks_1\"\n",
    "    FROM gl_2 as gl_file\n",
    "    FULL OUTER JOIN pr_2 as pr_filtered\n",
    "    ON gl_file.\"Supplier GSTIN/UIN\" = pr_filtered.\"Supplier GSTIN (PR)\"\n",
    "    AND gl_file.\"MY GSTIN\" = pr_filtered.\"My GSTIN (PR)\"\n",
    "    AND gl_file.\"Invoice No\" = pr_filtered.\"Document Number (PR)\"\n",
    "\"\"\")\n"
   ]
  },
  {
   "cell_type": "code",
   "execution_count": 68,
   "metadata": {},
   "outputs": [
    {
     "data": {
      "text/plain": [
       "(33709, 21)"
      ]
     },
     "execution_count": 68,
     "metadata": {},
     "output_type": "execute_result"
    }
   ],
   "source": [
    "result_2.shape"
   ]
  },
  {
   "cell_type": "code",
   "execution_count": 69,
   "metadata": {
    "application/vnd.databricks.v1+cell": {
     "cellMetadata": {
      "byteLimit": 2048000,
      "rowLimit": 10000
     },
     "inputWidgets": {},
     "nuid": "894c31ec-392c-4bb9-b14b-49f4d13ffa02",
     "showTitle": false,
     "title": ""
    }
   },
   "outputs": [],
   "source": [
    "result_2.df().to_csv('result_2.csv', index = False)"
   ]
  },
  {
   "cell_type": "code",
   "execution_count": 70,
   "metadata": {
    "application/vnd.databricks.v1+cell": {
     "cellMetadata": {
      "byteLimit": 2048000,
      "rowLimit": 10000
     },
     "inputWidgets": {},
     "nuid": "5f73ca24-bbbd-427f-8265-4a6d7dafaa93",
     "showTitle": false,
     "title": ""
    }
   },
   "outputs": [],
   "source": [
    "matched_2 = duckdb.sql( \"\"\"select * from result_2\n",
    "                               \n",
    "                               where Remarks in ('Exact Match', 'Suggested Match', 'Mismatch') \"\"\")\n"
   ]
  },
  {
   "cell_type": "code",
   "execution_count": 72,
   "metadata": {},
   "outputs": [
    {
     "data": {
      "text/plain": [
       "(356, 21)"
      ]
     },
     "execution_count": 72,
     "metadata": {},
     "output_type": "execute_result"
    }
   ],
   "source": [
    "matched_2.shape"
   ]
  },
  {
   "cell_type": "code",
   "execution_count": 73,
   "metadata": {
    "application/vnd.databricks.v1+cell": {
     "cellMetadata": {
      "byteLimit": 2048000,
      "rowLimit": 10000
     },
     "inputWidgets": {},
     "nuid": "2170c7b3-aee4-413e-a4cf-727e676a49b9",
     "showTitle": false,
     "title": ""
    }
   },
   "outputs": [],
   "source": [
    "matched_2.df().to_csv('matched_2.csv', index= False)"
   ]
  },
  {
   "cell_type": "code",
   "execution_count": 74,
   "metadata": {},
   "outputs": [],
   "source": [
    "matched_2 = pd.read_csv('matched_2.csv')"
   ]
  },
  {
   "cell_type": "code",
   "execution_count": 79,
   "metadata": {},
   "outputs": [
    {
     "data": {
      "text/plain": [
       "22326475.060000002"
      ]
     },
     "execution_count": 79,
     "metadata": {},
     "output_type": "execute_result"
    }
   ],
   "source": [
    "total_tax = matched_2[\"total Tax(GL)\"].sum()\n",
    "total_tax"
   ]
  },
  {
   "cell_type": "code",
   "execution_count": 60,
   "metadata": {},
   "outputs": [
    {
     "name": "stderr",
     "output_type": "stream",
     "text": [
      "C:\\Users\\rishabh.singh_clear\\AppData\\Local\\Temp\\ipykernel_7736\\3392761352.py:1: DtypeWarning: Columns (0,1,2,3,16,17) have mixed types. Specify dtype option on import or set low_memory=False.\n",
      "  result_2 = pd.read_csv('result_2.csv')\n"
     ]
    }
   ],
   "source": [
    "result_2 = pd.read_csv('result_2.csv')"
   ]
  },
  {
   "cell_type": "code",
   "execution_count": 80,
   "metadata": {},
   "outputs": [
    {
     "ename": "CatalogException",
     "evalue": "Catalog Error: Scalar Function with name igst does not exist!\nDid you mean \"list\"?",
     "output_type": "error",
     "traceback": [
      "\u001b[1;31m---------------------------------------------------------------------------\u001b[0m",
      "\u001b[1;31mCatalogException\u001b[0m                          Traceback (most recent call last)",
      "Cell \u001b[1;32mIn[80], line 1\u001b[0m\n\u001b[1;32m----> 1\u001b[0m \u001b[38;5;28mprint\u001b[39m(\u001b[38;5;124mf\u001b[39m\u001b[38;5;124m'\u001b[39m\u001b[38;5;124mIGST amount is gl is:-> \u001b[39m\u001b[38;5;132;01m{\u001b[39;00m\u001b[43mresult_2\u001b[49m\u001b[43m[\u001b[49m\u001b[38;5;124;43m\"\u001b[39;49m\u001b[38;5;124;43mIGST (GL)\u001b[39;49m\u001b[38;5;124;43m\"\u001b[39;49m\u001b[43m]\u001b[49m\u001b[38;5;241m.\u001b[39msum()\u001b[38;5;132;01m}\u001b[39;00m\u001b[38;5;124m'\u001b[39m)\n\u001b[0;32m      2\u001b[0m \u001b[38;5;28mprint\u001b[39m(\u001b[38;5;124mf\u001b[39m\u001b[38;5;124m'\u001b[39m\u001b[38;5;124mCGST amount is gl is:-> \u001b[39m\u001b[38;5;132;01m{\u001b[39;00mresult_2[\u001b[38;5;124m\"\u001b[39m\u001b[38;5;124mCGST (GL)\u001b[39m\u001b[38;5;124m\"\u001b[39m]\u001b[38;5;241m.\u001b[39msum()\u001b[38;5;132;01m}\u001b[39;00m\u001b[38;5;124m'\u001b[39m)\n\u001b[0;32m      3\u001b[0m \u001b[38;5;28mprint\u001b[39m(\u001b[38;5;124mf\u001b[39m\u001b[38;5;124m'\u001b[39m\u001b[38;5;124mSGST amount is gl is:-> \u001b[39m\u001b[38;5;132;01m{\u001b[39;00mresult_2[\u001b[38;5;124m\"\u001b[39m\u001b[38;5;124mSGST (GL)\u001b[39m\u001b[38;5;124m\"\u001b[39m]\u001b[38;5;241m.\u001b[39msum()\u001b[38;5;132;01m}\u001b[39;00m\u001b[38;5;124m'\u001b[39m)\n",
      "\u001b[1;31mCatalogException\u001b[0m: Catalog Error: Scalar Function with name igst does not exist!\nDid you mean \"list\"?"
     ]
    }
   ],
   "source": [
    "print(f'IGST amount is gl is:-> {result_2[\"IGST (GL)\"].sum()}')\n",
    "print(f'CGST amount is gl is:-> {result_2[\"CGST (GL)\"].sum()}')\n",
    "print(f'SGST amount is gl is:-> {result_2[\"SGST (GL)\"].sum()}')\n",
    "print(f'Total amount is gl is:-> {result_2[\"Total Tax(GL)\"].sum()}')"
   ]
  },
  {
   "cell_type": "code",
   "execution_count": 39,
   "metadata": {
    "application/vnd.databricks.v1+cell": {
     "cellMetadata": {
      "byteLimit": 2048000,
      "implicitDf": true,
      "rowLimit": 10000
     },
     "inputWidgets": {},
     "nuid": "d864249a-74fc-44d8-8fb4-bdc81465d997",
     "showTitle": false,
     "title": ""
    }
   },
   "outputs": [],
   "source": [
    "pr_2_1 = duckdb.sql(\"\"\"\n",
    " SELECT \n",
    "        \"Supplier GSTIN (PR)\",\n",
    "        \"My GSTIN (PR)\",\n",
    "        \"Document Number (PR)\",\n",
    "        \"Document Date (PR)\",\n",
    "        \"IGST (PR)\",\n",
    "        \"CGST (PR)\",\n",
    "         \"SGST (PR)\",\n",
    "        CAST(REPLACE(\"Total Tax(PR)\", ',', '') AS DECIMAL(10,2)) AS \"Total Tax(PR)\"\n",
    "    FROM result_2\n",
    "    WHERE \"Supplier GSTIN/UIN\" is null\"\"\")"
   ]
  },
  {
   "cell_type": "code",
   "execution_count": 40,
   "metadata": {
    "application/vnd.databricks.v1+cell": {
     "cellMetadata": {
      "byteLimit": 2048000,
      "implicitDf": true,
      "rowLimit": 10000
     },
     "inputWidgets": {},
     "nuid": "01d1c2ea-bd15-4e9f-864d-8daa07f8a1c0",
     "showTitle": false,
     "title": ""
    }
   },
   "outputs": [],
   "source": [
    "gl_2_1 = duckdb.sql(\"\"\" \n",
    "SELECT \n",
    "    \"Supplier GSTIN/UIN\",\n",
    "     \"MY GSTIN\",\n",
    "     \"Invoice No\", \n",
    "     \"Invoice Date\",\n",
    "     \"IGST (GL)\",\n",
    "     \"CGST (GL)\",\n",
    "     \"SGST (GL)\",\n",
    "     \"total Tax(GL)\",\n",
    "     \"Remark\",\n",
    "     \"HL Remark\" \n",
    " from result_2\n",
    " where  \"Supplier GSTIN (PR)\" is null \"\"\")"
   ]
  },
  {
   "cell_type": "code",
   "execution_count": 41,
   "metadata": {
    "application/vnd.databricks.v1+cell": {
     "cellMetadata": {
      "byteLimit": 2048000,
      "rowLimit": 10000
     },
     "inputWidgets": {},
     "nuid": "221f5c11-ff99-41bf-859f-53f92d5dc15b",
     "showTitle": false,
     "title": ""
    }
   },
   "outputs": [],
   "source": [
    "result_2_1 = duckdb.sql( \"\"\"\n",
    "        SELECT\n",
    "        gl_file.\"Supplier GSTIN/UIN\",\n",
    "        gl_file.\"MY GSTIN\" ,\n",
    "        gl_file.\"Invoice No\", \n",
    "        gl_file.\"Invoice Date\", \n",
    "        gl_file.\"IGST (GL)\",\n",
    "        gl_file.\"CGST (GL)\",\n",
    "        gl_file.\"SGST (GL)\",\n",
    "        gl_file.\"Total Tax(GL)\" ,\n",
    "        pr_filtered.\"Supplier GSTIN (PR)\", \n",
    "        pr_filtered.\"My GSTIN (PR)\" ,\n",
    "        pr_filtered.\"Document Number (PR)\",\n",
    "        pr_filtered.\"Document Date (PR)\",\n",
    "        pr_filtered.\"IGST (PR)\",\n",
    "        pr_filtered. \"CGST (PR)\",\n",
    "        pr_filtered.\"SGST (PR)\",\n",
    "        pr_filtered.\"Total Tax(PR)\",\n",
    "        gl_file.\"Remark\",\n",
    "        gl_file.\"HL Remark\",\n",
    "        'SUPPLIER GSTIN, MY GSTIN, INVOICE NO(Fuzzy)' as \"Matching keys\",\n",
    "        CASE\n",
    "            WHEN ABS(gl_file.\"Total Tax(GL)\" - pr_filtered.\"Total Tax(PR)\") BETWEEN 1 AND 10 THEN 'Suggested Match'\n",
    "            WHEN abs(gl_file.\"Total Tax(GL)\" - pr_filtered.\"Total Tax(PR)\") <1  THEN 'Exact Match'\n",
    "            WHEN abs(gl_file.\"Total Tax(GL)\" - pr_filtered.\"Total Tax(PR)\") >10  THEN 'Mismatch'\n",
    "            ELSE 'Others In Mismatch'\n",
    "        END AS \"Remarks\",\n",
    "        'Date Not Match' as \"Remarks_1\"\n",
    "    FROM gl_2_1 as gl_file\n",
    "    FULL OUTER JOIN pr_2_1 as pr_filtered\n",
    "    ON gl_file.\"Supplier GSTIN/UIN\" = pr_filtered.\"Supplier GSTIN (PR)\"\n",
    "    AND gl_file.\"MY GSTIN\" = pr_filtered.\"My GSTIN (PR)\"\n",
    "    AND REGEXP_REPLACE(gl_file.\"Invoice No\", '[^a-zA-Z0-9]', '') =\n",
    "    REGEXP_REPLACE(pr_filtered.\"Document Number (PR)\", '[^a-zA-Z0-9]', '')\n",
    "     \"\"\")"
   ]
  },
  {
   "cell_type": "code",
   "execution_count": 42,
   "metadata": {
    "application/vnd.databricks.v1+cell": {
     "cellMetadata": {
      "byteLimit": 2048000,
      "rowLimit": 10000
     },
     "inputWidgets": {},
     "nuid": "f23e7819-744b-41c4-a39b-6a884cbb845b",
     "showTitle": false,
     "title": ""
    }
   },
   "outputs": [],
   "source": [
    "result_2_1.df().to_csv('result_2_1.csv', index = False)"
   ]
  },
  {
   "cell_type": "code",
   "execution_count": 43,
   "metadata": {
    "application/vnd.databricks.v1+cell": {
     "cellMetadata": {
      "byteLimit": 2048000,
      "rowLimit": 10000
     },
     "inputWidgets": {},
     "nuid": "8728935f-66f6-48fd-87f7-7f0167a35ffa",
     "showTitle": false,
     "title": ""
    }
   },
   "outputs": [],
   "source": [
    "matched_2_1 = duckdb.sql( \"\"\"select * from result_2_1\n",
    "                               \n",
    "                               where Remarks in ('Exact Match', 'Suggested Match', 'Mismatch') \"\"\" )\n",
    "\n"
   ]
  },
  {
   "cell_type": "code",
   "execution_count": 44,
   "metadata": {
    "application/vnd.databricks.v1+cell": {
     "cellMetadata": {
      "byteLimit": 2048000,
      "rowLimit": 10000
     },
     "inputWidgets": {},
     "nuid": "c9721676-1a3a-49df-b066-0b2a6c2bd346",
     "showTitle": false,
     "title": ""
    }
   },
   "outputs": [],
   "source": [
    "matched_2_1.df().to_csv('matched_2_1.csv', index= False)"
   ]
  },
  {
   "cell_type": "code",
   "execution_count": 45,
   "metadata": {},
   "outputs": [
    {
     "name": "stderr",
     "output_type": "stream",
     "text": [
      "C:\\Users\\rishabh.singh_clear\\AppData\\Local\\Temp\\ipykernel_7984\\1123820342.py:1: DtypeWarning: Columns (0,1,2,3,16,17) have mixed types. Specify dtype option on import or set low_memory=False.\n",
      "  result_2_1 = pd.read_csv('result_2_1.csv')\n"
     ]
    }
   ],
   "source": [
    "result_2_1 = pd.read_csv('result_2_1.csv')"
   ]
  },
  {
   "cell_type": "code",
   "execution_count": 46,
   "metadata": {},
   "outputs": [],
   "source": [
    "pr_2_1_1 = duckdb.sql(\"\"\"\n",
    " SELECT \n",
    "        \"Supplier GSTIN (PR)\",\n",
    "        \"My GSTIN (PR)\",\n",
    "        \"Document Number (PR)\",\n",
    "        \"Document Date (PR)\",\n",
    "        \"IGST (PR)\",\n",
    "        \"CGST (PR)\",\n",
    "         \"SGST (PR)\",\n",
    "        CAST(REPLACE(\"Total Tax(PR)\", ',', '') AS DECIMAL(10,2)) AS \"Total Tax(PR)\"\n",
    "    FROM result_2_1\n",
    "    WHERE \"Supplier GSTIN/UIN\" is null\"\"\")"
   ]
  },
  {
   "cell_type": "code",
   "execution_count": 47,
   "metadata": {},
   "outputs": [],
   "source": [
    "gl_2_1_1 = duckdb.sql(\"\"\" \n",
    "SELECT \n",
    "    \"Supplier GSTIN/UIN\",\n",
    "     \"MY GSTIN\",\n",
    "     \"Invoice No\", \n",
    "     \"Invoice Date\",\n",
    "     \"IGST (GL)\",\n",
    "     \"CGST (GL)\",\n",
    "     \"SGST (GL)\",\n",
    "     \"total Tax(GL)\",\n",
    "     \"Remark\",\n",
    "     \"HL Remark\" \n",
    " from result_2_1\n",
    " where  \"Supplier GSTIN (PR)\" is null \"\"\")"
   ]
  },
  {
   "cell_type": "code",
   "execution_count": 48,
   "metadata": {},
   "outputs": [],
   "source": [
    "result_2_1_1 = duckdb.sql( \"\"\"\n",
    "        SELECT\n",
    "        gl_file.\"Supplier GSTIN/UIN\",\n",
    "        gl_file.\"MY GSTIN\" ,\n",
    "        gl_file.\"Invoice No\", \n",
    "        gl_file.\"Invoice Date\", \n",
    "        gl_file.\"IGST (GL)\",\n",
    "        gl_file.\"CGST (GL)\",\n",
    "        gl_file.\"SGST (GL)\",\n",
    "        gl_file.\"Total Tax(GL)\" ,\n",
    "        pr_filtered.\"Supplier GSTIN (PR)\", \n",
    "        pr_filtered.\"My GSTIN (PR)\" ,\n",
    "        pr_filtered.\"Document Number (PR)\",\n",
    "        pr_filtered.\"Document Date (PR)\" ,\n",
    "        pr_filtered.\"IGST (PR)\",\n",
    "        pr_filtered. \"CGST (PR)\",\n",
    "        pr_filtered.\"SGST (PR)\",\n",
    "        pr_filtered.\"Total Tax(PR)\",\n",
    "        \"Remark\" ,\n",
    "        \"HL Remark\" ,\n",
    "        'SUPPLIER GSTIN ,MY GSTIN and Tax Amount' as \"Matching keys\",\n",
    "        CASE\n",
    "            WHEN ABS(gl_file.\"Total Tax(GL)\" - pr_filtered.\"Total Tax(PR)\") BETWEEN 1 AND 10 THEN 'Suggested Match'\n",
    "            WHEN abs(gl_file.\"Total Tax(GL)\" - pr_filtered.\"Total Tax(PR)\") <1  THEN 'Exact Match'\n",
    "            WHEN abs(gl_file.\"Total Tax(GL)\" - pr_filtered.\"Total Tax(PR)\") >10  THEN 'Mismatch'\n",
    "            ELSE 'Others In Mismatch Or Entry only in PR/GL'\n",
    "        END AS \"Remarks\",\n",
    "        'Invoice Number and Date Not Match' as \"Remarks_1\"\n",
    "    FROM gl_2_1_1 as gl_file\n",
    "    FULL OUTER JOIN pr_2_1_1 as pr_filtered\n",
    "    ON gl_file.\"Supplier GSTIN/UIN\" = pr_filtered.\"Supplier GSTIN (PR)\"\n",
    "    AND gl_file.\"MY GSTIN\" = pr_filtered.\"My GSTIN (PR)\"\n",
    "    AND abs(pr_filtered.\"Total Tax(PR)\"-gl_file.\"Total Tax(GL)\" ) <=10\n",
    "\"\"\")\n"
   ]
  },
  {
   "cell_type": "code",
   "execution_count": 49,
   "metadata": {},
   "outputs": [],
   "source": [
    "result_2_1_1.df().to_csv('result_2_1_1.csv', index = False)"
   ]
  },
  {
   "cell_type": "code",
   "execution_count": 50,
   "metadata": {},
   "outputs": [],
   "source": [
    "matched_2_1_1 = duckdb.sql( \"\"\"select * from result_2_1_1\n",
    "                               \n",
    "                               where Remarks in ('Exact Match', 'Suggested Match', 'Mismatch') \"\"\" )"
   ]
  },
  {
   "cell_type": "code",
   "execution_count": 51,
   "metadata": {},
   "outputs": [],
   "source": [
    "matched_2_1_1.df().to_csv('matched_2_1_1.csv', index= False)"
   ]
  },
  {
   "cell_type": "code",
   "execution_count": 52,
   "metadata": {},
   "outputs": [
    {
     "name": "stderr",
     "output_type": "stream",
     "text": [
      "C:\\Users\\rishabh.singh_clear\\AppData\\Local\\Temp\\ipykernel_7984\\3980419978.py:1: DtypeWarning: Columns (0,1,2,3,16,17) have mixed types. Specify dtype option on import or set low_memory=False.\n",
      "  result_2_1_1 = pd.read_csv('result_2_1_1.csv')\n"
     ]
    }
   ],
   "source": [
    "result_2_1_1 = pd.read_csv('result_2_1_1.csv')"
   ]
  },
  {
   "cell_type": "code",
   "execution_count": 53,
   "metadata": {},
   "outputs": [],
   "source": [
    "pr_3 = duckdb.sql(\"\"\"\n",
    " SELECT \n",
    "        \"Supplier GSTIN (PR)\",\n",
    "        \"My GSTIN (PR)\",\n",
    "        \"Document Number (PR)\",\n",
    "        \"Document Date (PR)\",\n",
    "        \"IGST (PR)\",\n",
    "        \"CGST (PR)\",\n",
    "         \"SGST (PR)\",\n",
    "        CAST(REPLACE(\"Total Tax(PR)\", ',', '') AS DECIMAL(10,2)) AS \"Total Tax(PR)\"\n",
    "    FROM result_2_1_1\n",
    "    WHERE \"Supplier GSTIN/UIN\" is null\"\"\")"
   ]
  },
  {
   "cell_type": "code",
   "execution_count": 54,
   "metadata": {
    "application/vnd.databricks.v1+cell": {
     "cellMetadata": {
      "byteLimit": 2048000,
      "implicitDf": true,
      "rowLimit": 10000
     },
     "inputWidgets": {},
     "nuid": "b6424895-2b83-47c6-8331-a1926b4be7d8",
     "showTitle": false,
     "title": ""
    }
   },
   "outputs": [],
   "source": [
    "gl_3= duckdb.sql(\"\"\" \n",
    "SELECT \n",
    "    \"Supplier GSTIN/UIN\",\n",
    "     \"MY GSTIN\",\n",
    "     \"Invoice No\", \n",
    "     \"Invoice Date\", \n",
    "     \"IGST (GL)\",\n",
    "    \"CGST (GL)\",\n",
    "    \"SGST (GL)\",\n",
    "    \"total Tax(GL)\",\n",
    "    \"Remark\",\n",
    "    \"HL Remark\" \n",
    " from result_2_1_1\n",
    " where  \"Supplier GSTIN (PR)\" is null \"\"\")\n"
   ]
  },
  {
   "cell_type": "code",
   "execution_count": 55,
   "metadata": {
    "application/vnd.databricks.v1+cell": {
     "cellMetadata": {
      "byteLimit": 2048000,
      "rowLimit": 10000
     },
     "inputWidgets": {},
     "nuid": "1a165e83-367e-4b9e-bcdc-b84c2afd22d9",
     "showTitle": false,
     "title": ""
    }
   },
   "outputs": [],
   "source": [
    "result_3 = duckdb.sql( \"\"\"\n",
    "        SELECT\n",
    "        gl_file.\"Supplier GSTIN/UIN\",\n",
    "        gl_file.\"MY GSTIN\" ,\n",
    "        gl_file.\"Invoice No\", \n",
    "        gl_file.\"Invoice Date\", \n",
    "        gl_file.\"IGST (GL)\",\n",
    "        gl_file.\"CGST (GL)\",\n",
    "        gl_file.\"SGST (GL)\",\n",
    "        gl_file.\"Total Tax(GL)\" ,\n",
    "        pr_filtered.\"Supplier GSTIN (PR)\", \n",
    "        pr_filtered.\"My GSTIN (PR)\" ,\n",
    "        pr_filtered.\"Document Number (PR)\",\n",
    "        pr_filtered.\"Document Date (PR)\" ,\n",
    "        pr_filtered.\"IGST (PR)\",\n",
    "        pr_filtered. \"CGST (PR)\",\n",
    "        pr_filtered.\"SGST (PR)\",\n",
    "        pr_filtered.\"Total Tax(PR)\",\n",
    "        gl_file.\"Remark\" ,\n",
    "        gl_file.\"HL Remark\",\n",
    "        'SUPPLIER GSTIN, BUYER PAN, INVOICE NO, INVOICE DATE' as \"Matching keys\",\n",
    "        CASE\n",
    "            WHEN ABS(gl_file.\"Total Tax(GL)\" - pr_filtered.\"Total Tax(PR)\") BETWEEN 1 AND 10 THEN 'Suggested Match'\n",
    "            WHEN abs(gl_file.\"Total Tax(GL)\" - pr_filtered.\"Total Tax(PR)\") <1  THEN 'Exact Match'\n",
    "            WHEN abs(gl_file.\"Total Tax(GL)\" - pr_filtered.\"Total Tax(PR)\") >10  THEN 'Mismatch'\n",
    "            ELSE 'Others In Mismatch'\n",
    "        END AS \"Remarks\",\n",
    "        'MY GSTIN Not Match' as \"Remarks_1\"\n",
    "    FROM gl_3 as gl_file\n",
    "    FULL OUTER JOIN pr_3 as pr_filtered\n",
    "    ON gl_file.\"Supplier GSTIN/UIN\" = pr_filtered.\"Supplier GSTIN (PR)\"\n",
    "        AND SUBSTRING(gl_file.\"MY GSTIN\", 3, 10)  = SUBSTRING(pr_filtered.\"My GSTIN (PR)\", 3, 10) \n",
    "        AND gl_file.\"Invoice No\" = pr_filtered.\"Document Number (PR)\"\n",
    "        AND  gl_file.\"Invoice Date\" = pr_filtered.\"Document Date (PR)\" \n",
    "\"\"\")\n"
   ]
  },
  {
   "cell_type": "code",
   "execution_count": 56,
   "metadata": {
    "application/vnd.databricks.v1+cell": {
     "cellMetadata": {
      "byteLimit": 2048000,
      "rowLimit": 10000
     },
     "inputWidgets": {},
     "nuid": "07ae0546-c332-4f76-a292-16e1b7b9b677",
     "showTitle": false,
     "title": ""
    }
   },
   "outputs": [],
   "source": [
    "result_3.df().to_csv('result_3.csv', index = False)"
   ]
  },
  {
   "cell_type": "code",
   "execution_count": 57,
   "metadata": {
    "application/vnd.databricks.v1+cell": {
     "cellMetadata": {
      "byteLimit": 2048000,
      "rowLimit": 10000
     },
     "inputWidgets": {},
     "nuid": "0d809a59-4014-476b-8c91-a75b7a8be249",
     "showTitle": false,
     "title": ""
    }
   },
   "outputs": [],
   "source": [
    "matched_3 = duckdb.sql( \"\"\"select * from result_3\n",
    "                               \n",
    "                               where Remarks in ('Exact Match', 'Suggested Match', 'Mismatch') \"\"\")"
   ]
  },
  {
   "cell_type": "code",
   "execution_count": 58,
   "metadata": {
    "application/vnd.databricks.v1+cell": {
     "cellMetadata": {
      "byteLimit": 2048000,
      "rowLimit": 10000
     },
     "inputWidgets": {},
     "nuid": "2bde78b5-961b-4903-908a-9e9c8e775944",
     "showTitle": false,
     "title": ""
    }
   },
   "outputs": [],
   "source": [
    "# matched_3.shape"
   ]
  },
  {
   "cell_type": "code",
   "execution_count": 59,
   "metadata": {},
   "outputs": [],
   "source": [
    "matched_3.df().to_csv('matched_3.csv', index= False)"
   ]
  },
  {
   "cell_type": "code",
   "execution_count": 60,
   "metadata": {},
   "outputs": [],
   "source": [
    "result_3= pd.read_csv('result_3.csv')"
   ]
  },
  {
   "cell_type": "code",
   "execution_count": 61,
   "metadata": {
    "application/vnd.databricks.v1+cell": {
     "cellMetadata": {
      "byteLimit": 2048000,
      "implicitDf": true,
      "rowLimit": 10000
     },
     "inputWidgets": {},
     "nuid": "6f485757-6f5d-4bd9-b00e-8dd35ace4a5f",
     "showTitle": false,
     "title": ""
    }
   },
   "outputs": [],
   "source": [
    "pr_4= duckdb.sql(\"\"\" \n",
    " SELECT \n",
    "        \"Supplier GSTIN (PR)\",\n",
    "        \"My GSTIN (PR)\",\n",
    "        \"Document Number (PR)\",\n",
    "        \"Document Date (PR)\",\n",
    "        \"IGST (PR)\", \n",
    "        \"CGST (PR)\",  \n",
    "        \"SGST (PR)\",\n",
    "        CAST(REPLACE(\"Total Tax(PR)\", ',', '') AS DECIMAL(10,2)) AS \"Total Tax(PR)\"\n",
    "    FROM result_3\n",
    "    WHERE \"Supplier GSTIN/UIN\" is null  \"\"\")"
   ]
  },
  {
   "cell_type": "code",
   "execution_count": 62,
   "metadata": {
    "application/vnd.databricks.v1+cell": {
     "cellMetadata": {
      "byteLimit": 2048000,
      "implicitDf": true,
      "rowLimit": 10000
     },
     "inputWidgets": {},
     "nuid": "cf541316-08fc-4ea6-b586-df4506c4af99",
     "showTitle": false,
     "title": ""
    }
   },
   "outputs": [],
   "source": [
    " gl_4 = duckdb.sql(\"\"\"\n",
    "SELECT \n",
    "    \"Supplier GSTIN/UIN\",\n",
    "     \"MY GSTIN\",\n",
    "     \"Invoice No\", \n",
    "     \"Invoice Date\", \n",
    "     \"IGST (GL)\",\n",
    "    \"CGST (GL)\",\n",
    "    \"SGST (GL)\",\n",
    "    \"total Tax(GL)\",\n",
    "    \"Remark\",\n",
    "    \"HL Remark\" ,\n",
    " from result_3\n",
    " where  \"Supplier GSTIN (PR)\" is null \"\"\")"
   ]
  },
  {
   "cell_type": "code",
   "execution_count": 64,
   "metadata": {
    "application/vnd.databricks.v1+cell": {
     "cellMetadata": {
      "byteLimit": 2048000,
      "rowLimit": 10000
     },
     "inputWidgets": {},
     "nuid": "90b0af95-adbb-47d8-89b7-afebea32f7bb",
     "showTitle": false,
     "title": ""
    }
   },
   "outputs": [],
   "source": [
    "result_4 = duckdb.sql( \"\"\"\n",
    "        SELECT\n",
    "        gl_file.\"Supplier GSTIN/UIN\",\n",
    "        gl_file.\"MY GSTIN\" ,\n",
    "        gl_file.\"Invoice No\", \n",
    "        gl_file.\"Invoice Date\",\n",
    "        gl_file.\"IGST (GL)\",\n",
    "        gl_file.\"CGST (GL)\",\n",
    "        gl_file.\"SGST (GL)\",\n",
    "        gl_file.\"Total Tax(GL)\" ,\n",
    "        pr_filtered.\"Supplier GSTIN (PR)\", \n",
    "        pr_filtered.\"My GSTIN (PR)\" ,\n",
    "        pr_filtered.\"Document Number (PR)\",\n",
    "        pr_filtered.\"Document Date (PR)\" ,\n",
    "        pr_filtered.\"IGST (PR)\",\n",
    "        pr_filtered. \"CGST (PR)\",\n",
    "        pr_filtered.\"SGST (PR)\",\n",
    "        pr_filtered.\"Total Tax(PR)\",\n",
    "        case when gl_file.\"Remark\" is null then '' else gl_file.\"Remark\" end as \"Remark\" ,\n",
    "        case when gl_file.\"HL Remark\" is null then '' else gl_file.\"HL Remark\" end as \"HL Remark\",\n",
    "        'SUPPLIER GSTIN, BUYER PAN, INVOICE NO' as \"Matching keys\",\n",
    "        CASE\n",
    "            WHEN ABS(gl_file.\"Total Tax(GL)\" - pr_filtered.\"Total Tax(PR)\") BETWEEN 1 AND 10 THEN 'Suggested Match'\n",
    "            WHEN abs(gl_file.\"Total Tax(GL)\" - pr_filtered.\"Total Tax(PR)\") <1  THEN 'Exact Match'\n",
    "            WHEN abs(gl_file.\"Total Tax(GL)\" - pr_filtered.\"Total Tax(PR)\") >10  THEN 'Mismatch'\n",
    "            ELSE 'Others In Mismatch'\n",
    "        END AS \"Remarks\",\n",
    "        'MY GSTIN and Date Not match' as \"Remarks_1\"\n",
    "    FROM gl_4 as gl_file\n",
    "    FULL OUTER JOIN pr_4 as pr_filtered\n",
    "    ON gl_file.\"Supplier GSTIN/UIN\" = pr_filtered.\"Supplier GSTIN (PR)\"\n",
    "        AND SUBSTRING(gl_file.\"MY GSTIN\", 3, 10)  = SUBSTRING(pr_filtered.\"My GSTIN (PR)\", 3, 10) \n",
    "        AND gl_file.\"Invoice No\" = pr_filtered.\"Document Number (PR)\"\n",
    "    \n",
    "\"\"\")\n"
   ]
  },
  {
   "cell_type": "code",
   "execution_count": 65,
   "metadata": {
    "application/vnd.databricks.v1+cell": {
     "cellMetadata": {
      "byteLimit": 2048000,
      "rowLimit": 10000
     },
     "inputWidgets": {},
     "nuid": "cc97a6b1-2c2b-41c2-9db9-c466f223fb0c",
     "showTitle": false,
     "title": ""
    }
   },
   "outputs": [],
   "source": [
    "result_4.df().to_csv('result_4.csv', index = False)"
   ]
  },
  {
   "cell_type": "code",
   "execution_count": 66,
   "metadata": {
    "application/vnd.databricks.v1+cell": {
     "cellMetadata": {
      "byteLimit": 2048000,
      "rowLimit": 10000
     },
     "inputWidgets": {},
     "nuid": "9a6cebcd-3919-4714-b3b6-d694300b003b",
     "showTitle": false,
     "title": ""
    }
   },
   "outputs": [],
   "source": [
    "matched_4 = duckdb.sql( \"\"\"select * from result_4\n",
    "                               \n",
    "                               where Remarks in ('Exact Match', 'Suggested Match', 'Mismatch') \"\"\" )"
   ]
  },
  {
   "cell_type": "code",
   "execution_count": 67,
   "metadata": {
    "application/vnd.databricks.v1+cell": {
     "cellMetadata": {
      "byteLimit": 2048000,
      "rowLimit": 10000
     },
     "inputWidgets": {},
     "nuid": "4f365caf-9fd7-4c5b-a328-8f36c2882b4f",
     "showTitle": false,
     "title": ""
    }
   },
   "outputs": [],
   "source": [
    "matched_4.df().to_csv('matched_4.csv', index= False)"
   ]
  },
  {
   "cell_type": "code",
   "execution_count": 68,
   "metadata": {},
   "outputs": [],
   "source": [
    "result_4 = pd.read_csv('result_4.csv')"
   ]
  },
  {
   "cell_type": "code",
   "execution_count": 69,
   "metadata": {
    "application/vnd.databricks.v1+cell": {
     "cellMetadata": {
      "byteLimit": 2048000,
      "implicitDf": true,
      "rowLimit": 10000
     },
     "inputWidgets": {},
     "nuid": "6e207a7c-3c06-443b-8da6-632f9031057c",
     "showTitle": false,
     "title": ""
    }
   },
   "outputs": [],
   "source": [
    "pr_4_1  =duckdb.sql(\"\"\"\n",
    " SELECT \n",
    "        \"Supplier GSTIN (PR)\",\n",
    "        \"My GSTIN (PR)\",\n",
    "        \"Document Number (PR)\",\n",
    "        \"Document Date (PR)\",\n",
    "        \"IGST (PR)\",\n",
    "        \"CGST (PR)\",\n",
    "        \"SGST (PR)\",\n",
    "        CAST(REPLACE(\"Total Tax(PR)\", ',', '') AS DECIMAL(10,2)) AS \"Total Tax(PR)\"\n",
    "    FROM result_4\n",
    "    WHERE \"Supplier GSTIN/UIN\" is null  \"\"\")"
   ]
  },
  {
   "cell_type": "code",
   "execution_count": 70,
   "metadata": {
    "application/vnd.databricks.v1+cell": {
     "cellMetadata": {
      "byteLimit": 2048000,
      "implicitDf": true,
      "rowLimit": 10000
     },
     "inputWidgets": {},
     "nuid": "2d8dee3f-976c-4c8b-9402-d81626756079",
     "showTitle": false,
     "title": ""
    }
   },
   "outputs": [],
   "source": [
    " gl_4_1 = duckdb.sql(\"\"\"\n",
    "SELECT \n",
    "    \"Supplier GSTIN/UIN\",\n",
    "     \"MY GSTIN\",\n",
    "     \"Invoice No\", \n",
    "     \"Invoice Date\", \n",
    "     \"IGST (GL)\",\n",
    "    \"CGST (GL)\",\n",
    "    \"SGST (GL)\",\n",
    "    \"total Tax(GL)\",\n",
    "     \"Remark\" ,\n",
    "    \"HL Remark\",\n",
    " from result_4\n",
    " where  \"Supplier GSTIN (PR)\" is null \"\"\")"
   ]
  },
  {
   "cell_type": "code",
   "execution_count": 71,
   "metadata": {
    "application/vnd.databricks.v1+cell": {
     "cellMetadata": {
      "byteLimit": 2048000,
      "rowLimit": 10000
     },
     "inputWidgets": {},
     "nuid": "b0aeadd5-33df-477d-a57f-892499c9ca65",
     "showTitle": false,
     "title": ""
    }
   },
   "outputs": [],
   "source": [
    "result_4_1 = duckdb.sql( \"\"\"\n",
    "        SELECT\n",
    "        gl_file.\"Supplier GSTIN/UIN\",\n",
    "        gl_file.\"MY GSTIN\" ,\n",
    "        gl_file.\"Invoice No\", \n",
    "        gl_file.\"Invoice Date\", \n",
    "        gl_file.\"IGST (GL)\",\n",
    "        gl_file.\"CGST (GL)\",\n",
    "        gl_file.\"SGST (GL)\",\n",
    "        gl_file.\"Total Tax(GL)\" ,\n",
    "        pr_filtered.\"Supplier GSTIN (PR)\", \n",
    "        pr_filtered.\"My GSTIN (PR)\" ,\n",
    "        pr_filtered.\"Document Number (PR)\",\n",
    "        pr_filtered.\"Document Date (PR)\",\n",
    "        pr_filtered.\"IGST (PR)\",\n",
    "        pr_filtered. \"CGST (PR)\",\n",
    "        pr_filtered.\"SGST (PR)\",\n",
    "        pr_filtered.\"Total Tax(PR)\",\n",
    "        case when gl_file.\"Remark\" is null then '' else gl_file.\"Remark\" end as \"Remark\" ,\n",
    "        case when gl_file.\"HL Remark\" is null then '' else gl_file.\"HL Remark\" end as \"HL Remark\",\n",
    "        'SUPPLIER GSTIN, BUYER PAN, INVOICE NO(FUZZY)' as \"Matching keys\",\n",
    "        CASE\n",
    "            WHEN ABS(gl_file.\"Total Tax(GL)\" - pr_filtered.\"Total Tax(PR)\") BETWEEN 1 AND 10 THEN 'Suggested Match'\n",
    "            WHEN abs(gl_file.\"Total Tax(GL)\" - pr_filtered.\"Total Tax(PR)\") <1  THEN 'Exact Match'\n",
    "            WHEN abs(gl_file.\"Total Tax(GL)\" - pr_filtered.\"Total Tax(PR)\") >10  THEN 'Mismatch'\n",
    "            ELSE 'Others In Mismatch'\n",
    "        END AS \"Remarks\",\n",
    "        'MY GSTIN and Date not match' as \"Remarks_1\"\n",
    "    FROM gl_4_1 as gl_file\n",
    "    FULL OUTER JOIN pr_4_1 as pr_filtered\n",
    "    ON gl_file.\"Supplier GSTIN/UIN\" = pr_filtered.\"Supplier GSTIN (PR)\"\n",
    "        AND SUBSTRING(gl_file.\"MY GSTIN\", 3, 10)  = SUBSTRING(pr_filtered.\"My GSTIN (PR)\", 3, 10) \n",
    "        AND REGEXP_REPLACE(gl_file.\"Invoice No\", '[^a-zA-Z0-9]', '') =\n",
    "        REGEXP_REPLACE(pr_filtered.\"Document Number (PR)\", '[^a-zA-Z0-9]', '')\n",
    "      \n",
    "\"\"\")\n"
   ]
  },
  {
   "cell_type": "code",
   "execution_count": 72,
   "metadata": {
    "application/vnd.databricks.v1+cell": {
     "cellMetadata": {
      "byteLimit": 2048000,
      "rowLimit": 10000
     },
     "inputWidgets": {},
     "nuid": "221cf183-881c-4226-ba39-485325dc5fd5",
     "showTitle": false,
     "title": ""
    }
   },
   "outputs": [],
   "source": [
    "result_4_1.df().to_csv('result_4_1.csv', index= False)"
   ]
  },
  {
   "cell_type": "code",
   "execution_count": 73,
   "metadata": {
    "application/vnd.databricks.v1+cell": {
     "cellMetadata": {
      "byteLimit": 2048000,
      "rowLimit": 10000
     },
     "inputWidgets": {},
     "nuid": "c25ce991-744d-4a85-9bf2-2dcac9d7dcee",
     "showTitle": false,
     "title": ""
    }
   },
   "outputs": [],
   "source": [
    "matched_4_1 = duckdb.sql( \"\"\"select * from result_4_1\n",
    "                               \n",
    "                               where Remarks in ('Exact Match', 'Suggested Match', 'Mismatch') \"\"\")"
   ]
  },
  {
   "cell_type": "code",
   "execution_count": 74,
   "metadata": {
    "application/vnd.databricks.v1+cell": {
     "cellMetadata": {
      "byteLimit": 2048000,
      "rowLimit": 10000
     },
     "inputWidgets": {},
     "nuid": "fb966ed3-7971-4405-bc7d-60619ac369ca",
     "showTitle": false,
     "title": ""
    }
   },
   "outputs": [],
   "source": [
    "matched_4_1.df().to_csv('matched_4_1.csv', index= False)"
   ]
  },
  {
   "cell_type": "code",
   "execution_count": 75,
   "metadata": {},
   "outputs": [],
   "source": [
    "result_4_1 = pd.read_csv('result_4_1.csv')"
   ]
  },
  {
   "cell_type": "code",
   "execution_count": 76,
   "metadata": {},
   "outputs": [],
   "source": [
    "pr_4_1_1  =duckdb.sql(\"\"\"\n",
    " SELECT \n",
    "        \"Supplier GSTIN (PR)\",\n",
    "        \"My GSTIN (PR)\",\n",
    "        \"Document Number (PR)\",\n",
    "        \"Document Date (PR)\",\n",
    "        \"IGST (PR)\",\n",
    "        \"CGST (PR)\",\n",
    "        \"SGST (PR)\",\n",
    "        CAST(REPLACE(\"Total Tax(PR)\", ',', '') AS DECIMAL(10,2)) AS \"Total Tax(PR)\"\n",
    "    FROM result_4_1\n",
    "    WHERE \"Supplier GSTIN/UIN\" is null  \"\"\")"
   ]
  },
  {
   "cell_type": "code",
   "execution_count": 77,
   "metadata": {},
   "outputs": [],
   "source": [
    " gl_4_1_1 = duckdb.sql(\"\"\"\n",
    "SELECT \n",
    "    \"Supplier GSTIN/UIN\",\n",
    "     \"MY GSTIN\",\n",
    "     \"Invoice No\", \n",
    "     \"Invoice Date\", \n",
    "     \"IGST (GL)\",\n",
    "    \"CGST (GL)\",\n",
    "    \"SGST (GL)\",\n",
    "    \"total Tax(GL)\",\n",
    "     \"Remark\" ,\n",
    "    \"HL Remark\",\n",
    " from result_4_1\n",
    " where  \"Supplier GSTIN (PR)\" is null \"\"\")"
   ]
  },
  {
   "cell_type": "code",
   "execution_count": 78,
   "metadata": {},
   "outputs": [],
   "source": [
    "result_4_1_1 = duckdb.sql( \"\"\"\n",
    "        SELECT\n",
    "        gl_file.\"Supplier GSTIN/UIN\",\n",
    "        gl_file.\"MY GSTIN\" ,\n",
    "        gl_file.\"Invoice No\", \n",
    "        gl_file.\"Invoice Date\",\n",
    "        gl_file.\"IGST (GL)\",\n",
    "        gl_file.\"CGST (GL)\",\n",
    "        gl_file.\"SGST (GL)\",\n",
    "        gl_file.\"Total Tax(GL)\" ,\n",
    "        pr_filtered.\"Supplier GSTIN (PR)\", \n",
    "        pr_filtered.\"My GSTIN (PR)\" ,\n",
    "        pr_filtered.\"Document Number (PR)\",\n",
    "        pr_filtered.\"Document Date (PR)\" ,\n",
    "        pr_filtered.\"IGST (PR)\",\n",
    "        pr_filtered. \"CGST (PR)\",\n",
    "        pr_filtered.\"SGST (PR)\",\n",
    "        pr_filtered.\"Total Tax(PR)\",\n",
    "        \"Remark\" ,\n",
    "        \"HL Remark\",\n",
    "        'SUPPLIER GSTIN, BUYER PAN, Tax Amount' as \"Matching keys\",\n",
    "        CASE\n",
    "            WHEN ABS(gl_file.\"Total Tax(GL)\" - pr_filtered.\"Total Tax(PR)\") BETWEEN 1 AND 10 THEN 'Suggested Match'\n",
    "            WHEN abs(gl_file.\"Total Tax(GL)\" - pr_filtered.\"Total Tax(PR)\") <1  THEN 'Exact Match'\n",
    "            WHEN abs(gl_file.\"Total Tax(GL)\" - pr_filtered.\"Total Tax(PR)\") >10  THEN 'Mismatch'\n",
    "            ELSE 'Others In Mismatch Or Entry only in PR/GL'\n",
    "        END AS \"Remarks\",\n",
    "        'MY GSTIN , Invoice No and Date Not match' as \"Remarks_1\"\n",
    "    FROM gl_4_1_1 as gl_file\n",
    "    FULL OUTER JOIN pr_4_1_1 as pr_filtered\n",
    "    ON gl_file.\"Supplier GSTIN/UIN\" = pr_filtered.\"Supplier GSTIN (PR)\"\n",
    "        AND SUBSTRING(gl_file.\"MY GSTIN\", 3, 10)  = SUBSTRING(pr_filtered.\"My GSTIN (PR)\", 3, 10) \n",
    "        AND abs(pr_filtered.\"Total Tax(PR)\"-gl_file.\"Total Tax(GL)\" ) <=10\n",
    "        \"\"\")\n"
   ]
  },
  {
   "cell_type": "code",
   "execution_count": 79,
   "metadata": {},
   "outputs": [],
   "source": [
    "result_4_1_1.df().to_csv('result_4_1_1.csv', index= False)"
   ]
  },
  {
   "cell_type": "code",
   "execution_count": 80,
   "metadata": {},
   "outputs": [],
   "source": [
    "matched_4_1_1 = duckdb.sql( \"\"\"select * from result_4_1_1\n",
    "                               \n",
    "                               where Remarks in ('Exact Match', 'Suggested Match', 'Mismatch') \"\"\")"
   ]
  },
  {
   "cell_type": "code",
   "execution_count": 81,
   "metadata": {},
   "outputs": [],
   "source": [
    "matched_4_1_1.df().to_csv('matched_4_1_1.csv', index= False)"
   ]
  },
  {
   "cell_type": "code",
   "execution_count": 82,
   "metadata": {},
   "outputs": [
    {
     "name": "stderr",
     "output_type": "stream",
     "text": [
      "C:\\Users\\rishabh.singh_clear\\AppData\\Local\\Temp\\ipykernel_7984\\3233401830.py:1: DtypeWarning: Columns (0,1,2,3,16,17) have mixed types. Specify dtype option on import or set low_memory=False.\n",
      "  result_4_1_1 = pd.read_csv('result_4_1_1.csv')\n"
     ]
    }
   ],
   "source": [
    "result_4_1_1 = pd.read_csv('result_4_1_1.csv')"
   ]
  },
  {
   "cell_type": "code",
   "execution_count": 85,
   "metadata": {
    "application/vnd.databricks.v1+cell": {
     "cellMetadata": {
      "byteLimit": 2048000,
      "implicitDf": true,
      "rowLimit": 10000
     },
     "inputWidgets": {},
     "nuid": "82622003-c53c-480f-be0e-ea7443af6d80",
     "showTitle": false,
     "title": ""
    }
   },
   "outputs": [],
   "source": [
    "pr_5 = duckdb.sql(\"\"\"\n",
    "         SELECT \n",
    "        \"Supplier GSTIN (PR)\",\n",
    "        \"My GSTIN (PR)\",\n",
    "        \"Document Number (PR)\",\n",
    "        \"Document Date (PR)\",\n",
    "        \"IGST (PR)\",\n",
    "        \"CGST (PR)\",\n",
    "        \"SGST (PR)\",\n",
    "        CAST(REPLACE(\"Total Tax(PR)\", ',', '') AS DECIMAL(10,2)) AS \"Total Tax(PR)\"\n",
    "    FROM result_4_1_1\n",
    "    WHERE \"Supplier GSTIN/UIN\" is null\"\"\")"
   ]
  },
  {
   "cell_type": "code",
   "execution_count": 86,
   "metadata": {
    "application/vnd.databricks.v1+cell": {
     "cellMetadata": {
      "byteLimit": 2048000,
      "implicitDf": true,
      "rowLimit": 10000
     },
     "inputWidgets": {},
     "nuid": "1d351ea3-a571-4db9-a227-f346007c3272",
     "showTitle": false,
     "title": ""
    }
   },
   "outputs": [],
   "source": [
    " gl_5 = duckdb.sql(\"\"\"\n",
    "SELECT \n",
    "    \"Supplier GSTIN/UIN\",\n",
    "     \"MY GSTIN\",\n",
    "     \"Invoice No\", \n",
    "     \"Invoice Date\", \n",
    "     \"IGST (GL)\",\n",
    "     \"CGST (GL)\",\n",
    "     \"SGST (GL)\",\n",
    "     \"total Tax(GL)\",\n",
    "     \"Remark\",\n",
    "     \"HL Remark\",\n",
    " from result_4_1_1\n",
    " where  \"Supplier GSTIN (PR)\" is null \"\"\")"
   ]
  },
  {
   "cell_type": "code",
   "execution_count": 87,
   "metadata": {
    "application/vnd.databricks.v1+cell": {
     "cellMetadata": {
      "byteLimit": 2048000,
      "rowLimit": 10000
     },
     "inputWidgets": {},
     "nuid": "9b6e6756-77e0-4786-944a-82bb3563e185",
     "showTitle": false,
     "title": ""
    }
   },
   "outputs": [],
   "source": [
    "result_5 = duckdb.sql( \"\"\"\n",
    "        SELECT\n",
    "        gl_file.\"Supplier GSTIN/UIN\",\n",
    "        gl_file.\"MY GSTIN\" ,\n",
    "        gl_file.\"Invoice No\", \n",
    "        gl_file.\"Invoice Date\",\n",
    "        gl_file.\"IGST (GL)\",\n",
    "        gl_file.\"CGST (GL)\",\n",
    "        gl_file.\"SGST (GL)\",\n",
    "        gl_file.\"Total Tax(GL)\",\n",
    "       \n",
    "        pr_filtered.\"Supplier GSTIN (PR)\", \n",
    "        pr_filtered.\"My GSTIN (PR)\" ,\n",
    "        pr_filtered.\"Document Number (PR)\",\n",
    "        pr_filtered.\"Document Date (PR)\" ,\n",
    "        pr_filtered.\"IGST (PR)\",\n",
    "        pr_filtered. \"CGST (PR)\",\n",
    "        pr_filtered.\"SGST (PR)\",\n",
    "        pr_filtered.\"Total Tax(PR)\",\n",
    "        case when gl_file.\"Remark\" is null then '' else gl_file.\"Remark\" end as \"Remark\" ,\n",
    "        case when gl_file.\"HL Remark\" is null then '' else gl_file.\"HL Remark\" end as \"HL Remark\" ,\n",
    "        'SUPPLIER PAN, MY GSTIN, INVOICE NO, INVOICE DATE' as \"Matching keys\",\n",
    "        CASE\n",
    "            WHEN ABS(gl_file.\"Total Tax(GL)\" - pr_filtered.\"Total Tax(PR)\") BETWEEN 1 AND 10 THEN 'Suggested Match'\n",
    "            WHEN abs(gl_file.\"Total Tax(GL)\" - pr_filtered.\"Total Tax(PR)\") <1  THEN 'Exact Match'\n",
    "            WHEN abs(gl_file.\"Total Tax(GL)\" - pr_filtered.\"Total Tax(PR)\") >10  THEN 'Mismatch'\n",
    "            ELSE 'Others In Mismatch'\n",
    "        END AS \"Remarks\",\n",
    "        'Supplier GSTIN Not Match' as \"Remarks_1\"\n",
    "    FROM gl_5 as gl_file\n",
    "    FULL OUTER JOIN pr_5 as pr_filtered\n",
    "    ON SUBSTRING(gl_file.\"Supplier GSTIN/UIN\", 3, 10)  = SUBSTRING(pr_filtered.\"Supplier GSTIN (PR)\", 3, 10)\n",
    "        AND gl_file.\"MY GSTIN\" = pr_filtered.\"My GSTIN (PR)\"\n",
    "        AND gl_file.\"Invoice No\" = pr_filtered.\"Document Number (PR)\"\n",
    "        AND  gl_file.\"Invoice Date\" = pr_filtered.\"Document Date (PR)\" \n",
    "\"\"\")"
   ]
  },
  {
   "cell_type": "code",
   "execution_count": 88,
   "metadata": {
    "application/vnd.databricks.v1+cell": {
     "cellMetadata": {
      "byteLimit": 2048000,
      "rowLimit": 10000
     },
     "inputWidgets": {},
     "nuid": "fff24fc0-5c61-4e4b-9e1f-40d5ae6592aa",
     "showTitle": false,
     "title": ""
    }
   },
   "outputs": [],
   "source": [
    "result_5.df().to_csv('result_5.csv', index= False)"
   ]
  },
  {
   "cell_type": "code",
   "execution_count": 89,
   "metadata": {
    "application/vnd.databricks.v1+cell": {
     "cellMetadata": {
      "byteLimit": 2048000,
      "rowLimit": 10000
     },
     "inputWidgets": {},
     "nuid": "1b254419-faf4-483c-8ffd-9749004f0443",
     "showTitle": false,
     "title": ""
    }
   },
   "outputs": [],
   "source": [
    "matched_5 = duckdb.sql( \"\"\"select * from result_5\n",
    "                               \n",
    "                               where Remarks in ('Exact Match', 'Suggested Match', 'Mismatch') \"\"\" )"
   ]
  },
  {
   "cell_type": "code",
   "execution_count": 90,
   "metadata": {
    "application/vnd.databricks.v1+cell": {
     "cellMetadata": {
      "byteLimit": 2048000,
      "rowLimit": 10000
     },
     "inputWidgets": {},
     "nuid": "440fabae-200a-4bf4-91d0-658a2b79332f",
     "showTitle": false,
     "title": ""
    }
   },
   "outputs": [],
   "source": [
    "matched_5.df().to_csv('matched_5.csv', index= False)"
   ]
  },
  {
   "cell_type": "code",
   "execution_count": 91,
   "metadata": {},
   "outputs": [
    {
     "name": "stderr",
     "output_type": "stream",
     "text": [
      "C:\\Users\\rishabh.singh_clear\\AppData\\Local\\Temp\\ipykernel_7984\\3965734633.py:1: DtypeWarning: Columns (0,1,2,3,16,17) have mixed types. Specify dtype option on import or set low_memory=False.\n",
      "  result_5= pd.read_csv('result_5.csv')\n"
     ]
    }
   ],
   "source": [
    "result_5= pd.read_csv('result_5.csv')"
   ]
  },
  {
   "cell_type": "code",
   "execution_count": 92,
   "metadata": {
    "application/vnd.databricks.v1+cell": {
     "cellMetadata": {
      "byteLimit": 2048000,
      "implicitDf": true,
      "rowLimit": 10000
     },
     "inputWidgets": {},
     "nuid": "5988e853-2d3f-48bc-a976-186450311f7c",
     "showTitle": false,
     "title": ""
    }
   },
   "outputs": [],
   "source": [
    " pr_6 = duckdb.sql(\"\"\"\n",
    " SELECT \n",
    "        \"Supplier GSTIN (PR)\",\n",
    "        \"My GSTIN (PR)\",\n",
    "        \"Document Number (PR)\",\n",
    "        \"Document Date (PR)\",\n",
    "        \"IGST (PR)\",\n",
    "        \"CGST (PR)\",\n",
    "        \"SGST (PR)\",\n",
    "        CAST(REPLACE(\"Total Tax(PR)\", ',', '') AS DECIMAL(10,2)) AS \"Total Tax(PR)\"\n",
    "    FROM result_5\n",
    "    WHERE \"Supplier GSTIN/UIN\" is null \"\"\")"
   ]
  },
  {
   "cell_type": "code",
   "execution_count": 93,
   "metadata": {
    "application/vnd.databricks.v1+cell": {
     "cellMetadata": {
      "byteLimit": 2048000,
      "implicitDf": true,
      "rowLimit": 10000
     },
     "inputWidgets": {},
     "nuid": "0e0c80f1-c549-46e2-9c45-b42d06164c9e",
     "showTitle": false,
     "title": ""
    }
   },
   "outputs": [],
   "source": [
    "gl_6 = duckdb.sql(\"\"\"\n",
    "SELECT \n",
    "    \"Supplier GSTIN/UIN\",\n",
    "     \"MY GSTIN\",\n",
    "     \"Invoice No\", \n",
    "     \"Invoice Date\", \n",
    "      \"IGST (GL)\",\n",
    "      \"CGST (GL)\",\n",
    "      \"SGST (GL)\",\n",
    "      \"total Tax(GL)\",\n",
    "     \"Remark\",\n",
    "     \"HL Remark\" \n",
    " from result_5\n",
    " where  \"Supplier GSTIN (PR)\" is null \"\"\")"
   ]
  },
  {
   "cell_type": "code",
   "execution_count": 94,
   "metadata": {
    "application/vnd.databricks.v1+cell": {
     "cellMetadata": {
      "byteLimit": 2048000,
      "rowLimit": 10000
     },
     "inputWidgets": {},
     "nuid": "cadc36fa-8503-4bb0-8b40-e56c1a392b92",
     "showTitle": false,
     "title": ""
    }
   },
   "outputs": [],
   "source": [
    "result_6 = duckdb.sql( \"\"\"\n",
    "        SELECT\n",
    "        gl_file.\"Supplier GSTIN/UIN\",\n",
    "        gl_file.\"MY GSTIN\" ,\n",
    "        gl_file.\"Invoice No\", \n",
    "        gl_file.\"Invoice Date\", \n",
    "        gl_file.\"IGST (GL)\",\n",
    "        gl_file.\"CGST (GL)\",\n",
    "        gl_file.\"SGST (GL)\",\n",
    "        gl_file.\"Total Tax(GL)\",\n",
    "        pr_filtered.\"Supplier GSTIN (PR)\", \n",
    "        pr_filtered.\"My GSTIN (PR)\" ,\n",
    "        pr_filtered.\"Document Number (PR)\",\n",
    "        pr_filtered.\"Document Date (PR)\" ,\n",
    "        pr_filtered.\"IGST (PR)\",\n",
    "        pr_filtered. \"CGST (PR)\",\n",
    "        pr_filtered.\"SGST (PR)\",\n",
    "        pr_filtered.\"Total Tax(PR)\",\n",
    "        \"Remark\" ,\n",
    "        \"HL Remark\" ,\n",
    "        'SUPPLIER PAN, MY GSTIN, INVOICE NO' as \"Matching keys\",\n",
    "        CASE\n",
    "            WHEN ABS(gl_file.\"Total Tax(GL)\" - pr_filtered.\"Total Tax(PR)\") BETWEEN 1 AND 10 THEN 'Suggested Match'\n",
    "            WHEN abs(gl_file.\"Total Tax(GL)\" - pr_filtered.\"Total Tax(PR)\") <1  THEN 'Exact Match'\n",
    "            WHEN abs(gl_file.\"Total Tax(GL)\" - pr_filtered.\"Total Tax(PR)\") >10  THEN 'Mismatch'\n",
    "            ELSE 'Others In Mismatch'\n",
    "        END AS \"Remarks\",\n",
    "        'Supplier GSTIN and Date not match' as \"Remarks_1\"\n",
    "    FROM gl_6 as gl_file\n",
    "    FULL OUTER JOIN pr_6 as pr_filtered\n",
    "    ON SUBSTRING(gl_file.\"Supplier GSTIN/UIN\", 3, 10)  = SUBSTRING(pr_filtered.\"Supplier GSTIN (PR)\", 3, 10)\n",
    "        AND gl_file.\"MY GSTIN\" = pr_filtered.\"My GSTIN (PR)\"\n",
    "        AND gl_file.\"Invoice No\" = pr_filtered.\"Document Number (PR)\"\n",
    "    \n",
    "\"\"\")\n"
   ]
  },
  {
   "cell_type": "code",
   "execution_count": 95,
   "metadata": {
    "application/vnd.databricks.v1+cell": {
     "cellMetadata": {
      "byteLimit": 2048000,
      "rowLimit": 10000
     },
     "inputWidgets": {},
     "nuid": "611adce2-0d46-4b35-9c65-8602fa601b84",
     "showTitle": false,
     "title": ""
    }
   },
   "outputs": [],
   "source": [
    "result_6.df().to_csv('result_6.csv', index= False)"
   ]
  },
  {
   "cell_type": "code",
   "execution_count": 96,
   "metadata": {
    "application/vnd.databricks.v1+cell": {
     "cellMetadata": {
      "byteLimit": 2048000,
      "rowLimit": 10000
     },
     "inputWidgets": {},
     "nuid": "2394782d-44c3-46a8-8a24-230c0ff27a66",
     "showTitle": false,
     "title": ""
    }
   },
   "outputs": [],
   "source": [
    "matched_6 = duckdb.sql( \"\"\"select * from result_6\n",
    "                               \n",
    "                               where Remarks in ('Exact Match', 'Suggested Match', 'Mismatch') \"\"\" )"
   ]
  },
  {
   "cell_type": "code",
   "execution_count": 97,
   "metadata": {
    "application/vnd.databricks.v1+cell": {
     "cellMetadata": {
      "byteLimit": 2048000,
      "rowLimit": 10000
     },
     "inputWidgets": {},
     "nuid": "7ebad9db-1a3f-41dc-93d5-b13705c07f43",
     "showTitle": false,
     "title": ""
    }
   },
   "outputs": [],
   "source": [
    "matched_6.df().to_csv('matched_6.csv', index= False)"
   ]
  },
  {
   "cell_type": "code",
   "execution_count": 98,
   "metadata": {},
   "outputs": [
    {
     "name": "stderr",
     "output_type": "stream",
     "text": [
      "C:\\Users\\rishabh.singh_clear\\AppData\\Local\\Temp\\ipykernel_7984\\4250211578.py:1: DtypeWarning: Columns (0,1,2,3,16,17) have mixed types. Specify dtype option on import or set low_memory=False.\n",
      "  result_6 = pd.read_csv('result_6.csv')\n"
     ]
    }
   ],
   "source": [
    "result_6 = pd.read_csv('result_6.csv')"
   ]
  },
  {
   "cell_type": "code",
   "execution_count": 99,
   "metadata": {
    "application/vnd.databricks.v1+cell": {
     "cellMetadata": {
      "byteLimit": 2048000,
      "implicitDf": true,
      "rowLimit": 10000
     },
     "inputWidgets": {},
     "nuid": "316e955e-3c96-4037-a5a7-be315eb693df",
     "showTitle": false,
     "title": ""
    }
   },
   "outputs": [],
   "source": [
    " pr_6_1 = duckdb.sql(\"\"\"\n",
    " SELECT \n",
    "        \"Supplier GSTIN (PR)\",\n",
    "        \"My GSTIN (PR)\",\n",
    "        \"Document Number (PR)\",\n",
    "        \"Document Date (PR)\",\n",
    "        \"IGST (PR)\",\n",
    "        \"CGST (PR)\",\n",
    "        \"SGST (PR)\",\n",
    "        CAST(REPLACE(\"Total Tax(PR)\", ',', '') AS DECIMAL(10,2)) AS \"Total Tax(PR)\"\n",
    "    FROM result_6\n",
    "    WHERE \"Supplier GSTIN/UIN\" is null \"\"\")"
   ]
  },
  {
   "cell_type": "code",
   "execution_count": 100,
   "metadata": {
    "application/vnd.databricks.v1+cell": {
     "cellMetadata": {
      "byteLimit": 2048000,
      "implicitDf": true,
      "rowLimit": 10000
     },
     "inputWidgets": {},
     "nuid": "1ec2081b-a864-4a90-84cc-06ede836373a",
     "showTitle": false,
     "title": ""
    }
   },
   "outputs": [],
   "source": [
    " gl_6_1 = duckdb.sql(\"\"\"\n",
    "SELECT \n",
    "    \"Supplier GSTIN/UIN\",\n",
    "     \"MY GSTIN\",\n",
    "     \"Invoice No\", \n",
    "     \"Invoice Date\", \n",
    "     \"IGST (GL)\",\n",
    "    \"CGST (GL)\",\n",
    "    \"SGST (GL)\",\n",
    "    \"total Tax(GL)\",\n",
    "     \"Remark\",\n",
    "     \"HL Remark\" \n",
    " from result_6\n",
    " where  \"Supplier GSTIN (PR)\" is null \"\"\")"
   ]
  },
  {
   "cell_type": "code",
   "execution_count": 101,
   "metadata": {
    "application/vnd.databricks.v1+cell": {
     "cellMetadata": {
      "byteLimit": 2048000,
      "rowLimit": 10000
     },
     "inputWidgets": {},
     "nuid": "b62069fd-4566-4be8-9aaa-e67385cad428",
     "showTitle": false,
     "title": ""
    }
   },
   "outputs": [],
   "source": [
    "result_6_1 = duckdb.sql( \"\"\"\n",
    "        SELECT\n",
    "        gl_file.\"Supplier GSTIN/UIN\",\n",
    "        gl_file.\"MY GSTIN\" ,\n",
    "        gl_file.\"Invoice No\", \n",
    "        gl_file.\"Invoice Date\", \n",
    "        gl_file.\"IGST (GL)\",\n",
    "        gl_file.\"CGST (GL)\",\n",
    "        gl_file.\"SGST (GL)\",\n",
    "        gl_file.\"Total Tax(GL)\" ,\n",
    "        pr_filtered.\"Supplier GSTIN (PR)\", \n",
    "        pr_filtered.\"My GSTIN (PR)\" ,\n",
    "        pr_filtered.\"Document Number (PR)\",\n",
    "        pr_filtered.\"Document Date (PR)\",\n",
    "        pr_filtered.\"IGST (PR)\",\n",
    "        pr_filtered. \"CGST (PR)\",\n",
    "        pr_filtered.\"SGST (PR)\",\n",
    "         pr_filtered.\"Total Tax(PR)\",\n",
    "        case when gl_file.\"Remark\" is null then '' else gl_file.\"Remark\" end as \"Remark\" ,\n",
    "        case when gl_file.\"HL Remark\" is null then '' else gl_file.\"HL Remark\" end as \"HL Remark\" ,\n",
    "        'SUPPLIER PAN, MY GSTIN, INVOICE NO(FUZZY)' as \"Matching keys\",\n",
    "        CASE\n",
    "            WHEN ABS(gl_file.\"Total Tax(GL)\" - pr_filtered.\"Total Tax(PR)\") BETWEEN 1 AND 10 THEN 'Suggested Match'\n",
    "            WHEN abs(gl_file.\"Total Tax(GL)\" - pr_filtered.\"Total Tax(PR)\") <1  THEN 'Exact Match'\n",
    "            WHEN abs(gl_file.\"Total Tax(GL)\" - pr_filtered.\"Total Tax(PR)\") >10  THEN 'Mismatch'\n",
    "            ELSE 'Others In Mismatch'\n",
    "        END AS \"Remarks\",\n",
    "        'Suppliers GSTIN and Date not match' as \"Remarks_1\"\n",
    "    FROM gl_6_1 as gl_file\n",
    "    FULL OUTER JOIN pr_6_1 as pr_filtered\n",
    "    ON gl_file.\"Supplier GSTIN/UIN\" = pr_filtered.\"Supplier GSTIN (PR)\"\n",
    "        AND SUBSTRING(gl_file.\"MY GSTIN\", 3, 10)  = SUBSTRING(pr_filtered.\"My GSTIN (PR)\", 3, 10) \n",
    "        AND REGEXP_REPLACE(gl_file.\"Invoice No\", '[^a-zA-Z0-9]', '') =\n",
    "        REGEXP_REPLACE(pr_filtered.\"Document Number (PR)\", '[^a-zA-Z0-9]', '')\n",
    "\"\"\")\n"
   ]
  },
  {
   "cell_type": "code",
   "execution_count": 102,
   "metadata": {
    "application/vnd.databricks.v1+cell": {
     "cellMetadata": {
      "byteLimit": 2048000,
      "rowLimit": 10000
     },
     "inputWidgets": {},
     "nuid": "1e24f7da-5201-4058-9350-16eb9b87811d",
     "showTitle": false,
     "title": ""
    }
   },
   "outputs": [],
   "source": [
    "result_6_1.df().to_csv('result_6_1.csv',index= False)"
   ]
  },
  {
   "cell_type": "code",
   "execution_count": 103,
   "metadata": {
    "application/vnd.databricks.v1+cell": {
     "cellMetadata": {
      "byteLimit": 2048000,
      "rowLimit": 10000
     },
     "inputWidgets": {},
     "nuid": "1d393792-9fe1-4521-aa9d-ac1f7b5e46e9",
     "showTitle": false,
     "title": ""
    }
   },
   "outputs": [],
   "source": [
    "matched_6_1 = duckdb.sql( \"\"\"select * from result_6_1\n",
    "                               \n",
    "                               where Remarks in ('Exact Match', 'Suggested Match', 'Mismatch') \"\"\" )"
   ]
  },
  {
   "cell_type": "code",
   "execution_count": 104,
   "metadata": {
    "application/vnd.databricks.v1+cell": {
     "cellMetadata": {
      "byteLimit": 2048000,
      "rowLimit": 10000
     },
     "inputWidgets": {},
     "nuid": "f9f1d093-2a23-41fa-aa09-15077ef5b356",
     "showTitle": false,
     "title": ""
    }
   },
   "outputs": [],
   "source": [
    "matched_6_1.df().to_csv('matched_6_1.csv', index= False)"
   ]
  },
  {
   "cell_type": "code",
   "execution_count": 105,
   "metadata": {},
   "outputs": [
    {
     "name": "stderr",
     "output_type": "stream",
     "text": [
      "C:\\Users\\rishabh.singh_clear\\AppData\\Local\\Temp\\ipykernel_7984\\1076845252.py:1: DtypeWarning: Columns (0,1,2,3,16,17) have mixed types. Specify dtype option on import or set low_memory=False.\n",
      "  result_6_1 = pd.read_csv('result_6_1.csv')\n"
     ]
    }
   ],
   "source": [
    "result_6_1 = pd.read_csv('result_6_1.csv')"
   ]
  },
  {
   "cell_type": "code",
   "execution_count": 106,
   "metadata": {},
   "outputs": [],
   "source": [
    " pr_6_1_1 = duckdb.sql(\"\"\"\n",
    " SELECT \n",
    "        \"Supplier GSTIN (PR)\",\n",
    "        \"My GSTIN (PR)\",\n",
    "        \"Document Number (PR)\",\n",
    "        \"Document Date (PR)\",\n",
    "        \"IGST (PR)\",\n",
    "        \"CGST (PR)\",\n",
    "        \"SGST (PR)\",\n",
    "        CAST(REPLACE(\"Total Tax(PR)\", ',', '') AS DECIMAL(10,2)) AS \"Total Tax(PR)\"\n",
    "    FROM result_6_1\n",
    "    WHERE \"Supplier GSTIN/UIN\" is null \"\"\")"
   ]
  },
  {
   "cell_type": "code",
   "execution_count": 107,
   "metadata": {},
   "outputs": [],
   "source": [
    " gl_6_1_1 = duckdb.sql(\"\"\"\n",
    "SELECT \n",
    "    \"Supplier GSTIN/UIN\",\n",
    "     \"MY GSTIN\",\n",
    "     \"Invoice No\", \n",
    "     \"Invoice Date\", \n",
    "     \"IGST (GL)\",\n",
    "    \"CGST (GL)\",\n",
    "    \"SGST (GL)\",\n",
    "    \"total Tax(GL)\",\n",
    "     \"Remark\",\n",
    "     \"HL Remark\" \n",
    " from result_6_1\n",
    " where  \"Supplier GSTIN (PR)\" is null \"\"\")"
   ]
  },
  {
   "cell_type": "code",
   "execution_count": 108,
   "metadata": {},
   "outputs": [],
   "source": [
    "result_6_1_1 = duckdb.sql( \"\"\"\n",
    "        SELECT\n",
    "        gl_file.\"Supplier GSTIN/UIN\",\n",
    "        gl_file.\"MY GSTIN\" ,\n",
    "        gl_file.\"Invoice No\", \n",
    "        gl_file.\"Invoice Date\", \n",
    "        gl_file.\"IGST (GL)\",\n",
    "        gl_file.\"CGST (GL)\",\n",
    "        gl_file.\"SGST (GL)\",\n",
    "        gl_file.\"Total Tax(GL)\" ,\n",
    "        pr_filtered.\"Supplier GSTIN (PR)\", \n",
    "        pr_filtered.\"My GSTIN (PR)\" ,\n",
    "        pr_filtered.\"Document Number (PR)\",\n",
    "        pr_filtered.\"Document Date (PR)\" ,\n",
    "        pr_filtered.\"IGST (PR)\",\n",
    "        pr_filtered. \"CGST (PR)\",\n",
    "        pr_filtered.\"SGST (PR)\",\n",
    "        pr_filtered.\"Total Tax(PR)\",\n",
    "        case when gl_file.\"Remark\" is null then '' else gl_file.\"Remark\" end as \"Remark\" ,\n",
    "        case when gl_file.\"HL Remark\" is null then '' else gl_file.\"HL Remark\" end as \"HL Remark\" ,\n",
    "        'SUPPLIER PAN, MY GSTIN, Tax Amount' as \"Matching keys\",\n",
    "        CASE\n",
    "            WHEN ABS(gl_file.\"Total Tax(GL)\" - pr_filtered.\"Total Tax(PR)\") BETWEEN 1 AND 10 THEN 'Suggested Match'\n",
    "            WHEN abs(gl_file.\"Total Tax(GL)\" - pr_filtered.\"Total Tax(PR)\") <1  THEN 'Exact Match'\n",
    "            WHEN abs(gl_file.\"Total Tax(GL)\" - pr_filtered.\"Total Tax(PR)\") >10  THEN 'Mismatch'\n",
    "            ELSE 'Others In Mismatch Or Entry only in PR/GL'\n",
    "        END AS \"Remarks\",\n",
    "        'SupplierGSTIN , Invoice No and Date Not match' as \"Remarks_1\"\n",
    "    FROM gl_6_1_1 as gl_file\n",
    "    FULL OUTER JOIN pr_6_1_1 as pr_filtered\n",
    "    ON SUBSTRING(gl_file.\"Supplier GSTIN/UIN\", 3, 10)  = SUBSTRING(pr_filtered.\"Supplier GSTIN (PR)\", 3, 10)\n",
    "        AND gl_file.\"MY GSTIN\"  = pr_filtered.\"My GSTIN (PR)\"\n",
    "        AND abs(pr_filtered.\"Total Tax(PR)\"-gl_file.\"Total Tax(GL)\" ) <=10\n",
    "        \n",
    "\"\"\")\n",
    "\n",
    "   "
   ]
  },
  {
   "cell_type": "code",
   "execution_count": 109,
   "metadata": {},
   "outputs": [
    {
     "data": {
      "application/vnd.jupyter.widget-view+json": {
       "model_id": "fb7bcf8841304a97a873a0c68fc29042",
       "version_major": 2,
       "version_minor": 0
      },
      "text/plain": [
       "FloatProgress(value=0.0, layout=Layout(width='auto'), style=ProgressStyle(bar_color='black'))"
      ]
     },
     "metadata": {},
     "output_type": "display_data"
    }
   ],
   "source": [
    "result_6_1_1.df().to_csv('result_6_1_1.csv',index= False)"
   ]
  },
  {
   "cell_type": "code",
   "execution_count": null,
   "metadata": {},
   "outputs": [],
   "source": []
  },
  {
   "cell_type": "code",
   "execution_count": 110,
   "metadata": {},
   "outputs": [],
   "source": [
    "matched_6_1_1 = duckdb.sql( \"\"\"select * from result_6_1_1\n",
    "                               \n",
    "                               where Remarks in ('Exact Match', 'Suggested Match', 'Mismatch') \"\"\" )"
   ]
  },
  {
   "cell_type": "code",
   "execution_count": 111,
   "metadata": {},
   "outputs": [
    {
     "data": {
      "application/vnd.jupyter.widget-view+json": {
       "model_id": "242e0693d3814b08b0c5724fde59c5b7",
       "version_major": 2,
       "version_minor": 0
      },
      "text/plain": [
       "FloatProgress(value=0.0, layout=Layout(width='auto'), style=ProgressStyle(bar_color='black'))"
      ]
     },
     "metadata": {},
     "output_type": "display_data"
    }
   ],
   "source": [
    "matched_6_1_1.df().to_csv('matched_6_1_1.csv', index= False)"
   ]
  },
  {
   "cell_type": "code",
   "execution_count": 112,
   "metadata": {},
   "outputs": [
    {
     "name": "stderr",
     "output_type": "stream",
     "text": [
      "C:\\Users\\rishabh.singh_clear\\AppData\\Local\\Temp\\ipykernel_7984\\1442313742.py:1: DtypeWarning: Columns (0,1,2,3,8,9,10,11,16,17) have mixed types. Specify dtype option on import or set low_memory=False.\n",
      "  result_6_1_1 = pd.read_csv('result_6_1_1.csv')\n"
     ]
    }
   ],
   "source": [
    "result_6_1_1 = pd.read_csv('result_6_1_1.csv')"
   ]
  },
  {
   "cell_type": "code",
   "execution_count": 113,
   "metadata": {
    "application/vnd.databricks.v1+cell": {
     "cellMetadata": {
      "byteLimit": 2048000,
      "implicitDf": true,
      "rowLimit": 10000
     },
     "inputWidgets": {},
     "nuid": "4dae33c6-e0f1-4f1b-8198-f993e12d7723",
     "showTitle": false,
     "title": ""
    }
   },
   "outputs": [],
   "source": [
    " pr_7= duckdb.sql(\"\"\"\n",
    " SELECT \n",
    "        \"Supplier GSTIN (PR)\",\n",
    "        \"My GSTIN (PR)\",\n",
    "        \"Document Number (PR)\",\n",
    "        \"Document Date (PR)\",\n",
    "        \"IGST (PR)\",\n",
    "        \"CGST (PR)\",\n",
    "        \"SGST (PR)\",\n",
    "        CAST(REPLACE(\"Total Tax(PR)\", ',', '') AS DECIMAL(10,2)) AS \"Total Tax(PR)\"\n",
    "    FROM result_6_1_1\n",
    "    WHERE \"Supplier GSTIN/UIN\" is null  \"\"\")"
   ]
  },
  {
   "cell_type": "code",
   "execution_count": 111,
   "metadata": {
    "application/vnd.databricks.v1+cell": {
     "cellMetadata": {},
     "inputWidgets": {},
     "nuid": "3caa75bc-751a-4a5c-bead-8ce2d8250f35",
     "showTitle": false,
     "title": ""
    }
   },
   "outputs": [],
   "source": [
    "# pr_7.shape"
   ]
  },
  {
   "cell_type": "code",
   "execution_count": 114,
   "metadata": {
    "application/vnd.databricks.v1+cell": {
     "cellMetadata": {
      "byteLimit": 2048000,
      "implicitDf": true,
      "rowLimit": 10000
     },
     "inputWidgets": {},
     "nuid": "c7c7d8ef-4548-4341-9ac5-75e380e2fe90",
     "showTitle": false,
     "title": ""
    }
   },
   "outputs": [],
   "source": [
    " gl_7 = duckdb.sql(\"\"\"\n",
    "SELECT \n",
    "    \"Supplier GSTIN/UIN\",\n",
    "     \"MY GSTIN\",\n",
    "     \"Invoice No\", \n",
    "     \"Invoice Date\", \n",
    "     \"IGST (GL)\",\n",
    "     \"CGST (GL)\",\n",
    "     \"SGST (GL)\",\n",
    "    \"total Tax(GL)\",\n",
    "     \"Remark\",\n",
    "     \"HL Remark\" \n",
    " from result_6_1_1\n",
    " where  \"Supplier GSTIN (PR)\" is null \"\"\")"
   ]
  },
  {
   "cell_type": "code",
   "execution_count": 115,
   "metadata": {
    "application/vnd.databricks.v1+cell": {
     "cellMetadata": {
      "byteLimit": 2048000,
      "rowLimit": 10000
     },
     "inputWidgets": {},
     "nuid": "c72dd4a5-9135-4f79-abf1-db4267be3e2f",
     "showTitle": false,
     "title": ""
    }
   },
   "outputs": [],
   "source": [
    "result_7 = duckdb.sql( \"\"\"\n",
    "        SELECT\n",
    "        gl_file.\"Supplier GSTIN/UIN\",\n",
    "        gl_file.\"MY GSTIN\" ,\n",
    "        gl_file.\"Invoice No\", \n",
    "        gl_file.\"Invoice Date\", \n",
    "        gl_file.\"IGST (GL)\",\n",
    "        gl_file.\"CGST (GL)\",\n",
    "        gl_file.\"SGST (GL)\",\n",
    "        gl_file.\"Total Tax(GL)\" ,\n",
    "        pr_filtered.\"Supplier GSTIN (PR)\", \n",
    "        pr_filtered.\"My GSTIN (PR)\" ,\n",
    "        pr_filtered.\"Document Number (PR)\",\n",
    "        pr_filtered.\"Document Date (PR)\" ,\n",
    "        pr_filtered.\"IGST (PR)\",\n",
    "        pr_filtered. \"CGST (PR)\",\n",
    "        pr_filtered.\"SGST (PR)\",\n",
    "        pr_filtered.\"Total Tax(PR)\",\n",
    "        \"Remark\" ,\n",
    "        \"HL Remark\" ,\n",
    "        'SUPPLIER PAN, BUYER PAN, INVOICE NO, INVOICE DATE' as \"Matching keys\",\n",
    "        CASE\n",
    "            WHEN ABS(gl_file.\"Total Tax(GL)\" - pr_filtered.\"Total Tax(PR)\") BETWEEN 1 AND 10 THEN 'Suggested Match'\n",
    "            WHEN abs(gl_file.\"Total Tax(GL)\" - pr_filtered.\"Total Tax(PR)\") <1  THEN 'Exact Match'\n",
    "            WHEN abs(gl_file.\"Total Tax(GL)\" - pr_filtered.\"Total Tax(PR)\") >10  THEN 'Mismatch'\n",
    "            ELSE 'Others In Mismatch'\n",
    "        END AS \"Remarks\",\n",
    "        'Supplier GSTIN and MY GSTIN not match' as \"Remarks_1\"\n",
    "    FROM gl_7 as gl_file\n",
    "    FULL OUTER JOIN pr_7 as pr_filtered\n",
    "    ON SUBSTRING(gl_file.\"Supplier GSTIN/UIN\", 3, 10)  = SUBSTRING(pr_filtered.\"Supplier GSTIN (PR)\", 3, 10)\n",
    "        AND SUBSTRING(gl_file.\"MY GSTIN\", 3, 10)  = SUBSTRING(pr_filtered.\"My GSTIN (PR)\", 3, 10) \n",
    "        AND gl_file.\"Invoice No\" = pr_filtered.\"Document Number (PR)\"\n",
    "        AND  gl_file.\"Invoice Date\" = pr_filtered.\"Document Date (PR)\" \n",
    "\"\"\")"
   ]
  },
  {
   "cell_type": "code",
   "execution_count": 116,
   "metadata": {
    "application/vnd.databricks.v1+cell": {
     "cellMetadata": {
      "byteLimit": 2048000,
      "rowLimit": 10000
     },
     "inputWidgets": {},
     "nuid": "5f9038f9-22d5-49ff-841f-f25b327e18ed",
     "showTitle": false,
     "title": ""
    }
   },
   "outputs": [],
   "source": [
    "result_7.df().to_csv('result_7.csv',index= False)"
   ]
  },
  {
   "cell_type": "code",
   "execution_count": 117,
   "metadata": {
    "application/vnd.databricks.v1+cell": {
     "cellMetadata": {
      "byteLimit": 2048000,
      "rowLimit": 10000
     },
     "inputWidgets": {},
     "nuid": "447563c3-0ea6-4bf2-b83a-e390819ff154",
     "showTitle": false,
     "title": ""
    }
   },
   "outputs": [],
   "source": [
    "matched_7 = duckdb.sql( \"\"\"select * from result_7\n",
    "                               \n",
    "                               where Remarks in ('Exact Match', 'Suggested Match', 'Mismatch') \"\"\" )"
   ]
  },
  {
   "cell_type": "code",
   "execution_count": 118,
   "metadata": {
    "application/vnd.databricks.v1+cell": {
     "cellMetadata": {
      "byteLimit": 2048000,
      "rowLimit": 10000
     },
     "inputWidgets": {},
     "nuid": "c687dce1-3ad6-4c36-8bcb-79810be88d24",
     "showTitle": false,
     "title": ""
    }
   },
   "outputs": [],
   "source": [
    "matched_7.df().to_csv('matched_7.csv', index= False)"
   ]
  },
  {
   "cell_type": "code",
   "execution_count": 119,
   "metadata": {},
   "outputs": [
    {
     "name": "stderr",
     "output_type": "stream",
     "text": [
      "C:\\Users\\rishabh.singh_clear\\AppData\\Local\\Temp\\ipykernel_7984\\4137335595.py:1: DtypeWarning: Columns (0,1,2,3,8,9,10,11,16,17) have mixed types. Specify dtype option on import or set low_memory=False.\n",
      "  result_7= pd.read_csv('result_7.csv')\n"
     ]
    }
   ],
   "source": [
    "result_7= pd.read_csv('result_7.csv')"
   ]
  },
  {
   "cell_type": "code",
   "execution_count": 120,
   "metadata": {
    "application/vnd.databricks.v1+cell": {
     "cellMetadata": {
      "byteLimit": 2048000,
      "implicitDf": true,
      "rowLimit": 10000
     },
     "inputWidgets": {},
     "nuid": "d83f9c66-b87b-4e9b-a42e-e00f30fe5af0",
     "showTitle": false,
     "title": ""
    }
   },
   "outputs": [],
   "source": [
    " pr_8 = duckdb.sql(\"\"\"\n",
    " SELECT \n",
    "        \"Supplier GSTIN (PR)\",\n",
    "        \"My GSTIN (PR)\",\n",
    "        \"Document Number (PR)\",\n",
    "        \"Document Date (PR)\",\n",
    "        \"IGST (PR)\",\n",
    "        \"CGST (PR)\",\n",
    "        \"SGST (PR)\",\n",
    "        CAST(REPLACE(\"Total Tax(PR)\", ',', '') AS DECIMAL(10,2)) AS \"Total Tax(PR)\"\n",
    "    FROM result_7\n",
    "    WHERE \"Supplier GSTIN/UIN\" is null  \"\"\")"
   ]
  },
  {
   "cell_type": "code",
   "execution_count": 121,
   "metadata": {},
   "outputs": [],
   "source": [
    "gl_8 = duckdb.sql(\"\"\"\n",
    "SELECT \n",
    "    \"Supplier GSTIN/UIN\",\n",
    "     \"MY GSTIN\",\n",
    "     \"Invoice No\", \n",
    "     \"Invoice Date\", \n",
    "     \"IGST (GL)\",\n",
    "    \"CGST (GL)\",\n",
    "    \"SGST (GL)\",\n",
    "    \"total Tax(GL)\",\n",
    "    \"Remark\" ,\n",
    "   \"HL Remark\" \n",
    " from result_7\n",
    " where  \"Supplier GSTIN (PR)\" is null \"\"\")"
   ]
  },
  {
   "cell_type": "code",
   "execution_count": 122,
   "metadata": {
    "application/vnd.databricks.v1+cell": {
     "cellMetadata": {
      "byteLimit": 2048000,
      "rowLimit": 10000
     },
     "inputWidgets": {},
     "nuid": "80e98064-ab94-480b-9648-dc72317718c4",
     "showTitle": false,
     "title": ""
    }
   },
   "outputs": [],
   "source": [
    "result_8 = duckdb.sql( \"\"\"\n",
    "        SELECT\n",
    "        gl_file.\"Supplier GSTIN/UIN\",\n",
    "        gl_file.\"MY GSTIN\" ,\n",
    "        gl_file.\"Invoice No\", \n",
    "        gl_file.\"Invoice Date\", \n",
    "        gl_file.\"IGST (GL)\",\n",
    "        gl_file.\"CGST (GL)\",\n",
    "        gl_file.\"SGST (GL)\",\n",
    "        gl_file.\"Total Tax(GL)\" ,\n",
    "        pr_filtered.\"Supplier GSTIN (PR)\", \n",
    "        pr_filtered.\"My GSTIN (PR)\" ,\n",
    "        pr_filtered.\"Document Number (PR)\",\n",
    "        pr_filtered.\"Document Date (PR)\" ,\n",
    "        pr_filtered.\"IGST (PR)\",\n",
    "        pr_filtered. \"CGST (PR)\",\n",
    "        pr_filtered.\"SGST (PR)\",\n",
    "        pr_filtered.\"Total Tax(PR)\",\n",
    "        case when gl_file.\"Remark\" is null then '' else gl_file.\"Remark\" end as \"Remark\" ,\n",
    "        case when gl_file.\"HL Remark\" is null then '' else gl_file.\"HL Remark\" end as \"HL Remark\" ,\n",
    "        'SUPPLIER PAN, BUYER PAN, INVOICE NO' as \"Matching keys\",\n",
    "        CASE\n",
    "            WHEN ABS(gl_file.\"Total Tax(GL)\" - pr_filtered.\"Total Tax(PR)\") BETWEEN 1 AND 10 THEN 'Suggested Match'\n",
    "            WHEN abs(gl_file.\"Total Tax(GL)\" - pr_filtered.\"Total Tax(PR)\") <1  THEN 'Exact Match'\n",
    "            WHEN abs(gl_file.\"Total Tax(GL)\" - pr_filtered.\"Total Tax(PR)\") >10  THEN 'Mismatch'\n",
    "            ELSE 'Others In Mismatch'\n",
    "        END AS \"Remarks\",\n",
    "        'Supplier GSTIN , MY GSTIN and Date not match' as \"Remarks_1\"\n",
    "    FROM gl_8 as gl_file\n",
    "    FULL OUTER JOIN pr_8 as pr_filtered\n",
    "    ON SUBSTRING(gl_file.\"Supplier GSTIN/UIN\", 3, 10)  = SUBSTRING(pr_filtered.\"Supplier GSTIN (PR)\", 3, 10)\n",
    "        AND SUBSTRING(gl_file.\"MY GSTIN\", 3, 10)  = SUBSTRING(pr_filtered.\"My GSTIN (PR)\", 3, 10) \n",
    "        AND gl_file.\"Invoice No\" = pr_filtered.\"Document Number (PR)\"\n",
    "\"\"\")\n"
   ]
  },
  {
   "cell_type": "code",
   "execution_count": 123,
   "metadata": {},
   "outputs": [],
   "source": [
    "result_8.df().to_csv('result_8.csv',index= False)"
   ]
  },
  {
   "cell_type": "code",
   "execution_count": 124,
   "metadata": {
    "application/vnd.databricks.v1+cell": {
     "cellMetadata": {
      "byteLimit": 2048000,
      "rowLimit": 10000
     },
     "inputWidgets": {},
     "nuid": "23596c0a-8b70-4a72-a5ed-c6a3f3fdea12",
     "showTitle": false,
     "title": ""
    }
   },
   "outputs": [],
   "source": [
    "matched_8 = duckdb.sql( \"\"\"select * from result_8\n",
    "                               \n",
    "                               where Remarks in ('Exact Match', 'Suggested Match', 'Mismatch') \"\"\" )"
   ]
  },
  {
   "cell_type": "code",
   "execution_count": 125,
   "metadata": {
    "application/vnd.databricks.v1+cell": {
     "cellMetadata": {
      "byteLimit": 2048000,
      "rowLimit": 10000
     },
     "inputWidgets": {},
     "nuid": "ad54ec74-ffc8-49ed-80b9-155133cb7a43",
     "showTitle": false,
     "title": ""
    }
   },
   "outputs": [],
   "source": [
    "matched_8.df().to_csv('matched_8.csv', index= False)"
   ]
  },
  {
   "cell_type": "code",
   "execution_count": 126,
   "metadata": {},
   "outputs": [
    {
     "name": "stderr",
     "output_type": "stream",
     "text": [
      "C:\\Users\\rishabh.singh_clear\\AppData\\Local\\Temp\\ipykernel_7984\\1566926587.py:1: DtypeWarning: Columns (0,1,2,3,8,9,10,11,16,17) have mixed types. Specify dtype option on import or set low_memory=False.\n",
      "  result_8 = pd.read_csv('result_8.csv')\n"
     ]
    }
   ],
   "source": [
    "result_8 = pd.read_csv('result_8.csv')"
   ]
  },
  {
   "cell_type": "code",
   "execution_count": 127,
   "metadata": {
    "application/vnd.databricks.v1+cell": {
     "cellMetadata": {
      "byteLimit": 2048000,
      "implicitDf": true,
      "rowLimit": 10000
     },
     "inputWidgets": {},
     "nuid": "a918bf3c-53cf-47c3-93c8-4c9dacee9adb",
     "showTitle": false,
     "title": ""
    }
   },
   "outputs": [],
   "source": [
    " pr_8_1  = duckdb.sql(\"\"\"\n",
    " SELECT \n",
    "        \"Supplier GSTIN (PR)\",\n",
    "        \"My GSTIN (PR)\",\n",
    "        \"Document Number (PR)\",\n",
    "        \"Document Date (PR)\",\n",
    "        \"IGST (PR)\",\n",
    "        \"CGST (PR)\",\n",
    "        \"SGST (PR)\",\n",
    "        CAST(REPLACE(\"Total Tax(PR)\", ',', '') AS DECIMAL(10,2)) AS \"Total Tax(PR)\"\n",
    "    FROM result_8\n",
    "    WHERE \"Supplier GSTIN/UIN\" is null \"\"\")"
   ]
  },
  {
   "cell_type": "code",
   "execution_count": 128,
   "metadata": {
    "application/vnd.databricks.v1+cell": {
     "cellMetadata": {
      "byteLimit": 2048000,
      "implicitDf": true,
      "rowLimit": 10000
     },
     "inputWidgets": {},
     "nuid": "226b9cee-6071-4e87-9bca-0238fd6e78f1",
     "showTitle": false,
     "title": ""
    }
   },
   "outputs": [],
   "source": [
    " gl_8_1 = duckdb.sql(\"\"\"\n",
    "SELECT \n",
    "    \"Supplier GSTIN/UIN\",\n",
    "     \"MY GSTIN\",\n",
    "     \"Invoice No\", \n",
    "     \"Invoice Date\",\n",
    "     \"IGST (GL)\",\n",
    "    \"CGST (GL)\",\n",
    "    \"SGST (GL)\",\n",
    "    \"total Tax(GL)\",\n",
    "    \"Remark\" ,\n",
    "    \"HL Remark\"\n",
    " from result_8\n",
    " where  \"Supplier GSTIN (PR)\" is null \"\"\")"
   ]
  },
  {
   "cell_type": "code",
   "execution_count": 129,
   "metadata": {
    "application/vnd.databricks.v1+cell": {
     "cellMetadata": {
      "byteLimit": 2048000,
      "rowLimit": 10000
     },
     "inputWidgets": {},
     "nuid": "af8b076a-c235-412b-9291-c24a7e0966c5",
     "showTitle": false,
     "title": ""
    }
   },
   "outputs": [],
   "source": [
    "result_8_1 = duckdb.sql( \"\"\"\n",
    "        SELECT\n",
    "        gl_file.\"Supplier GSTIN/UIN\",\n",
    "        gl_file.\"MY GSTIN\" ,\n",
    "        gl_file.\"Invoice No\", \n",
    "        gl_file.\"Invoice Date\", \n",
    "        gl_file.\"IGST (GL)\",\n",
    "        gl_file.\"CGST (GL)\",\n",
    "        gl_file.\"SGST (GL)\",\n",
    "        gl_file.\"Total Tax(GL)\" ,\n",
    "        pr_filtered.\"Supplier GSTIN (PR)\", \n",
    "        pr_filtered.\"My GSTIN (PR)\" ,\n",
    "        pr_filtered.\"Document Number (PR)\",\n",
    "        pr_filtered.\"Document Date (PR)\" ,\n",
    "        pr_filtered.\"IGST (PR)\",\n",
    "        pr_filtered. \"CGST (PR)\",\n",
    "        pr_filtered.\"SGST (PR)\",\n",
    "        pr_filtered.\"Total Tax(PR)\",\n",
    "        \"Remark\" ,\n",
    "        \"HL Remark\" ,\n",
    "        'SUPPLIER PAN, BUYER PAN, INVOICE NO(FUZZY)' as \"Matching keys\",\n",
    "        CASE\n",
    "            WHEN ABS(gl_file.\"Total Tax(GL)\" - pr_filtered.\"Total Tax(PR)\") BETWEEN 1 AND 10 THEN 'Suggested Match'\n",
    "            WHEN abs(gl_file.\"Total Tax(GL)\" - pr_filtered.\"Total Tax(PR)\") <1  THEN 'Exact Match'\n",
    "            WHEN abs(gl_file.\"Total Tax(GL)\" - pr_filtered.\"Total Tax(PR)\") >10  THEN 'Mismatch'\n",
    "            ELSE 'Others In Mismatch'\n",
    "        END AS \"Remarks\",\n",
    "        'Supplier GSTIN , MY GSTIN and Date not match' as \"Remarks_1\"\n",
    "    FROM gl_8_1 as gl_file\n",
    "    FULL OUTER JOIN pr_8_1 as pr_filtered\n",
    "    ON SUBSTRING(gl_file.\"Supplier GSTIN/UIN\", 3, 10)  = SUBSTRING(pr_filtered.\"Supplier GSTIN (PR)\", 3, 10)\n",
    "        AND SUBSTRING(gl_file.\"MY GSTIN\", 3, 10)  = SUBSTRING(pr_filtered.\"My GSTIN (PR)\", 3, 10) \n",
    "        AND REGEXP_REPLACE(gl_file.\"Invoice No\", '[^a-zA-Z0-9]', '') =\n",
    "        REGEXP_REPLACE(pr_filtered.\"Document Number (PR)\", '[^a-zA-Z0-9]', '')\n",
    "\"\"\")\n"
   ]
  },
  {
   "cell_type": "code",
   "execution_count": 130,
   "metadata": {},
   "outputs": [],
   "source": [
    "result_8_1.df().to_csv('result_8_1.csv',index= False)"
   ]
  },
  {
   "cell_type": "code",
   "execution_count": 131,
   "metadata": {
    "application/vnd.databricks.v1+cell": {
     "cellMetadata": {},
     "inputWidgets": {},
     "nuid": "5d414f96-9a1b-4e88-8bca-b4b52af22244",
     "showTitle": false,
     "title": ""
    }
   },
   "outputs": [],
   "source": [
    "matched_8_1 = duckdb.sql( \"\"\"select * from result_8_1\n",
    "                               \n",
    "                               where Remarks in ('Exact Match', 'Suggested Match', 'Mismatch') \"\"\" )"
   ]
  },
  {
   "cell_type": "code",
   "execution_count": 132,
   "metadata": {},
   "outputs": [
    {
     "name": "stderr",
     "output_type": "stream",
     "text": [
      "C:\\Users\\rishabh.singh_clear\\AppData\\Local\\Temp\\ipykernel_7984\\958001367.py:1: DtypeWarning: Columns (0,1,2,3,8,9,10,11,16,17) have mixed types. Specify dtype option on import or set low_memory=False.\n",
      "  result_8_1 = pd.read_csv('result_8_1.csv')\n"
     ]
    }
   ],
   "source": [
    "result_8_1 = pd.read_csv('result_8_1.csv')"
   ]
  },
  {
   "cell_type": "code",
   "execution_count": 133,
   "metadata": {},
   "outputs": [],
   "source": [
    " pr_8_1_1  = duckdb.sql(\"\"\"\n",
    " SELECT \n",
    "        \"Supplier GSTIN (PR)\",\n",
    "        \"My GSTIN (PR)\",\n",
    "        \"Document Number (PR)\",\n",
    "        \"Document Date (PR)\",\n",
    "        \"IGST (PR)\",\n",
    "        \"CGST (PR)\",\n",
    "        \"SGST (PR)\",\n",
    "        CAST(REPLACE(\"Total Tax(PR)\", ',', '') AS DECIMAL(10,2)) AS \"Total Tax(PR)\"\n",
    "    FROM result_8_1\n",
    "    WHERE \"Supplier GSTIN/UIN\" is null \n",
    "    \n",
    "    \"\"\")"
   ]
  },
  {
   "cell_type": "code",
   "execution_count": 134,
   "metadata": {},
   "outputs": [],
   "source": [
    "gl_8_1_1 = duckdb.sql(\"\"\"\n",
    "SELECT \n",
    "    \"Supplier GSTIN/UIN\",\n",
    "     \"MY GSTIN\",\n",
    "     \"Invoice No\", \n",
    "     \"Invoice Date\",\n",
    "     \"IGST (GL)\",\n",
    "    \"CGST (GL)\",\n",
    "    \"SGST (GL)\",\n",
    "    \"total Tax(GL)\",\n",
    "    \"Remark\" ,\n",
    "    \"HL Remark\"\n",
    "  from result_8_1\n",
    "  where  \"Supplier GSTIN (PR)\" is null\n",
    " \"\"\" )"
   ]
  },
  {
   "cell_type": "code",
   "execution_count": 135,
   "metadata": {},
   "outputs": [],
   "source": [
    "result_8_1_1 = duckdb.sql( \"\"\"\n",
    "        SELECT\n",
    "        gl_file.\"Supplier GSTIN/UIN\",\n",
    "        gl_file.\"MY GSTIN\" ,\n",
    "        gl_file.\"Invoice No\", \n",
    "        gl_file.\"Invoice Date\", \n",
    "        gl_file.\"IGST (GL)\",\n",
    "        gl_file.\"CGST (GL)\",\n",
    "        gl_file.\"SGST (GL)\",\n",
    "        gl_file.\"Total Tax(GL)\" ,\n",
    "        pr_filtered.\"Supplier GSTIN (PR)\", \n",
    "        pr_filtered.\"My GSTIN (PR)\" ,\n",
    "        pr_filtered.\"Document Number (PR)\",\n",
    "        pr_filtered.\"Document Date (PR)\" ,\n",
    "        pr_filtered.\"IGST (PR)\",\n",
    "        pr_filtered. \"CGST (PR)\",\n",
    "        pr_filtered.\"SGST (PR)\",\n",
    "        pr_filtered.\"Total Tax(PR)\",\n",
    "        \"Remark\" ,\n",
    "        \"HL Remark\" ,\n",
    "        'SUPPLIER PAN, BUYER PAN, Tax Amount' as \"Matching keys\",\n",
    "        CASE\n",
    "            WHEN ABS(gl_file.\"Total Tax(GL)\" - pr_filtered.\"Total Tax(PR)\") BETWEEN 1 AND 10 THEN 'Suggested Match'\n",
    "            WHEN abs(gl_file.\"Total Tax(GL)\" - pr_filtered.\"Total Tax(PR)\") <1  THEN 'Exact Match'\n",
    "            WHEN abs(gl_file.\"Total Tax(GL)\" - pr_filtered.\"Total Tax(PR)\") >10  THEN 'Mismatch'\n",
    "            ELSE 'Others In Mismatch Or Entry only in PR/GL'\n",
    "        END AS \"Remarks\",\n",
    "        'Supplier GSTIN , MY GSTIN , Invoice No and Date not match' as \"Remarks_1\"\n",
    "    FROM gl_8_1_1 as gl_file\n",
    "    FULL OUTER JOIN pr_8_1_1 as pr_filtered\n",
    "    ON SUBSTRING(gl_file.\"Supplier GSTIN/UIN\", 3, 10)  = SUBSTRING(pr_filtered.\"Supplier GSTIN (PR)\", 3, 10)\n",
    "        AND SUBSTRING(gl_file.\"MY GSTIN\", 3, 10)  = SUBSTRING(pr_filtered.\"My GSTIN (PR)\", 3, 10) \n",
    "        AND abs(pr_filtered.\"Total Tax(PR)\"-gl_file.\"Total Tax(GL)\" ) <=10\n",
    "        \n",
    "\"\"\")\n",
    "\n",
    "   "
   ]
  },
  {
   "cell_type": "code",
   "execution_count": 136,
   "metadata": {},
   "outputs": [
    {
     "data": {
      "application/vnd.jupyter.widget-view+json": {
       "model_id": "176e6dce9030482fa403130b552887e2",
       "version_major": 2,
       "version_minor": 0
      },
      "text/plain": [
       "FloatProgress(value=0.0, layout=Layout(width='auto'), style=ProgressStyle(bar_color='black'))"
      ]
     },
     "metadata": {},
     "output_type": "display_data"
    }
   ],
   "source": [
    "result_8_1_1.df().to_csv('result_8_1_1.csv',index= False)"
   ]
  },
  {
   "cell_type": "code",
   "execution_count": 135,
   "metadata": {},
   "outputs": [],
   "source": [
    "matched_8_1_1 = duckdb.sql( \"\"\"select * from result_8_1_1\n",
    "                               \n",
    "                               where Remarks in ('Exact Match', 'Suggested Match', 'Mismatch') \"\"\" )"
   ]
  },
  {
   "cell_type": "code",
   "execution_count": 136,
   "metadata": {},
   "outputs": [
    {
     "name": "stderr",
     "output_type": "stream",
     "text": [
      "C:\\Users\\rishabh.singh_clear\\AppData\\Local\\Temp\\ipykernel_6928\\3049388475.py:1: DtypeWarning: Columns (0,1,2,3,8,9,10,11,16,17) have mixed types. Specify dtype option on import or set low_memory=False.\n",
      "  result_8_1_1 = pd.read_csv('result_8_1_1.csv')\n"
     ]
    }
   ],
   "source": [
    "result_8_1_1 = pd.read_csv('result_8_1_1.csv')"
   ]
  },
  {
   "cell_type": "code",
   "execution_count": 137,
   "metadata": {},
   "outputs": [],
   "source": [
    "pr_13  = duckdb.sql(\"\"\"\n",
    " SELECT \n",
    "        \"Supplier GSTIN (PR)\",\n",
    "        \"My GSTIN (PR)\",\n",
    "        \"Document Number (PR)\",\n",
    "        \"Document Date (PR)\",\n",
    "        \"IGST (PR)\",\n",
    "        \"CGST (PR)\",\n",
    "        \"SGST (PR)\",\n",
    "        CAST(REPLACE(\"Total Tax(PR)\", ',', '') AS DECIMAL(10,2)) AS \"Total Tax(PR)\"\n",
    "    FROM result_8_1_1\n",
    "    WHERE \"Supplier GSTIN/UIN\" is null \"\"\")"
   ]
  },
  {
   "cell_type": "code",
   "execution_count": 138,
   "metadata": {},
   "outputs": [],
   "source": [
    "gl_13 = duckdb.sql(\"\"\"\n",
    "SELECT \n",
    "    \"Supplier GSTIN/UIN\",\n",
    "     \"MY GSTIN\",\n",
    "     \"Invoice No\", \n",
    "     \"Invoice Date\",\n",
    "     \"IGST (GL)\",\n",
    "    \"CGST (GL)\",\n",
    "    \"SGST (GL)\",\n",
    "    \"total Tax(GL)\",\n",
    "    \"Remark\" ,\n",
    "    \"HL Remark\"\n",
    " from result_8_1_1\n",
    " where  \"Supplier GSTIN (PR)\" is null \"\"\")"
   ]
  },
  {
   "cell_type": "code",
   "execution_count": 139,
   "metadata": {},
   "outputs": [],
   "source": [
    "result_13 = duckdb.sql( \"\"\"\n",
    "        SELECT\n",
    "        gl_file.\"Supplier GSTIN/UIN\",\n",
    "        gl_file.\"MY GSTIN\" ,\n",
    "        gl_file.\"Invoice No\", \n",
    "        gl_file.\"Invoice Date\", \n",
    "        gl_file.\"IGST (GL)\",\n",
    "        gl_file.\"CGST (GL)\",\n",
    "        gl_file.\"SGST (GL)\",\n",
    "        gl_file.\"Total Tax(GL)\" ,\n",
    "        pr_filtered.\"Supplier GSTIN (PR)\", \n",
    "        pr_filtered.\"My GSTIN (PR)\" ,\n",
    "        pr_filtered.\"Document Number (PR)\",\n",
    "        pr_filtered.\"Document Date (PR)\" ,\n",
    "        pr_filtered.\"IGST (PR)\",\n",
    "        pr_filtered. \"CGST (PR)\",\n",
    "        pr_filtered.\"SGST (PR)\",\n",
    "        pr_filtered.\"Total Tax(PR)\",\n",
    "        \"Remark\" ,\n",
    "        \"HL Remark\" ,\n",
    "         'BUYER GSTIN/PAN, INOVICE NO, Tax Amount' as \"Matching keys\",\n",
    "        CASE\n",
    "            WHEN ABS(gl_file.\"Total Tax(GL)\" - pr_filtered.\"Total Tax(PR)\") BETWEEN 1 AND 10 THEN 'Suggested Match'\n",
    "            WHEN abs(gl_file.\"Total Tax(GL)\" - pr_filtered.\"Total Tax(PR)\") <1  THEN 'Exact Match'\n",
    "            WHEN abs(gl_file.\"Total Tax(GL)\" - pr_filtered.\"Total Tax(PR)\") >10  THEN 'Mismatch'\n",
    "            ELSE 'Others In Mismatch Or Entry only in PR/GL'\n",
    "        END AS \"Remarks\",\n",
    "        'Supplier GSTIN(PAN),MY GSTIN , Invoice No and Date not match' as \"Remarks_1\"\n",
    "    FROM gl_13 as gl_file\n",
    "    FULL OUTER JOIN pr_13 as pr_filtered\n",
    "    ON \n",
    "     (\n",
    "            gl_file.\"MY GSTIN\" = pr_filtered.\"My GSTIN (PR)\" \n",
    "            OR SUBSTRING(gl_file.\"MY GSTIN\", 3, 10) = SUBSTRING(pr_filtered.\"My GSTIN (PR)\", 3, 10)\n",
    "        )\n",
    "AND gl_file.\"Invoice Date\" = pr_filtered.\"Document Date (PR)\" \n",
    "AND abs(pr_filtered.\"Total Tax(PR)\"-gl_file.\"Total Tax(GL)\" ) <=10\n",
    "        \n",
    "\"\"\")\n",
    "\n",
    "   "
   ]
  },
  {
   "cell_type": "code",
   "execution_count": 140,
   "metadata": {},
   "outputs": [
    {
     "data": {
      "application/vnd.jupyter.widget-view+json": {
       "model_id": "812d6b94ce514db1bb9d2ce38a3f8e21",
       "version_major": 2,
       "version_minor": 0
      },
      "text/plain": [
       "FloatProgress(value=0.0, layout=Layout(width='auto'), style=ProgressStyle(bar_color='black'))"
      ]
     },
     "metadata": {},
     "output_type": "display_data"
    },
    {
     "name": "stderr",
     "output_type": "stream",
     "text": [
      "\n",
      "KeyboardInterrupt\n",
      "\n"
     ]
    }
   ],
   "source": [
    "result_13.df().to_csv('result_13.csv',index= False)"
   ]
  },
  {
   "cell_type": "code",
   "execution_count": null,
   "metadata": {},
   "outputs": [],
   "source": [
    "matched_13 = duckdb.sql( \"\"\"select * from result_13\n",
    "                               \n",
    "                               where Remarks in ('Exact Match', 'Suggested Match', 'Mismatch') \"\"\")"
   ]
  },
  {
   "cell_type": "code",
   "execution_count": null,
   "metadata": {},
   "outputs": [],
   "source": [
    "result_13 = pd.read_csv('result_13.csv')"
   ]
  },
  {
   "cell_type": "code",
   "execution_count": null,
   "metadata": {
    "application/vnd.databricks.v1+cell": {
     "cellMetadata": {
      "byteLimit": 2048000,
      "rowLimit": 10000
     },
     "inputWidgets": {},
     "nuid": "d6944ed6-f33e-4f2c-8aaf-d72ce8d2598e",
     "showTitle": false,
     "title": ""
    }
   },
   "outputs": [],
   "source": [
    "combined_sheet = duckdb.sql(\"\"\"\n",
    "                    select   * from matched_1\n",
    "                    union all\n",
    "                    select   * from matched_2\n",
    "                    union all \n",
    "                    select   * from matched_2_1\n",
    "                    union all \n",
    "                    select   * from matched_2_1_1\n",
    "                    union all\n",
    "                    select   * from matched_3 \n",
    "                    union all \n",
    "                    select   * from matched_4\n",
    "                    union all \n",
    "                    select   * from matched_4_1\n",
    "                    union all \n",
    "                    select   * from matched_4_1_1\n",
    "                    union all\n",
    "                    select * from matched_5\n",
    "                    union all\n",
    "                    select * from matched_6\n",
    "                    union all \n",
    "                    select * from matched_6_1\n",
    "                    union all \n",
    "                    select * from matched_6_1_1\n",
    "                    union all \n",
    "                    select * from matched_7\n",
    "                    union all\n",
    "                    select * from matched_8\n",
    "                    union all \n",
    "                    select * from matched_8_1\n",
    "                    union all \n",
    "                    select * from matched_8_1_1\n",
    "                    union all\n",
    "                    select * from result_13\n",
    "                    \n",
    "                     \"\"\")\n"
   ]
  },
  {
   "cell_type": "code",
   "execution_count": null,
   "metadata": {},
   "outputs": [],
   "source": [
    "combined_sheet.df().to_csv('combined_sheet.csv', index = False)"
   ]
  },
  {
   "cell_type": "code",
   "execution_count": null,
   "metadata": {},
   "outputs": [],
   "source": [
    "duplicates_df = pd.read_csv(\"Duplicates.csv\")"
   ]
  },
  {
   "cell_type": "code",
   "execution_count": null,
   "metadata": {},
   "outputs": [],
   "source": [
    "final_sheet = duckdb.sql(\"\"\"\n",
    "    select * from combined_sheet\n",
    "    union all\n",
    "    select * from duplicates_df\n",
    "\"\"\")"
   ]
  },
  {
   "cell_type": "code",
   "execution_count": null,
   "metadata": {},
   "outputs": [],
   "source": [
    "final_sheet.df().to_csv('final_sheet.csv', index= False)"
   ]
  },
  {
   "cell_type": "code",
   "execution_count": null,
   "metadata": {},
   "outputs": [],
   "source": []
  }
 ],
 "metadata": {
  "application/vnd.databricks.v1+notebook": {
   "dashboards": [],
   "environmentMetadata": null,
   "language": "python",
   "notebookMetadata": {
    "mostRecentlyExecutedCommandWithImplicitDF": {
     "commandId": 3550860919006769,
     "dataframes": [
      "_sqldf"
     ]
    },
    "pythonIndentUnit": 4
   },
   "notebookName": "1 - (Clone) Rishabh final-  Home Lane recon -1",
   "widgets": {}
  },
  "kernelspec": {
   "display_name": "Python 3 (ipykernel)",
   "language": "python",
   "name": "python3"
  },
  "language_info": {
   "codemirror_mode": {
    "name": "ipython",
    "version": 3
   },
   "file_extension": ".py",
   "mimetype": "text/x-python",
   "name": "python",
   "nbconvert_exporter": "python",
   "pygments_lexer": "ipython3",
   "version": "3.11.0"
  }
 },
 "nbformat": 4,
 "nbformat_minor": 4
}
