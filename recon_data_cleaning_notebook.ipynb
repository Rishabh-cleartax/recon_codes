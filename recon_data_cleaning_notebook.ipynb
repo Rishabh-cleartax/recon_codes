{
 "cells": [
  {
   "cell_type": "code",
   "execution_count": 1,
   "id": "fef2facc-930b-4cfa-ae98-90c90ec909c1",
   "metadata": {},
   "outputs": [],
   "source": [
    "\n",
    "# %pip install pandas\n",
    "# %pip install fsspec\n",
    "# %pip install --upgrade boto3 botocore s3fs\n",
    "# %pip install openpyxl\n",
    "# %pip install pyxlsb"
   ]
  },
  {
   "cell_type": "code",
   "execution_count": 2,
   "id": "0ee36965-236b-40a6-807a-e823ec9a9563",
   "metadata": {},
   "outputs": [],
   "source": [
    "import pandas as pd\n",
    "import numpy as np\n",
    "\n",
    "# Set the option to display all columns\n",
    "pd.set_option('display.max_columns', None)"
   ]
  },
  {
   "cell_type": "code",
   "execution_count": 3,
   "id": "3c771eda-1ec8-441e-aa5d-3a336656c4bb",
   "metadata": {},
   "outputs": [],
   "source": [
    "gl_file_excel = pd.read_excel('Book1.xlsx')"
   ]
  },
  {
   "cell_type": "code",
   "execution_count": 4,
   "id": "91618025-6710-4c42-b7d0-99d9c72f7e20",
   "metadata": {},
   "outputs": [
    {
     "data": {
      "text/plain": [
       "(92046, 19)"
      ]
     },
     "execution_count": 4,
     "metadata": {},
     "output_type": "execute_result"
    }
   ],
   "source": [
    "gl_file_excel.shape"
   ]
  },
  {
   "cell_type": "code",
   "execution_count": 5,
   "id": "34d5b033-b498-4bed-8252-4d9a9ab88500",
   "metadata": {},
   "outputs": [],
   "source": [
    "# gl_file_excel.head(1)"
   ]
  },
  {
   "cell_type": "code",
   "execution_count": 6,
   "id": "34bff208-632e-40a2-a14e-ffa5fac56e50",
   "metadata": {},
   "outputs": [],
   "source": [
    "gl_file_excel = gl_file_excel.astype(str)"
   ]
  },
  {
   "cell_type": "code",
   "execution_count": 7,
   "id": "4e97ccdc-b842-4b3b-8be3-4a1b371624e7",
   "metadata": {},
   "outputs": [
    {
     "name": "stdout",
     "output_type": "stream",
     "text": [
      "437\n",
      "120\n",
      "0\n",
      "5\n"
     ]
    }
   ],
   "source": [
    "print(gl_file_excel['Invoice No'].str.startswith('_x000D_').sum())\n",
    "print(gl_file_excel['Invoice No'].str.endswith('\\n').sum())\n",
    "print(gl_file_excel['Invoice No'].str.startswith('\\n').sum())\n",
    "print(gl_file_excel['Invoice No'].str.startswith('\\t').sum())"
   ]
  },
  {
   "cell_type": "code",
   "execution_count": 8,
   "id": "1cb6fe1c-47fe-405d-81a0-a24259083e41",
   "metadata": {},
   "outputs": [],
   "source": [
    "gl_file_excel['Invoice No'] = gl_file_excel['Invoice No'].str.replace(r'\\s+', '', regex=True)"
   ]
  },
  {
   "cell_type": "code",
   "execution_count": 9,
   "id": "fc0e9b27-6e1f-42df-b952-d754b52cbc4b",
   "metadata": {},
   "outputs": [
    {
     "name": "stdout",
     "output_type": "stream",
     "text": [
      "437\n",
      "0\n",
      "0\n",
      "0\n"
     ]
    }
   ],
   "source": [
    "print(gl_file_excel['Invoice No'].str.startswith('_x000D_').sum())\n",
    "print(gl_file_excel['Invoice No'].str.endswith('\\n').sum())\n",
    "print(gl_file_excel['Invoice No'].str.startswith('\\n').sum())\n",
    "print(gl_file_excel['Invoice No'].str.startswith('\\t').sum())"
   ]
  },
  {
   "cell_type": "code",
   "execution_count": 10,
   "id": "caef8fa1-3e59-436f-98dd-753871e74523",
   "metadata": {},
   "outputs": [],
   "source": [
    "gl_file_excel['Invoice No'] = gl_file_excel['Invoice No'].str.replace('_x000D_', '')"
   ]
  },
  {
   "cell_type": "code",
   "execution_count": 11,
   "id": "12dedc4a-a546-49ee-881d-0441fea3b5df",
   "metadata": {},
   "outputs": [
    {
     "data": {
      "text/plain": [
       "0"
      ]
     },
     "execution_count": 11,
     "metadata": {},
     "output_type": "execute_result"
    }
   ],
   "source": [
    "gl_file_excel['Invoice No'].str.endswith('_x000D_').sum()"
   ]
  },
  {
   "cell_type": "code",
   "execution_count": 12,
   "id": "80195aa6-c2b4-4e69-9d3c-7ce685d45ef4",
   "metadata": {},
   "outputs": [],
   "source": [
    "gl_file_excel['Invoice No'] = gl_file_excel['Invoice No'].str.strip()"
   ]
  },
  {
   "cell_type": "code",
   "execution_count": 13,
   "id": "b41b5b7b-889b-4f6e-bb50-cfe76ea30a19",
   "metadata": {},
   "outputs": [],
   "source": [
    "\n",
    "# Replace 'nan' and 'naT' strings with np.nan for all columns\n",
    "gl_file_excel.replace(['nan', 'NaT'], np.nan, regex=True, inplace=True)"
   ]
  },
  {
   "cell_type": "code",
   "execution_count": 14,
   "id": "fbaffde5-d3c3-48d1-ba37-d93251829361",
   "metadata": {},
   "outputs": [],
   "source": [
    "# Export DataFrame to CSV without the index\n",
    "gl_file_excel.to_csv('gl.csv', index=False)"
   ]
  },
  {
   "cell_type": "code",
   "execution_count": 33,
   "id": "eec67abf-7d45-4503-8155-489e1016e602",
   "metadata": {},
   "outputs": [],
   "source": [
    "gl_file_excel.to_excel('gl_excel.xlsx', index = False)"
   ]
  },
  {
   "cell_type": "code",
   "execution_count": 15,
   "id": "9ddcab96-0238-4d17-af41-73f6eda7e71b",
   "metadata": {},
   "outputs": [],
   "source": [
    "####secong part"
   ]
  },
  {
   "cell_type": "code",
   "execution_count": 16,
   "id": "3a42d8ce-07f5-4abd-927e-2e12f7da9833",
   "metadata": {},
   "outputs": [],
   "source": [
    "pr_file_excel = pd.read_excel(\"pr_new.xlsx\")"
   ]
  },
  {
   "cell_type": "code",
   "execution_count": 17,
   "id": "7340864a-299e-460c-b156-4bfec2e5bccd",
   "metadata": {},
   "outputs": [
    {
     "data": {
      "text/plain": [
       "(89605, 63)"
      ]
     },
     "execution_count": 17,
     "metadata": {},
     "output_type": "execute_result"
    }
   ],
   "source": [
    "pr_file_excel.shape"
   ]
  },
  {
   "cell_type": "code",
   "execution_count": 18,
   "id": "64f481a7-58fe-4c8a-8bed-a58a2a32f03e",
   "metadata": {},
   "outputs": [],
   "source": [
    "# pr_file_excel.head(3)"
   ]
  },
  {
   "cell_type": "code",
   "execution_count": 19,
   "id": "e2d36812-cda9-480d-a21e-7fda823713e3",
   "metadata": {
    "scrolled": true
   },
   "outputs": [],
   "source": [
    "# pr_file_excel.columns"
   ]
  },
  {
   "cell_type": "code",
   "execution_count": 20,
   "id": "a05c2ee8-bd9a-4620-88a0-f8710732db27",
   "metadata": {},
   "outputs": [],
   "source": [
    "pr_file_excel = pr_file_excel.astype(str)"
   ]
  },
  {
   "cell_type": "code",
   "execution_count": 21,
   "id": "75e2f8d4-6719-49c8-8859-e1c1d75bf9a5",
   "metadata": {},
   "outputs": [],
   "source": [
    "# filtered_df = pr_file_excel[pr_file_excel['Document Number (PR)'] == '250']\n",
    "# filtered_df.shape"
   ]
  },
  {
   "cell_type": "code",
   "execution_count": 22,
   "id": "9673777a-687c-4a1f-8e46-c20c75cee5a3",
   "metadata": {},
   "outputs": [
    {
     "name": "stdout",
     "output_type": "stream",
     "text": [
      "0\n",
      "0\n",
      "0\n",
      "0\n"
     ]
    }
   ],
   "source": [
    "print(pr_file_excel['Document Number (PR)'].str.startswith('_x000D_').sum())\n",
    "print(pr_file_excel['Document Number (PR)'].str.endswith('\\n').sum())\n",
    "print(pr_file_excel['Document Number (PR)'].str.startswith('\\n').sum())\n",
    "print(pr_file_excel['Document Number (PR)'].str.startswith('\\t').sum())"
   ]
  },
  {
   "cell_type": "code",
   "execution_count": 23,
   "id": "15074b5d-0112-4987-bc3e-7ae0e561d06c",
   "metadata": {},
   "outputs": [],
   "source": [
    "pr_file_excel['Document Number (PR)'] = pr_file_excel['Document Number (PR)'].str.replace(r'\\s+', '', regex=True)"
   ]
  },
  {
   "cell_type": "code",
   "execution_count": 24,
   "id": "0b658c6f-c226-46de-bf17-30efee062fec",
   "metadata": {},
   "outputs": [
    {
     "name": "stdout",
     "output_type": "stream",
     "text": [
      "0\n",
      "0\n",
      "0\n",
      "0\n"
     ]
    }
   ],
   "source": [
    "print(pr_file_excel['Document Number (PR)'].str.startswith('_x000D_').sum())\n",
    "print(pr_file_excel['Document Number (PR)'].str.endswith('\\n').sum())\n",
    "print(pr_file_excel['Document Number (PR)'].str.startswith('\\n').sum())\n",
    "print(pr_file_excel['Document Number (PR)'].str.startswith('\\t').sum())"
   ]
  },
  {
   "cell_type": "code",
   "execution_count": 25,
   "id": "33ab2ded-d2b6-49fe-abb8-87ddc6e91485",
   "metadata": {},
   "outputs": [],
   "source": [
    "pr_file_excel['Document Number (PR)'] = pr_file_excel['Document Number (PR)'].str.replace('_x000D_', '')"
   ]
  },
  {
   "cell_type": "code",
   "execution_count": 26,
   "id": "3ad97d8f-f3f2-413a-8537-7e81cb7e81c1",
   "metadata": {},
   "outputs": [
    {
     "data": {
      "text/plain": [
       "0"
      ]
     },
     "execution_count": 26,
     "metadata": {},
     "output_type": "execute_result"
    }
   ],
   "source": [
    "pr_file_excel['Document Number (PR)'].str.endswith('_x000D_').sum()"
   ]
  },
  {
   "cell_type": "code",
   "execution_count": 27,
   "id": "2039653d-0a94-412e-9d32-91bd70c2b3d8",
   "metadata": {},
   "outputs": [],
   "source": [
    "pr_file_excel['Document Number (PR)'] = pr_file_excel['Document Number (PR)'].str.strip()\n"
   ]
  },
  {
   "cell_type": "code",
   "execution_count": 28,
   "id": "a151fc8f-3f3e-4b1f-8337-3b4ff306e31a",
   "metadata": {},
   "outputs": [],
   "source": [
    "# Replace 'nan' and 'naT' strings with np.nan for all columns\n",
    "pr_file_excel.replace(['nan', 'NaT'], np.nan, regex=True, inplace=True)"
   ]
  },
  {
   "cell_type": "code",
   "execution_count": 29,
   "id": "699b2fcb-416f-48b9-b2f6-ce579db10d82",
   "metadata": {},
   "outputs": [],
   "source": [
    "pr_file_excel.to_csv('pr.csv', index=False)"
   ]
  },
  {
   "cell_type": "code",
   "execution_count": 32,
   "id": "234f0c39-e314-4c35-b78a-1459a69a6211",
   "metadata": {},
   "outputs": [],
   "source": [
    "pr_file_excel.to_excel('pr_excel.xlsx',index = False)"
   ]
  },
  {
   "cell_type": "code",
   "execution_count": 30,
   "id": "fdb145ed-056c-494c-8c65-98647c13af10",
   "metadata": {},
   "outputs": [
    {
     "name": "stdout",
     "output_type": "stream",
     "text": [
      "<class 'pandas.core.frame.DataFrame'>\n",
      "RangeIndex: 92046 entries, 0 to 92045\n",
      "Data columns (total 19 columns):\n",
      " #   Column                 Non-Null Count  Dtype  \n",
      "---  ------                 --------------  -----  \n",
      " 0   MY GSTIN               92046 non-null  object \n",
      " 1   Type                   92046 non-null  object \n",
      " 2   Supplier Name          91948 non-null  object \n",
      " 3   Supplier GSTIN/UIN     91974 non-null  object \n",
      " 4   Invoice No             92040 non-null  object \n",
      " 5   Invoice Date           92039 non-null  object \n",
      " 6   Original Invoice No    354 non-null    object \n",
      " 7   Original Invoice date  353 non-null    object \n",
      " 8   Total Invoice value    28171 non-null  object \n",
      " 9   Place of Supply        27816 non-null  object \n",
      " 10  Total Taxable Amount   28173 non-null  object \n",
      " 11  Integrated Tax Amount  27375 non-null  object \n",
      " 12  Central Tax Amount     64695 non-null  object \n",
      " 13  State Tax Amount       64731 non-null  object \n",
      " 14  Cess Amount            0 non-null      float64\n",
      " 15  ITC Available - Cess   0 non-null      float64\n",
      " 16  Remarks                64130 non-null  object \n",
      " 17  HL Remarks             161 non-null    object \n",
      " 18  Final Remarks          0 non-null      float64\n",
      "dtypes: float64(3), object(16)\n",
      "memory usage: 13.3+ MB\n"
     ]
    }
   ],
   "source": [
    "gl_file_excel.info()"
   ]
  },
  {
   "cell_type": "code",
   "execution_count": 31,
   "id": "664499c0-95b5-4835-bc9f-1aa58f1d122c",
   "metadata": {},
   "outputs": [
    {
     "name": "stdout",
     "output_type": "stream",
     "text": [
      "<class 'pandas.core.frame.DataFrame'>\n",
      "RangeIndex: 89605 entries, 0 to 89604\n",
      "Data columns (total 63 columns):\n",
      " #   Column                                            Non-Null Count  Dtype  \n",
      "---  ------                                            --------------  -----  \n",
      " 0   ITC Claim month                                   89605 non-null  object \n",
      " 1   Matching Key                                      89605 non-null  object \n",
      " 2   Match Status                                      89605 non-null  object \n",
      " 3   Match Status Description                          8102 non-null   object \n",
      " 4   Matching at Pan/ GSTIN                            84428 non-null  object \n",
      " 5   Sub-Buckets                                       88248 non-null  object \n",
      " 6   Mismatched Fields                                 79084 non-null  object \n",
      " 7   Mismatched Fields Count                           89605 non-null  object \n",
      " 8   Supplier Name                                     89605 non-null  object \n",
      " 9   Supplier GSTIN (PR)                               89605 non-null  object \n",
      " 10  My GSTIN (PR)                                     89605 non-null  object \n",
      " 11  Document Number (PR)                              89605 non-null  object \n",
      " 12  Document Date (PR)                                89605 non-null  object \n",
      " 13  Total Document Value (PR)                         89605 non-null  object \n",
      " 14  Taxable Value (PR)                                89605 non-null  object \n",
      " 15  Total Tax (PR)                                    89605 non-null  object \n",
      " 16  IGST (PR)                                         89605 non-null  object \n",
      " 17  CGST (PR)                                         89605 non-null  object \n",
      " 18  SGST (PR)                                         89605 non-null  object \n",
      " 19  Cess (PR)                                         89605 non-null  object \n",
      " 20  Document Type(PR)                                 89605 non-null  object \n",
      " 21  Section Name (Pr)                                 89605 non-null  object \n",
      " 22  Return Period (PR)                                89604 non-null  object \n",
      " 23  Reverse Charge (PR)                               89604 non-null  object \n",
      " 24  Place of Supply (PR)                              89605 non-null  object \n",
      " 25  ITC Claim Eligibility(PR)                         89594 non-null  object \n",
      " 26  Amendment Category                                53439 non-null  object \n",
      " 27  IGST Claimed Amount                               89605 non-null  object \n",
      " 28  CGST Claimed Amount                               89605 non-null  object \n",
      " 29  SGST Claimed Amount                               89605 non-null  object \n",
      " 30  CESS Claimed Amount                               89605 non-null  object \n",
      " 31  GSTR1 Filing Status                               89605 non-null  object \n",
      " 32  GSTR3B Filing Status                              89605 non-null  object \n",
      " 33  Vendor GSTIN Status                               0 non-null      float64\n",
      " 34  ITC Claim Status                                  89605 non-null  object \n",
      " 35  ITC Claim Month as per 3B                         89552 non-null  object \n",
      " 36  ITC Claim Amount                                  89605 non-null  object \n",
      " 37  GSTR-1/IFF/5 Filing Date                          84411 non-null  object \n",
      " 38  GSTR-1/IFF/5 Filing Period                        84411 non-null  object \n",
      " 39  Effective date of cancellation of Supplier GSTIN  0 non-null      float64\n",
      " 40  Vendor Payment Status                             0 non-null      float64\n",
      " 41  Reason for Hold/Release Vendor Payment            0 non-null      float64\n",
      " 42  Vendor Payment Remarks                            0 non-null      float64\n",
      " 43  Is Vendor Payment status manually overwritten?    89605 non-null  object \n",
      " 44  IRN                                               30984 non-null  object \n",
      " 45  IRN generation date                               30984 non-null  object \n",
      " 46  Group Id                                          0 non-null      float64\n",
      " 47  Group Remark                                      0 non-null      float64\n",
      " 48  Remarks (2B)                                      0 non-null      float64\n",
      " 49  Remarks (PR)                                      0 non-null      float64\n",
      " 50  Vendor Filing Frequency                           0 non-null      float64\n",
      " 51  Vendor Risk                                       0 non-null      float64\n",
      " 52  Vendor Code                                       0 non-null      float64\n",
      " 53  Financial Year                                    89605 non-null  object \n",
      " 54  Voucher Number                                    32882 non-null  object \n",
      " 55  Out of Range (2B)                                 89605 non-null  object \n",
      " 56  Out of Range (PR)                                 89605 non-null  object \n",
      " 57  Claimable ITC - CGST                              89605 non-null  object \n",
      " 58  Claimable ITC - SGST                              89605 non-null  object \n",
      " 59  Claimable ITC - IGST                              89605 non-null  object \n",
      " 60  Claimable ITC - Cess                              89605 non-null  object \n",
      " 61  CT Remarks                                        0 non-null      float64\n",
      " 62  Deferred ITC Month                                256 non-null    object \n",
      "dtypes: float64(13), object(50)\n",
      "memory usage: 43.1+ MB\n"
     ]
    }
   ],
   "source": [
    "pr_file_excel.info()"
   ]
  },
  {
   "cell_type": "code",
   "execution_count": null,
   "id": "d1239719-05d3-45aa-ba71-537b6adabf7d",
   "metadata": {},
   "outputs": [],
   "source": []
  }
 ],
 "metadata": {
  "kernelspec": {
   "display_name": "Python 3 (ipykernel)",
   "language": "python",
   "name": "python3"
  },
  "language_info": {
   "codemirror_mode": {
    "name": "ipython",
    "version": 3
   },
   "file_extension": ".py",
   "mimetype": "text/x-python",
   "name": "python",
   "nbconvert_exporter": "python",
   "pygments_lexer": "ipython3",
   "version": "3.11.0"
  }
 },
 "nbformat": 4,
 "nbformat_minor": 5
}
