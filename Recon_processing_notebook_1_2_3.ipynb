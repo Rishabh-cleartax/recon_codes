{
 "cells": [
  {
   "cell_type": "code",
   "execution_count": 1,
   "metadata": {
    "application/vnd.databricks.v1+cell": {
     "cellMetadata": {
      "byteLimit": 2048000,
      "rowLimit": 10000
     },
     "inputWidgets": {},
     "nuid": "aefffdeb-6dff-4b7e-929d-ff0fe0b60d27",
     "showTitle": false,
     "title": ""
    }
   },
   "outputs": [],
   "source": [
    "import pandas as pd\n",
    "import numpy as np\n",
    "import duckdb"
   ]
  },
  {
   "cell_type": "code",
   "execution_count": 2,
   "metadata": {},
   "outputs": [
    {
     "data": {
      "text/plain": [
       "<duckdb.DuckDBPyConnection at 0x23825ff6230>"
      ]
     },
     "execution_count": 2,
     "metadata": {},
     "output_type": "execute_result"
    }
   ],
   "source": [
    "# example setting the sample size to 100000\n",
    "duckdb.default_connection.execute(\"SET GLOBAL pandas_analyze_sample=100000\")\n"
   ]
  },
  {
   "cell_type": "markdown",
   "metadata": {
    "application/vnd.databricks.v1+cell": {
     "cellMetadata": {
      "byteLimit": 2048000,
      "rowLimit": 10000
     },
     "inputWidgets": {},
     "nuid": "d3352f09-b67c-469e-971c-5a9574349906",
     "showTitle": false,
     "title": ""
    }
   },
   "source": [
    "## Loading GL AND PR data "
   ]
  },
  {
   "cell_type": "code",
   "execution_count": 3,
   "metadata": {},
   "outputs": [
    {
     "name": "stderr",
     "output_type": "stream",
     "text": [
      "C:\\Users\\rishabh.singh_clear\\AppData\\Local\\Temp\\ipykernel_13224\\1320238739.py:1: DtypeWarning: Columns (6,7,9,17) have mixed types. Specify dtype option on import or set low_memory=False.\n",
      "  gl_file_excel = pd.read_csv('gl.csv')\n"
     ]
    }
   ],
   "source": [
    "gl_file_excel = pd.read_csv('gl.csv')"
   ]
  },
  {
   "cell_type": "code",
   "execution_count": 4,
   "metadata": {},
   "outputs": [
    {
     "data": {
      "text/plain": [
       "(92046, 19)"
      ]
     },
     "execution_count": 4,
     "metadata": {},
     "output_type": "execute_result"
    }
   ],
   "source": [
    "gl_file_excel.shape"
   ]
  },
  {
   "cell_type": "code",
   "execution_count": 5,
   "metadata": {},
   "outputs": [],
   "source": [
    "pr_file_excel = pd.read_csv(\"pr.csv\")"
   ]
  },
  {
   "cell_type": "code",
   "execution_count": 6,
   "metadata": {},
   "outputs": [
    {
     "data": {
      "text/plain": [
       "(89605, 63)"
      ]
     },
     "execution_count": 6,
     "metadata": {},
     "output_type": "execute_result"
    }
   ],
   "source": [
    "pr_file_excel.shape"
   ]
  },
  {
   "cell_type": "code",
   "execution_count": 7,
   "metadata": {},
   "outputs": [
    {
     "data": {
      "text/html": [
       "<div>\n",
       "<style scoped>\n",
       "    .dataframe tbody tr th:only-of-type {\n",
       "        vertical-align: middle;\n",
       "    }\n",
       "\n",
       "    .dataframe tbody tr th {\n",
       "        vertical-align: top;\n",
       "    }\n",
       "\n",
       "    .dataframe thead th {\n",
       "        text-align: right;\n",
       "    }\n",
       "</style>\n",
       "<table border=\"1\" class=\"dataframe\">\n",
       "  <thead>\n",
       "    <tr style=\"text-align: right;\">\n",
       "      <th></th>\n",
       "      <th>MY GSTIN</th>\n",
       "      <th>Type</th>\n",
       "      <th>Supplier Name</th>\n",
       "      <th>Supplier GSTIN/UIN</th>\n",
       "      <th>Invoice No</th>\n",
       "      <th>Invoice Date</th>\n",
       "      <th>Original Invoice No</th>\n",
       "      <th>Original Invoice date</th>\n",
       "      <th>Total Invoice value</th>\n",
       "      <th>Place of Supply</th>\n",
       "      <th>Total Taxable Amount</th>\n",
       "      <th>Integrated Tax Amount</th>\n",
       "      <th>Central Tax Amount</th>\n",
       "      <th>State Tax Amount</th>\n",
       "      <th>Cess Amount</th>\n",
       "      <th>ITC Available - Cess</th>\n",
       "      <th>Remarks</th>\n",
       "      <th>HL Remarks</th>\n",
       "      <th>Final Remarks</th>\n",
       "    </tr>\n",
       "  </thead>\n",
       "  <tbody>\n",
       "    <tr>\n",
       "      <th>0</th>\n",
       "      <td>29AADCH3844D1ZO</td>\n",
       "      <td>B2B</td>\n",
       "      <td>SOLUTIONS INFINI TECHNOLOGIES (I) Pvt Ltd</td>\n",
       "      <td>29AANCS0353C1ZF</td>\n",
       "      <td>NaN</td>\n",
       "      <td>NaN</td>\n",
       "      <td>NaN</td>\n",
       "      <td>NaN</td>\n",
       "      <td>2001.55</td>\n",
       "      <td>Karnataka</td>\n",
       "      <td>2001.55</td>\n",
       "      <td>13.98</td>\n",
       "      <td>173.15</td>\n",
       "      <td>173.15</td>\n",
       "      <td>NaN</td>\n",
       "      <td>NaN</td>\n",
       "      <td>Supplier GSTIN missing+Supplier Tax Invoice No...</td>\n",
       "      <td>Ignore No GST ( Journal Entry)</td>\n",
       "      <td>NaN</td>\n",
       "    </tr>\n",
       "  </tbody>\n",
       "</table>\n",
       "</div>"
      ],
      "text/plain": [
       "          MY GSTIN Type                              Supplier Name   \n",
       "0  29AADCH3844D1ZO  B2B  SOLUTIONS INFINI TECHNOLOGIES (I) Pvt Ltd  \\\n",
       "\n",
       "  Supplier GSTIN/UIN Invoice No Invoice Date Original Invoice No   \n",
       "0    29AANCS0353C1ZF        NaN          NaN                 NaN  \\\n",
       "\n",
       "  Original Invoice date  Total Invoice value Place of Supply   \n",
       "0                   NaN              2001.55       Karnataka  \\\n",
       "\n",
       "   Total Taxable Amount  Integrated Tax Amount  Central Tax Amount   \n",
       "0               2001.55                  13.98              173.15  \\\n",
       "\n",
       "   State Tax Amount  Cess Amount  ITC Available - Cess   \n",
       "0            173.15          NaN                   NaN  \\\n",
       "\n",
       "                                             Remarks   \n",
       "0  Supplier GSTIN missing+Supplier Tax Invoice No...  \\\n",
       "\n",
       "                       HL Remarks  Final Remarks  \n",
       "0  Ignore No GST ( Journal Entry)            NaN  "
      ]
     },
     "execution_count": 7,
     "metadata": {},
     "output_type": "execute_result"
    }
   ],
   "source": [
    "gl_file_excel.head(1)"
   ]
  },
  {
   "cell_type": "code",
   "execution_count": 8,
   "metadata": {},
   "outputs": [],
   "source": [
    "# # Convert all columns to strings\n",
    "# gl_file_excel = gl_file_excel.astype(str)\n",
    "# pr_file_excel = pr_file_excel.astype(str)"
   ]
  },
  {
   "cell_type": "code",
   "execution_count": 9,
   "metadata": {},
   "outputs": [],
   "source": [
    "# Convert to datetime\n",
    "gl_file_excel['Invoice Date'] = pd.to_datetime(gl_file_excel['Invoice Date'], format='%d-%m-%Y', errors='coerce')\n",
    "\n",
    "# Format as 'dd-mm-yyyy'\n",
    "gl_file_excel['Invoice Date'] = gl_file_excel['Invoice Date'].dt.strftime('%d-%m-%Y')"
   ]
  },
  {
   "cell_type": "code",
   "execution_count": 10,
   "metadata": {},
   "outputs": [],
   "source": [
    "# Convert to datetime\n",
    "pr_file_excel['Document Date (PR)'] = pd.to_datetime(pr_file_excel['Document Date (PR)'], format='%d-%m-%Y', errors='coerce')\n",
    "\n",
    "# Format as 'dd-mm-yyyy'\n",
    "pr_file_excel['Document Date (PR)'] = pr_file_excel['Document Date (PR)'].dt.strftime('%d-%m-%Y')"
   ]
  },
  {
   "cell_type": "code",
   "execution_count": 11,
   "metadata": {},
   "outputs": [
    {
     "data": {
      "text/html": [
       "<div>\n",
       "<style scoped>\n",
       "    .dataframe tbody tr th:only-of-type {\n",
       "        vertical-align: middle;\n",
       "    }\n",
       "\n",
       "    .dataframe tbody tr th {\n",
       "        vertical-align: top;\n",
       "    }\n",
       "\n",
       "    .dataframe thead th {\n",
       "        text-align: right;\n",
       "    }\n",
       "</style>\n",
       "<table border=\"1\" class=\"dataframe\">\n",
       "  <thead>\n",
       "    <tr style=\"text-align: right;\">\n",
       "      <th></th>\n",
       "      <th>ITC Claim month</th>\n",
       "      <th>Matching Key</th>\n",
       "      <th>Match Status</th>\n",
       "      <th>Match Status Description</th>\n",
       "      <th>Matching at Pan/ GSTIN</th>\n",
       "      <th>Sub-Buckets</th>\n",
       "      <th>Mismatched Fields</th>\n",
       "      <th>Mismatched Fields Count</th>\n",
       "      <th>Supplier Name</th>\n",
       "      <th>Supplier GSTIN (PR)</th>\n",
       "      <th>...</th>\n",
       "      <th>Financial Year</th>\n",
       "      <th>Voucher Number</th>\n",
       "      <th>Out of Range (2B)</th>\n",
       "      <th>Out of Range (PR)</th>\n",
       "      <th>Claimable ITC - CGST</th>\n",
       "      <th>Claimable ITC - SGST</th>\n",
       "      <th>Claimable ITC - IGST</th>\n",
       "      <th>Claimable ITC - Cess</th>\n",
       "      <th>CT Remarks</th>\n",
       "      <th>Deferred ITC Month</th>\n",
       "    </tr>\n",
       "  </thead>\n",
       "  <tbody>\n",
       "    <tr>\n",
       "      <th>0</th>\n",
       "      <td>2024 01</td>\n",
       "      <td>f5552d7f441c141c</td>\n",
       "      <td>Exact</td>\n",
       "      <td>NaN</td>\n",
       "      <td>My Gstin and Supplier Gstin Level</td>\n",
       "      <td>Actioned with No Changes</td>\n",
       "      <td>Taxable Value</td>\n",
       "      <td>1</td>\n",
       "      <td>TRINITY PANEL</td>\n",
       "      <td>29AAMFT6309F1ZV</td>\n",
       "      <td>...</td>\n",
       "      <td>2023-24</td>\n",
       "      <td>Jan'24</td>\n",
       "      <td>False</td>\n",
       "      <td>False</td>\n",
       "      <td>1737.9</td>\n",
       "      <td>1737.9</td>\n",
       "      <td>0.0</td>\n",
       "      <td>0</td>\n",
       "      <td>NaN</td>\n",
       "      <td>NaN</td>\n",
       "    </tr>\n",
       "  </tbody>\n",
       "</table>\n",
       "<p>1 rows × 63 columns</p>\n",
       "</div>"
      ],
      "text/plain": [
       "  ITC Claim month      Matching Key Match Status Match Status Description   \n",
       "0         2024 01  f5552d7f441c141c        Exact                      NaN  \\\n",
       "\n",
       "              Matching at Pan/ GSTIN               Sub-Buckets   \n",
       "0  My Gstin and Supplier Gstin Level  Actioned with No Changes  \\\n",
       "\n",
       "  Mismatched Fields  Mismatched Fields Count  Supplier Name   \n",
       "0     Taxable Value                        1  TRINITY PANEL  \\\n",
       "\n",
       "  Supplier GSTIN (PR)  ... Financial Year Voucher Number Out of Range (2B)   \n",
       "0     29AAMFT6309F1ZV  ...        2023-24         Jan'24             False  \\\n",
       "\n",
       "   Out of Range (PR)  Claimable ITC - CGST  Claimable ITC - SGST   \n",
       "0              False                1737.9                1737.9  \\\n",
       "\n",
       "   Claimable ITC - IGST  Claimable ITC - Cess  CT Remarks  Deferred ITC Month  \n",
       "0                   0.0                     0         NaN                 NaN  \n",
       "\n",
       "[1 rows x 63 columns]"
      ]
     },
     "execution_count": 11,
     "metadata": {},
     "output_type": "execute_result"
    }
   ],
   "source": [
    "pr_file_excel.head(1)"
   ]
  },
  {
   "cell_type": "code",
   "execution_count": 12,
   "metadata": {
    "application/vnd.databricks.v1+cell": {
     "cellMetadata": {
      "byteLimit": 2048000,
      "rowLimit": 10000
     },
     "inputWidgets": {},
     "nuid": "3a3f36c6-a183-41e4-9f90-c1c90d35beaa",
     "showTitle": false,
     "title": ""
    }
   },
   "outputs": [],
   "source": [
    "gl_file = gl_file_excel.copy()"
   ]
  },
  {
   "cell_type": "code",
   "execution_count": 13,
   "metadata": {
    "application/vnd.databricks.v1+cell": {
     "cellMetadata": {
      "byteLimit": 2048000,
      "rowLimit": 10000
     },
     "inputWidgets": {},
     "nuid": "3b57e246-bdec-4b73-8ce1-22b187ae31b7",
     "showTitle": false,
     "title": ""
    }
   },
   "outputs": [],
   "source": [
    "pr_file = pr_file_excel.copy()"
   ]
  },
  {
   "cell_type": "code",
   "execution_count": 14,
   "metadata": {
    "application/vnd.databricks.v1+cell": {
     "cellMetadata": {
      "byteLimit": 2048000,
      "rowLimit": 10000
     },
     "inputWidgets": {},
     "nuid": "2232925a-e288-4cb3-af01-8b20cdae1ad9",
     "showTitle": false,
     "title": ""
    }
   },
   "outputs": [
    {
     "data": {
      "text/plain": [
       "(92046, 19)"
      ]
     },
     "execution_count": 14,
     "metadata": {},
     "output_type": "execute_result"
    }
   ],
   "source": [
    "gl_file.shape"
   ]
  },
  {
   "cell_type": "code",
   "execution_count": 15,
   "metadata": {},
   "outputs": [
    {
     "data": {
      "text/plain": [
       "(89605, 63)"
      ]
     },
     "execution_count": 15,
     "metadata": {},
     "output_type": "execute_result"
    }
   ],
   "source": [
    "pr_file.shape"
   ]
  },
  {
   "cell_type": "code",
   "execution_count": 16,
   "metadata": {},
   "outputs": [],
   "source": [
    "gl_1 = duckdb.sql(\"\"\"\n",
    "              select \n",
    "                    \"Supplier GSTIN/UIN\",\n",
    "                    \"MY GSTIN\",\n",
    "                    regexp_replace(\"Invoice No\", '^[^a-zA-Z0-9]|[^a-zA-Z0-9]$', '')   as \"Invoice No\",\n",
    "                    \"Invoice Date\" as \"Invoice Date\",\n",
    "                     \"Remarks\",\n",
    "                     \"HL Remarks\",\n",
    "                    coalesce(cast(replace(\"Integrated Tax Amount\",',','') as DECIMAL(10,2)),0) as \"IGST (GL)\",\n",
    "                    coalesce(cast(replace(\"Central Tax Amount\",',','') as DECIMAL(10,2)),0) as \"CGST (GL)\",\n",
    "                    coalesce(cast(replace(\"State Tax Amount\",',','') as DECIMAL(10,2)),0) as \"SGST (GL)\",\n",
    "                    \n",
    "                   (coalesce(cast(replace(\"Integrated Tax Amount\",',','') as DECIMAL(10,2)),0) + \n",
    "                   coalesce(cast(replace(\"Central Tax Amount\",',','') as DECIMAL(10,2)),0) +\n",
    "                   coalesce(cast(replace(\"State Tax Amount\",',','') as DECIMAL(10,2)),0)) \n",
    "                   as \"Total Tax(GL)\"\n",
    "                   from\n",
    "                   gl_file\"\"\")"
   ]
  },
  {
   "cell_type": "code",
   "execution_count": 17,
   "metadata": {},
   "outputs": [],
   "source": [
    "gl = duckdb.sql(\"\"\"\n",
    "              select \n",
    "               \"Supplier GSTIN/UIN\",\n",
    "               \"MY GSTIN\",\n",
    "              \"Invoice No\",\n",
    "              \"Invoice Date\" as\"Invoice Date\",\n",
    "             string_agg(\"Remarks\", '-') as \"Remarks\",\n",
    "            string_agg(\"HL Remarks\", '-') as \"HL Remarks\",\n",
    "             sum(\"IGST (GL)\") as \"IGST (GL)\",\n",
    "             sum(\"CGST (GL)\") as \"CGST (GL)\",\n",
    "             sum(\"SGST (GL)\") as \"SGST (GL)\",\n",
    "             sum(\"Total Tax(GL)\") as\"Total Tax(GL)\"\n",
    "              from gl_1\n",
    "              group by 1,2,3,4\n",
    "              \"\"\")"
   ]
  },
  {
   "cell_type": "code",
   "execution_count": 18,
   "metadata": {},
   "outputs": [
    {
     "name": "stdout",
     "output_type": "stream",
     "text": [
      "IGST amount in gl is:-> 153907928.52999997\n",
      "CGST amount in gl is:-> 117670418.69\n",
      "SGST amount in gl is:-> 114199400.67\n",
      "Total Tax amount in gl is:-> 385777747.89\n"
     ]
    }
   ],
   "source": [
    "print(f'IGST amount in gl is:-> {gl.df()[\"IGST (GL)\"].sum()}')\n",
    "print(f'CGST amount in gl is:-> {gl.df()[\"CGST (GL)\"].sum()}')\n",
    "print(f'SGST amount in gl is:-> {gl.df()[\"SGST (GL)\"].sum()}')\n",
    "print(f'Total Tax amount in gl is:-> {gl.df()[\"Total Tax(GL)\"].sum()}')"
   ]
  },
  {
   "cell_type": "code",
   "execution_count": 19,
   "metadata": {},
   "outputs": [
    {
     "data": {
      "text/plain": [
       "385777747.89"
      ]
     },
     "execution_count": 19,
     "metadata": {},
     "output_type": "execute_result"
    }
   ],
   "source": [
    "g_val= gl.df()[\"Total Tax(GL)\"].sum()\n",
    "g_val"
   ]
  },
  {
   "cell_type": "code",
   "execution_count": 20,
   "metadata": {},
   "outputs": [
    {
     "data": {
      "text/plain": [
       "(88093, 10)"
      ]
     },
     "execution_count": 20,
     "metadata": {},
     "output_type": "execute_result"
    }
   ],
   "source": [
    "gl.shape"
   ]
  },
  {
   "cell_type": "code",
   "execution_count": 21,
   "metadata": {
    "application/vnd.databricks.v1+cell": {
     "cellMetadata": {
      "byteLimit": 2048000,
      "rowLimit": 10000
     },
     "inputWidgets": {},
     "nuid": "685333ae-2686-45fb-aa26-2eb502527767",
     "showTitle": false,
     "title": ""
    }
   },
   "outputs": [],
   "source": [
    "# Rank the rows in pr_file  to handle the duplicates\n",
    "pr_ranked_1 = duckdb.sql(\"\"\"\n",
    "    SELECT \"Supplier GSTIN (PR)\",\n",
    "        \"My GSTIN (PR)\",\n",
    "        REGEXP_REPLACE(\"Document Number (PR)\", '^[^a-zA-Z0-9]|[^a-zA-Z0-9]$', '') AS \"Document Number (PR)\",\n",
    "        \"Document Date (PR)\",\n",
    "        COALESCE(CAST(REPLACE(\"IGST (PR)\", ',', '') AS DECIMAL(10,2)), 0) AS \"IGST (PR)\",\n",
    "        COALESCE(CAST(REPLACE(\"CGST (PR)\", ',', '') AS DECIMAL(10,2)), 0) AS \"CGST (PR)\",\n",
    "        COALESCE(CAST(REPLACE(\"SGST (PR)\", ',', '') AS DECIMAL(10,2)), 0) AS \"SGST (PR)\",\n",
    "        CAST(REPLACE(\"Total Tax (PR)\", ',', '') AS DECIMAL(10,2)) AS \"Total Tax(PR)\"\n",
    "    FROM pr_file\n",
    "\"\"\")\n",
    "\n",
    "pr_ranked = duckdb.sql(\"\"\"\n",
    "    SELECT \n",
    "       \"Supplier GSTIN (PR)\",\n",
    "        \"My GSTIN (PR)\",\n",
    "        \"Document Number (PR)\",\n",
    "        \"Document Date (PR)\",\n",
    "        \"IGST (PR)\",\n",
    "        \"CGST (PR)\",\n",
    "        \"SGST (PR)\",\n",
    "        \"Total Tax(PR)\",\n",
    "        row_number() OVER (PARTITION BY \"Supplier GSTIN (PR)\", \"My GSTIN (PR)\", \"Document Number (PR)\", \"Document Date (PR)\", \"Total Tax(PR)\"\n",
    "        order by \"Document Date (PR)\" asc) AS rn\n",
    "    FROM pr_ranked_1\n",
    "\"\"\")\n",
    "# Separate the ranked data into rank 1 and duplicates\n",
    "pr_filtered_1 =duckdb.sql(\"\"\"\n",
    "        SELECT \n",
    "        \"Supplier GSTIN (PR)\",\n",
    "         \"My GSTIN (PR)\",\n",
    "         \"Document Number (PR)\",\n",
    "         \"Document Date (PR)\",\n",
    "         COALESCE(CAST(REPLACE(\"IGST (PR)\", ',', '') AS DECIMAL(10,2)), 0) AS \"IGST (PR)\",\n",
    "         COALESCE(CAST(REPLACE(\"CGST (PR)\", ',', '') AS DECIMAL(10,2)), 0) AS \"CGST (PR)\",\n",
    "         COALESCE(CAST(REPLACE(\"SGST (PR)\", ',', '') AS DECIMAL(10,2)), 0) AS \"SGST (PR)\",\n",
    "         CAST(REPLACE(\"Total Tax(PR)\", ',', '') AS DECIMAL(10,2)) AS \"Total Tax(PR)\"\n",
    "        \n",
    "    FROM pr_ranked\n",
    "    where rn= 1\n",
    "\"\"\")\n",
    "\n",
    "\n",
    "pr_filtered =duckdb.sql(\"\"\"\n",
    "        SELECT \n",
    "        \"Supplier GSTIN (PR)\",\n",
    "         \"My GSTIN (PR)\",\n",
    "         \"Document Number (PR)\",\n",
    "         \"Document Date (PR)\",\n",
    "        sum(\"IGST (PR)\") AS \"IGST (PR)\",\n",
    "        sum(\"CGST (PR)\")  AS \"CGST (PR)\",\n",
    "        sum(\"SGST (PR)\") AS \"SGST (PR)\",\n",
    "        sum(\"Total Tax(PR)\") AS \"Total Tax(PR)\"\n",
    "        FROM pr_filtered_1\n",
    "    group by 1,2,3,4\n",
    "\"\"\")\n",
    "\n"
   ]
  },
  {
   "cell_type": "code",
   "execution_count": 22,
   "metadata": {
    "application/vnd.databricks.v1+cell": {
     "cellMetadata": {
      "byteLimit": 2048000,
      "rowLimit": 10000
     },
     "inputWidgets": {},
     "nuid": "8d3710c5-1e1e-4910-b793-570c4fd8bffe",
     "showTitle": false,
     "title": ""
    }
   },
   "outputs": [
    {
     "data": {
      "text/plain": [
       "(88218, 8)"
      ]
     },
     "execution_count": 22,
     "metadata": {},
     "output_type": "execute_result"
    }
   ],
   "source": [
    "pr_filtered.shape"
   ]
  },
  {
   "cell_type": "code",
   "execution_count": 23,
   "metadata": {
    "application/vnd.databricks.v1+cell": {
     "cellMetadata": {
      "byteLimit": 2048000,
      "rowLimit": 10000
     },
     "inputWidgets": {},
     "nuid": "32eed05f-5e15-4016-869b-69f98c7bb612",
     "showTitle": false,
     "title": ""
    }
   },
   "outputs": [],
   "source": [
    "pr_duplicates = duckdb.sql(\"\"\"\n",
    "    \n",
    "    SELECT \n",
    "        \"Supplier GSTIN (PR)\",\n",
    "        \"My GSTIN (PR)\",\n",
    "        \"Document Number (PR)\",\n",
    "        \"Document Date (PR)\",\n",
    "            coalesce(CAST(REPLACE(\"IGST (PR)\", ',', '') AS DECIMAL(10,2)),0) as \"IGST (PR)\",\n",
    "             coalesce(CAST(REPLACE(\"CGST (PR)\", ',', '') AS DECIMAL(10,2)),0) as  \"CGST (PR)\",\n",
    "             coalesce(CAST(REPLACE(\"SGST (PR)\", ',', '') AS DECIMAL(10,2)),0) as \"SGST (PR)\",\n",
    "         CAST(REPLACE(\"Total Tax(PR)\", ',', '') AS DECIMAL(10,2)) AS \"Total Tax(PR)\"\n",
    "       FROM pr_ranked\n",
    "    WHERE rn >= 2\n",
    "\"\"\")\n",
    "\n",
    "\n",
    "# Add duplicates with appropriate remarks\n",
    "duplicates_df = duckdb.sql(\"\"\"\n",
    "    SELECT\n",
    "        NULL AS \"Supplier GSTIN/UIN\",\n",
    "        NULL AS \"MY GSTIN\",\n",
    "        NULL AS \"Invoice No\", \n",
    "        NULL AS \"Invoice Date\", \n",
    "        NULL as \"IGST (GL)\",\n",
    "        Null as \"CGST (GL)\",\n",
    "        Null as \"SGST (GL)\",\n",
    "        NULL AS \"total Tax(GL)\",\n",
    "        \"Supplier GSTIN (PR)\",\n",
    "        \"My GSTIN (PR)\", \n",
    "        \"Document Number (PR)\",\n",
    "        \"Document Date (PR)\", \n",
    "        \"IGST (PR)\",\n",
    "        \"CGST (PR)\",\n",
    "        \"SGST (PR)\",\n",
    "        \"Total Tax(PR)\", \n",
    "        null as \"Remark\",\n",
    "        null as \"HL Remark\",\n",
    "        Null as \"Matching keys\",\n",
    "       'Duplicate Entry In PR' AS \"Remarks\",\n",
    "       Null as \"Remarks_1\"\n",
    "\n",
    "    FROM pr_duplicates\n",
    "\"\"\")"
   ]
  },
  {
   "cell_type": "code",
   "execution_count": 24,
   "metadata": {},
   "outputs": [
    {
     "data": {
      "text/plain": [
       "(1216, 8)"
      ]
     },
     "execution_count": 24,
     "metadata": {},
     "output_type": "execute_result"
    }
   ],
   "source": [
    "pr_duplicates.shape"
   ]
  },
  {
   "cell_type": "code",
   "execution_count": 25,
   "metadata": {},
   "outputs": [],
   "source": [
    "      \n",
    " #Perform the full outer join and add remarks\n",
    "result_1 = duckdb.sql(\"\"\"\n",
    "        SELECT\n",
    "        gl_file.\"Supplier GSTIN/UIN\",\n",
    "        gl_file.\"MY GSTIN\" ,\n",
    "        gl_file.\"Invoice No\", \n",
    "        gl_file.\"Invoice Date\", \n",
    "        gl_file.\"IGST (GL)\",\n",
    "        gl_file.\"CGST (GL)\",\n",
    "        gl_file.\"SGST (GL)\",\n",
    "        gl_file.\"Total Tax(GL)\",\n",
    "        pr_filtered.\"Supplier GSTIN (PR)\", \n",
    "        pr_filtered.\"My GSTIN (PR)\" ,\n",
    "        pr_filtered.\"Document Number (PR)\",\n",
    "        pr_filtered.\"Document Date (PR)\",\n",
    "        pr_filtered.\"IGST (PR)\",\n",
    "        pr_filtered.\"CGST (PR)\",\n",
    "        pr_filtered.\"SGST (PR)\",\n",
    "        pr_filtered.\"Total Tax(PR)\",\n",
    "        gl_file.\"Remarks\" as \"Remark\" ,\n",
    "        gl_file.\"HL Remarks\" as \"HL Remark\" ,\n",
    "        'SUPPLIER GSTIN-MY GSTIN-INVOICE NO-INVOICE DATE' as \"Matching keys\",\n",
    "        CASE\n",
    "            WHEN ABS(gl_file.\"Total Tax(GL)\" - pr_filtered.\"Total Tax(PR)\") BETWEEN 1 AND 10 THEN 'Suggested Match'\n",
    "            WHEN abs(gl_file.\"Total Tax(GL)\" - pr_filtered.\"Total Tax(PR)\") <1  THEN 'Exact Match'\n",
    "            WHEN abs(gl_file.\"Total Tax(GL)\" - pr_filtered.\"Total Tax(PR)\") >10  THEN 'Mismatch'\n",
    "            ELSE 'Others In Mismatch'\n",
    "        END AS \"Remarks\",\n",
    "        'All Match' as 'Remarks-1'\n",
    "        \n",
    "    FROM gl as gl_file\n",
    "    FULL OUTER JOIN pr_filtered as pr_filtered\n",
    "    ON gl_file.\"Supplier GSTIN/UIN\" = pr_filtered.\"Supplier GSTIN (PR)\"\n",
    "    AND gl_file.\"MY GSTIN\" = pr_filtered.\"My GSTIN (PR)\"\n",
    "    AND gl_file.\"Invoice No\" = pr_filtered.\"Document Number (PR)\"\n",
    "    AND gl_file.\"Invoice Date\" = pr_filtered.\"Document Date (PR)\"\n",
    "   \n",
    "\"\"\")"
   ]
  },
  {
   "cell_type": "code",
   "execution_count": 26,
   "metadata": {},
   "outputs": [],
   "source": [
    "# result_1 = duckdb.sql(\"\"\"\n",
    "#     SELECT\n",
    "#         COALESCE(gl_file.\"Supplier GSTIN/UIN\", '') AS \"Supplier GSTIN/UIN\",\n",
    "#         COALESCE(gl_file.\"MY GSTIN\", '') AS \"MY GSTIN\",\n",
    "#         COALESCE(gl_file.\"Invoice No\", '') AS \"Invoice No\",\n",
    "#         COALESCE(gl_file.\"Invoice Date\", '') AS \"Invoice Date\",\n",
    "#         COALESCE(gl_file.\"IGST (GL)\", '') AS \"IGST (GL)\",\n",
    "#         COALESCE(gl_file.\"CGST (GL)\", '') AS \"CGST (GL)\",\n",
    "#         COALESCE(gl_file.\"SGST (GL)\", '') AS \"SGST (GL)\",\n",
    "#         COALESCE(gl_file.\"Total Tax(GL)\", '') AS \"Total Tax(GL)\",\n",
    "#         COALESCE(pr_filtered.\"Supplier GSTIN (PR)\", '') AS \"Supplier GSTIN (PR)\",\n",
    "#         COALESCE(pr_filtered.\"My GSTIN (PR)\", '') AS \"My GSTIN (PR)\",\n",
    "#         COALESCE(pr_filtered.\"Document Number (PR)\", '') AS \"Document Number (PR)\",\n",
    "#         COALESCE(pr_filtered.\"Document Date (PR)\", '') AS \"Document Date (PR)\",\n",
    "#         COALESCE(pr_filtered.\"IGST (PR)\", '') AS \"IGST (PR)\",\n",
    "#         COALESCE(pr_filtered.\"CGST (PR)\", '') AS \"CGST (PR)\",\n",
    "#         COALESCE(pr_filtered.\"SGST (PR)\", '') AS \"SGST (PR)\",\n",
    "#         COALESCE(pr_filtered.\"Total Tax(PR)\", '') AS \"Total Tax(PR)\",\n",
    "#         COALESCE(gl_file.\"Remarks\", '') AS \"Remark\",\n",
    "#         COALESCE(gl_file.\"HL Remarks\", '') AS \"HL Remark\",\n",
    "#         'SUPPLIER GSTIN-MY GSTIN-INVOICE NO-INVOICE DATE' AS \"Matching keys\",\n",
    "#         CASE\n",
    "#             WHEN ABS(COALESCE(gl_file.\"Total Tax(GL)\", 0) - COALESCE(pr_filtered.\"Total Tax(PR)\", 0)) BETWEEN 1 AND 10 THEN 'Suggested Match'\n",
    "#             WHEN ABS(COALESCE(gl_file.\"Total Tax(GL)\", 0) - COALESCE(pr_filtered.\"Total Tax(PR)\", 0)) < 1 THEN 'Exact Match'\n",
    "#             WHEN ABS(COALESCE(gl_file.\"Total Tax(GL)\", 0) - COALESCE(pr_filtered.\"Total Tax(PR)\", 0)) > 10 THEN 'Mismatch'\n",
    "#             ELSE 'Others In Mismatch'\n",
    "#         END AS \"Remarks\",\n",
    "#         'All Match' AS \"Remarks-1\"\n",
    "#     FROM gl AS gl_file\n",
    "#     FULL OUTER JOIN pr_filtered AS pr_filtered\n",
    "#     ON gl_file.\"Supplier GSTIN/UIN\" = pr_filtered.\"Supplier GSTIN (PR)\"\n",
    "#     AND gl_file.\"MY GSTIN\" = pr_filtered.\"My GSTIN (PR)\"\n",
    "#     AND gl_file.\"Invoice No\" = pr_filtered.\"Document Number (PR)\"\n",
    "#     AND gl_file.\"Invoice Date\" = pr_filtered.\"Document Date (PR)\"\n",
    "# \"\"\")\n"
   ]
  },
  {
   "cell_type": "code",
   "execution_count": 27,
   "metadata": {},
   "outputs": [],
   "source": [
    " # AND abs(pr_filtered.\"Total Tax(PR)\"-gl_file.\"Total Tax(GL)\" ) <=10"
   ]
  },
  {
   "cell_type": "code",
   "execution_count": 28,
   "metadata": {
    "application/vnd.databricks.v1+cell": {
     "cellMetadata": {
      "byteLimit": 2048000,
      "rowLimit": 10000
     },
     "inputWidgets": {},
     "nuid": "8369ff88-eecc-4475-b1d7-152795ca7e26",
     "showTitle": false,
     "title": ""
    }
   },
   "outputs": [
    {
     "data": {
      "text/plain": [
       "(105186, 21)"
      ]
     },
     "execution_count": 28,
     "metadata": {},
     "output_type": "execute_result"
    }
   ],
   "source": [
    "result_1.shape"
   ]
  },
  {
   "cell_type": "code",
   "execution_count": 29,
   "metadata": {},
   "outputs": [],
   "source": [
    "result_1.df().to_csv('result_1.csv', index = False)\n",
    "duplicates_df.df().to_csv('Duplicates.csv', index = False)"
   ]
  },
  {
   "cell_type": "code",
   "execution_count": 30,
   "metadata": {},
   "outputs": [],
   "source": [
    "matched_1 = duckdb.sql( \"\"\"select * from result_1\n",
    "                               \n",
    "                               where Remarks in ('Exact Match', 'Suggested Match', 'Mismatch') \"\"\")"
   ]
  },
  {
   "cell_type": "code",
   "execution_count": 31,
   "metadata": {},
   "outputs": [
    {
     "data": {
      "text/plain": [
       "833835192.2199999"
      ]
     },
     "execution_count": 31,
     "metadata": {},
     "output_type": "execute_result"
    }
   ],
   "source": [
    "m = matched_1.df()[\"Total Tax(GL)\"].sum()\n",
    "m"
   ]
  },
  {
   "cell_type": "code",
   "execution_count": 32,
   "metadata": {},
   "outputs": [],
   "source": [
    "matched_1.df().to_csv('matched_1.csv', index = False)"
   ]
  },
  {
   "cell_type": "code",
   "execution_count": 33,
   "metadata": {},
   "outputs": [
    {
     "name": "stderr",
     "output_type": "stream",
     "text": [
      "C:\\Users\\rishabh.singh_clear\\AppData\\Local\\Temp\\ipykernel_13224\\2182478160.py:1: DtypeWarning: Columns (0,1,2,3,16,17) have mixed types. Specify dtype option on import or set low_memory=False.\n",
      "  result_1 = pd.read_csv('result_1.csv')\n"
     ]
    }
   ],
   "source": [
    "result_1 = pd.read_csv('result_1.csv')"
   ]
  },
  {
   "cell_type": "code",
   "execution_count": 34,
   "metadata": {},
   "outputs": [
    {
     "name": "stdout",
     "output_type": "stream",
     "text": [
      "IGST amount in result_1 is:-> 153907928.53000003,      Diff: >> 2.9802322387695312e-08)\n",
      "CGST amount in result_1  is:-> 117670418.68999998,    Diff: >> 0.0)\n",
      "SGST amount in result_1  is:-> 114199400.66999999,    Diff: >> 0.0\n",
      "Total amount in result_1 is:-> 385777747.89, Diff: >> -5.960464477539063e-08\n"
     ]
    }
   ],
   "source": [
    "print(f'IGST amount in result_1 is:-> {result_1[\"IGST (GL)\"].sum()},      Diff: >> {result_1[\"IGST (GL)\"].sum() - gl.df()[\"IGST (GL)\"].sum()})')\n",
    "print(f'CGST amount in result_1  is:-> {result_1[\"CGST (GL)\"].sum()},    Diff: >> {result_1[\"CGST (GL)\"].sum() - gl.df()[\"CGST (GL)\"].sum()})')\n",
    "print(f'SGST amount in result_1  is:-> {result_1[\"SGST (GL)\"].sum()},    Diff: >> {result_1[\"SGST (GL)\"].sum() - gl.df()[\"SGST (GL)\"].sum()}')\n",
    "print(f'Total amount in result_1 is:-> {result_1[\"Total Tax(GL)\"].sum()}, Diff: >> {result_1[\"Total Tax(GL)\"].sum() - gl.df()[\"Total Tax(GL)\"].sum()}')"
   ]
  },
  {
   "cell_type": "code",
   "execution_count": 35,
   "metadata": {},
   "outputs": [],
   "source": [
    "pr_2 = duckdb.sql(\"\"\"\n",
    " SELECT \n",
    "        \"Supplier GSTIN (PR)\",\n",
    "        \"My GSTIN (PR)\",\n",
    "        \"Document Number (PR)\",\n",
    "        \"Document Date (PR)\",\n",
    "        \"IGST (PR)\",\n",
    "        \"CGST (PR)\",\n",
    "        \"SGST (PR)\",\n",
    "        CAST(REPLACE(\"Total Tax(PR)\", ',', '') AS DECIMAL(10,2)) AS \"Total Tax(PR)\"\n",
    "    FROM result_1\n",
    "    WHERE \"Total Tax(GL)\" is null\"\"\")"
   ]
  },
  {
   "cell_type": "code",
   "execution_count": 36,
   "metadata": {},
   "outputs": [
    {
     "data": {
      "text/plain": [
       "(17093, 8)"
      ]
     },
     "execution_count": 36,
     "metadata": {},
     "output_type": "execute_result"
    }
   ],
   "source": [
    "pr_2.shape"
   ]
  },
  {
   "cell_type": "code",
   "execution_count": 37,
   "metadata": {},
   "outputs": [],
   "source": [
    "gl_2 = duckdb.sql(\"\"\"\n",
    "SELECT \n",
    "    \"Supplier GSTIN/UIN\",\n",
    "     \"MY GSTIN\",\n",
    "     \"Invoice No\", \n",
    "     \"Invoice Date\", \n",
    "     \"IGST (GL)\",\n",
    "     \"CGST (GL)\",\n",
    "     \"SGST (GL)\",\n",
    "    \"total Tax(GL)\",\n",
    "     \"Remark\",\n",
    "     \"HL Remark\"\n",
    " from result_1\n",
    " where  \"Total Tax(PR)\" is null \"\"\")"
   ]
  },
  {
   "cell_type": "code",
   "execution_count": 38,
   "metadata": {},
   "outputs": [
    {
     "data": {
      "text/plain": [
       "(16968, 10)"
      ]
     },
     "execution_count": 38,
     "metadata": {},
     "output_type": "execute_result"
    }
   ],
   "source": [
    "gl_2.shape"
   ]
  },
  {
   "cell_type": "code",
   "execution_count": 39,
   "metadata": {},
   "outputs": [],
   "source": [
    "result_2 = duckdb.sql( \"\"\"\n",
    "        SELECT\n",
    "        gl_file.\"Supplier GSTIN/UIN\",\n",
    "        gl_file.\"MY GSTIN\" ,\n",
    "        gl_file.\"Invoice No\", \n",
    "        gl_file.\"Invoice Date\",\n",
    "        gl_file.\"IGST (GL)\",\n",
    "        gl_file.\"CGST (GL)\",\n",
    "        gl_file.\"SGST (GL)\", \n",
    "        gl_file.\"Total Tax(GL)\" ,\n",
    "        pr_filtered.\"Supplier GSTIN (PR)\", \n",
    "        pr_filtered.\"My GSTIN (PR)\" ,\n",
    "        pr_filtered.\"Document Number (PR)\",\n",
    "        pr_filtered.\"Document Date (PR)\" ,\n",
    "        pr_filtered.\"IGST (PR)\",\n",
    "        pr_filtered. \"CGST (PR)\", \n",
    "        pr_filtered.\"SGST (PR)\",\n",
    "        pr_filtered.\"Total Tax(PR)\",\n",
    "        cast(gl_file.\"Remark\" as string) as \"Remark\" ,\n",
    "        cast(gl_file.\"HL Remark\" as string) as \"HL Remark\",\n",
    "        'SUPPLIER GSTIN, MY GSTIN, INVOICE NO' as \"Matching keys\",\n",
    "        CASE\n",
    "            WHEN ABS(gl_file.\"Total Tax(GL)\" - pr_filtered.\"Total Tax(PR)\") BETWEEN 1 AND 10 THEN 'Suggested Match'\n",
    "            WHEN abs(gl_file.\"Total Tax(GL)\" - pr_filtered.\"Total Tax(PR)\") <1  THEN 'Exact Match'\n",
    "            WHEN abs(gl_file.\"Total Tax(GL)\" - pr_filtered.\"Total Tax(PR)\") >10  THEN 'Mismatch'\n",
    "            ELSE 'Others In Mismatch'\n",
    "        END AS \"Remarks\",\n",
    "        'Date Not match' as \"Remarks_1\"\n",
    "    FROM gl_2 as gl_file\n",
    "    FULL OUTER JOIN pr_2 as pr_filtered\n",
    "    ON gl_file.\"Supplier GSTIN/UIN\" = pr_filtered.\"Supplier GSTIN (PR)\"\n",
    "    AND gl_file.\"MY GSTIN\" = pr_filtered.\"My GSTIN (PR)\"\n",
    "    AND gl_file.\"Invoice No\" = pr_filtered.\"Document Number (PR)\"\n",
    "   \n",
    "\"\"\")"
   ]
  },
  {
   "cell_type": "code",
   "execution_count": 40,
   "metadata": {},
   "outputs": [
    {
     "name": "stdout",
     "output_type": "stream",
     "text": [
      "total tax amount after result_2 is:-> 385773272.28, Diff: >> -4475.610000014305)\n"
     ]
    },
    {
     "name": "stderr",
     "output_type": "stream",
     "text": [
      "C:\\Users\\rishabh.singh_clear\\AppData\\Local\\Temp\\ipykernel_13224\\4177071953.py:11: DtypeWarning: Columns (0,1,2,3,16,17) have mixed types. Specify dtype option on import or set low_memory=False.\n",
      "  result_2 = pd.read_csv('result_2.csv')\n"
     ]
    }
   ],
   "source": [
    "result_2.df().to_csv('result_2.csv', index = False)\n",
    "\n",
    "matched_2 = duckdb.sql( \"\"\"select * from result_2\n",
    "                               \n",
    "                               where Remarks in ('Exact Match', 'Suggested Match', 'Mismatch') \"\"\")\n",
    "\n",
    "m2 =  matched_2.df()[\"Total Tax(GL)\"].sum()\n",
    "\n",
    "matched_2.df().to_csv('matched_2.csv', index = False)\n",
    "\n",
    "result_2 = pd.read_csv('result_2.csv')\n",
    "\n",
    "val = result_2[\"Total Tax(GL)\"].sum()\n",
    "\n",
    "print(f'total tax amount after result_2 is:-> {val+m}, Diff: >> {(val+m) - g_val})')"
   ]
  },
  {
   "cell_type": "code",
   "execution_count": 41,
   "metadata": {
    "application/vnd.databricks.v1+cell": {
     "cellMetadata": {
      "byteLimit": 2048000,
      "implicitDf": true,
      "rowLimit": 10000
     },
     "inputWidgets": {},
     "nuid": "d864249a-74fc-44d8-8fb4-bdc81465d997",
     "showTitle": false,
     "title": ""
    }
   },
   "outputs": [],
   "source": [
    "pr_2_1 = duckdb.sql(\"\"\"\n",
    " SELECT \n",
    "        \"Supplier GSTIN (PR)\",\n",
    "        \"My GSTIN (PR)\",\n",
    "        \"Document Number (PR)\",\n",
    "        \"Document Date (PR)\",\n",
    "        \"IGST (PR)\",\n",
    "        \"CGST (PR)\",\n",
    "         \"SGST (PR)\",\n",
    "        CAST(REPLACE(\"Total Tax(PR)\", ',', '') AS DECIMAL(10,2)) AS \"Total Tax(PR)\"\n",
    "    FROM result_2\n",
    "    WHERE \"Supplier GSTIN/UIN\" is null\"\"\")"
   ]
  },
  {
   "cell_type": "code",
   "execution_count": 42,
   "metadata": {
    "application/vnd.databricks.v1+cell": {
     "cellMetadata": {
      "byteLimit": 2048000,
      "implicitDf": true,
      "rowLimit": 10000
     },
     "inputWidgets": {},
     "nuid": "01d1c2ea-bd15-4e9f-864d-8daa07f8a1c0",
     "showTitle": false,
     "title": ""
    }
   },
   "outputs": [],
   "source": [
    "gl_2_1 = duckdb.sql(\"\"\" \n",
    "SELECT \n",
    "    \"Supplier GSTIN/UIN\",\n",
    "     \"MY GSTIN\",\n",
    "     \"Invoice No\", \n",
    "     \"Invoice Date\",\n",
    "     \"IGST (GL)\",\n",
    "     \"CGST (GL)\",\n",
    "     \"SGST (GL)\",\n",
    "     \"total Tax(GL)\",\n",
    "     \"Remark\",\n",
    "     \"HL Remark\" \n",
    " from result_2\n",
    " where  \"Supplier GSTIN (PR)\" is null \"\"\")"
   ]
  },
  {
   "cell_type": "code",
   "execution_count": 43,
   "metadata": {
    "application/vnd.databricks.v1+cell": {
     "cellMetadata": {
      "byteLimit": 2048000,
      "rowLimit": 10000
     },
     "inputWidgets": {},
     "nuid": "221f5c11-ff99-41bf-859f-53f92d5dc15b",
     "showTitle": false,
     "title": ""
    }
   },
   "outputs": [],
   "source": [
    "result_2_1 = duckdb.sql( \"\"\"\n",
    "        SELECT\n",
    "        gl_file.\"Supplier GSTIN/UIN\",\n",
    "        gl_file.\"MY GSTIN\" ,\n",
    "        gl_file.\"Invoice No\", \n",
    "        gl_file.\"Invoice Date\", \n",
    "        gl_file.\"IGST (GL)\",\n",
    "        gl_file.\"CGST (GL)\",\n",
    "        gl_file.\"SGST (GL)\",\n",
    "        gl_file.\"Total Tax(GL)\" ,\n",
    "        pr_filtered.\"Supplier GSTIN (PR)\", \n",
    "        pr_filtered.\"My GSTIN (PR)\" ,\n",
    "        pr_filtered.\"Document Number (PR)\",\n",
    "        pr_filtered.\"Document Date (PR)\",\n",
    "        pr_filtered.\"IGST (PR)\",\n",
    "        pr_filtered. \"CGST (PR)\",\n",
    "        pr_filtered.\"SGST (PR)\",\n",
    "        pr_filtered.\"Total Tax(PR)\",\n",
    "        gl_file.\"Remark\",\n",
    "        gl_file.\"HL Remark\",\n",
    "        'SUPPLIER GSTIN, MY GSTIN, INVOICE NO(Fuzzy)' as \"Matching keys\",\n",
    "        CASE\n",
    "            WHEN ABS(gl_file.\"Total Tax(GL)\" - pr_filtered.\"Total Tax(PR)\") BETWEEN 1 AND 10 THEN 'Suggested Match'\n",
    "            WHEN abs(gl_file.\"Total Tax(GL)\" - pr_filtered.\"Total Tax(PR)\") <1  THEN 'Exact Match'\n",
    "            WHEN abs(gl_file.\"Total Tax(GL)\" - pr_filtered.\"Total Tax(PR)\") >10  THEN 'Mismatch'\n",
    "            ELSE 'Others In Mismatch'\n",
    "        END AS \"Remarks\",\n",
    "        'Date Not Match' as \"Remarks_1\"\n",
    "     \n",
    "    FROM gl_2_1 as gl_file\n",
    "    FULL OUTER JOIN pr_2_1 as pr_filtered\n",
    "    ON gl_file.\"Supplier GSTIN/UIN\" = pr_filtered.\"Supplier GSTIN (PR)\"\n",
    "    AND gl_file.\"MY GSTIN\" = pr_filtered.\"My GSTIN (PR)\"\n",
    "    AND REGEXP_REPLACE(gl_file.\"Invoice No\", '[^a-zA-Z0-9]', '') =\n",
    "    REGEXP_REPLACE(pr_filtered.\"Document Number (PR)\", '[^a-zA-Z0-9]', '')\n",
    "     \"\"\")"
   ]
  },
  {
   "cell_type": "code",
   "execution_count": 44,
   "metadata": {},
   "outputs": [
    {
     "name": "stdout",
     "output_type": "stream",
     "text": [
      "IGST amount after result_2 is:-> 385773272.2799999, Diff: >> -4475.61000007391)\n"
     ]
    },
    {
     "name": "stderr",
     "output_type": "stream",
     "text": [
      "C:\\Users\\rishabh.singh_clear\\AppData\\Local\\Temp\\ipykernel_13224\\2504443554.py:10: DtypeWarning: Columns (0,1,2,3,16,17) have mixed types. Specify dtype option on import or set low_memory=False.\n",
      "  result_2_1 = pd.read_csv('result_2_1.csv')\n"
     ]
    }
   ],
   "source": [
    "result_2_1.df().to_csv('result_2_1.csv', index = False)\n",
    "\n",
    "matched_2_1 = duckdb.sql( \"\"\"select * from result_2_1\n",
    "                               \n",
    "                               where Remarks in ('Exact Match', 'Suggested Match', 'Mismatch') \"\"\")\n",
    "m3 =  matched_2_1.df()[\"Total Tax(GL)\"].sum() \n",
    "\n",
    "matched_2_1.df().to_csv('matched_2_1.csv', index = False)\n",
    "\n",
    "result_2_1 = pd.read_csv('result_2_1.csv')\n",
    "\n",
    "val = result_2_1[\"Total Tax(GL)\"].sum()\n",
    "\n",
    "print(f'IGST amount after result_2 is:-> {val+m+m2}, Diff: >> {(val+m+m2) - g_val})')"
   ]
  },
  {
   "cell_type": "code",
   "execution_count": 45,
   "metadata": {},
   "outputs": [],
   "source": [
    "pr_3 = duckdb.sql(\"\"\"\n",
    " SELECT \n",
    "        \"Supplier GSTIN (PR)\",\n",
    "        \"My GSTIN (PR)\",\n",
    "        \"Document Number (PR)\",\n",
    "        \"Document Date (PR)\",\n",
    "        \"IGST (PR)\",\n",
    "        \"CGST (PR)\",\n",
    "        \"SGST (PR)\",\n",
    "        CAST(REPLACE(\"Total Tax(PR)\", ',', '') AS DECIMAL(10,2)) AS \"Total Tax(PR)\"\n",
    "    FROM result_2_1\n",
    "    WHERE \"Supplier GSTIN/UIN\" is null  \"\"\")  "
   ]
  },
  {
   "cell_type": "code",
   "execution_count": 46,
   "metadata": {},
   "outputs": [],
   "source": [
    "gl_3= duckdb.sql(\"\"\" \n",
    "SELECT \n",
    "    \"Supplier GSTIN/UIN\",\n",
    "     \"MY GSTIN\",\n",
    "     \"Invoice No\", \n",
    "     \"Invoice Date\", \n",
    "     \"IGST (GL)\",\n",
    "    \"CGST (GL)\",\n",
    "    \"SGST (GL)\",\n",
    "    \"total Tax(GL)\",\n",
    "    \"Remark\",\n",
    "    \"HL Remark\" \n",
    " from result_2_1\n",
    " where  \"Supplier GSTIN (PR)\" is null \"\"\")\n"
   ]
  },
  {
   "cell_type": "code",
   "execution_count": 47,
   "metadata": {
    "application/vnd.databricks.v1+cell": {
     "cellMetadata": {
      "byteLimit": 2048000,
      "rowLimit": 10000
     },
     "inputWidgets": {},
     "nuid": "1a165e83-367e-4b9e-bcdc-b84c2afd22d9",
     "showTitle": false,
     "title": ""
    }
   },
   "outputs": [],
   "source": [
    "result_3 = duckdb.sql( \"\"\"\n",
    "        SELECT\n",
    "        gl_file.\"Supplier GSTIN/UIN\",\n",
    "        gl_file.\"MY GSTIN\" ,\n",
    "        gl_file.\"Invoice No\", \n",
    "        gl_file.\"Invoice Date\", \n",
    "        gl_file.\"IGST (GL)\",\n",
    "        gl_file.\"CGST (GL)\",\n",
    "        gl_file.\"SGST (GL)\",\n",
    "        gl_file.\"Total Tax(GL)\" ,\n",
    "        pr_filtered.\"Supplier GSTIN (PR)\", \n",
    "        pr_filtered.\"My GSTIN (PR)\" ,\n",
    "        pr_filtered.\"Document Number (PR)\",\n",
    "        pr_filtered.\"Document Date (PR)\" ,\n",
    "        pr_filtered.\"IGST (PR)\",\n",
    "        pr_filtered. \"CGST (PR)\",\n",
    "        pr_filtered.\"SGST (PR)\",\n",
    "        pr_filtered.\"Total Tax(PR)\",\n",
    "        gl_file.\"Remark\" ,\n",
    "        gl_file.\"HL Remark\",\n",
    "        'SUPPLIER GSTIN, BUYER PAN, INVOICE NO, INVOICE DATE' as \"Matching keys\",\n",
    "        CASE\n",
    "            WHEN ABS(gl_file.\"Total Tax(GL)\" - pr_filtered.\"Total Tax(PR)\") BETWEEN 1 AND 10 THEN 'Suggested Match'\n",
    "            WHEN abs(gl_file.\"Total Tax(GL)\" - pr_filtered.\"Total Tax(PR)\") <1  THEN 'Exact Match'\n",
    "            WHEN abs(gl_file.\"Total Tax(GL)\" - pr_filtered.\"Total Tax(PR)\") >10  THEN 'Mismatch'\n",
    "            ELSE 'Others In Mismatch'\n",
    "        END AS \"Remarks\",\n",
    "        'MY GSTIN Not Match' as \"Remarks_1\"\n",
    "    FROM gl_3 as gl_file\n",
    "    FULL OUTER JOIN pr_3 as pr_filtered\n",
    "    ON gl_file.\"Supplier GSTIN/UIN\" = pr_filtered.\"Supplier GSTIN (PR)\"\n",
    "        AND SUBSTRING(gl_file.\"MY GSTIN\", 3, 10)  = SUBSTRING(pr_filtered.\"My GSTIN (PR)\", 3, 10) \n",
    "        AND gl_file.\"Invoice No\" = pr_filtered.\"Document Number (PR)\"\n",
    "        AND  gl_file.\"Invoice Date\" = pr_filtered.\"Document Date (PR)\" \n",
    "        AND abs(pr_filtered.\"Total Tax(PR)\"- gl_file.\"Total Tax(GL)\" ) <=10\n",
    "\"\"\")\n"
   ]
  },
  {
   "cell_type": "code",
   "execution_count": 48,
   "metadata": {},
   "outputs": [
    {
     "name": "stdout",
     "output_type": "stream",
     "text": [
      "-470409738.68\n",
      "385773272.2799999\n",
      "2261521.31\n",
      "-470409738.68\n",
      "tax amount after result_2_1_1 is:-> 385773272.2799999, Diff: >> -4475.61000007391)\n"
     ]
    },
    {
     "name": "stderr",
     "output_type": "stream",
     "text": [
      "C:\\Users\\rishabh.singh_clear\\AppData\\Local\\Temp\\ipykernel_13224\\3755712931.py:10: DtypeWarning: Columns (0,1,2,3,16,17) have mixed types. Specify dtype option on import or set low_memory=False.\n",
      "  result_3 = pd.read_csv('result_3.csv')\n"
     ]
    }
   ],
   "source": [
    "result_3.df().to_csv('result_3.csv', index = False)\n",
    "\n",
    "matched_3 = duckdb.sql( \"\"\"select * from result_3\n",
    "                               \n",
    "                               where Remarks in ('Exact Match', 'Suggested Match', 'Mismatch') \"\"\")\n",
    "m4 = matched_3.df()[\"Total Tax(GL)\"].sum()\n",
    "\n",
    "matched_3.df().to_csv('matched_3.csv', index = False)\n",
    "\n",
    "result_3 = pd.read_csv('result_3.csv')\n",
    "\n",
    "val = result_3[\"Total Tax(GL)\"].sum()\n",
    "print(val)\n",
    "print(val+m+m2+m3)\n",
    "print(m4)\n",
    "print(val)\n",
    "\n",
    "print(f'tax amount after result_2_1_1 is:-> {val+m+m2+m3}, Diff: >> {(val+m+m2+m3) - g_val})')"
   ]
  },
  {
   "cell_type": "code",
   "execution_count": 49,
   "metadata": {
    "application/vnd.databricks.v1+cell": {
     "cellMetadata": {
      "byteLimit": 2048000,
      "implicitDf": true,
      "rowLimit": 10000
     },
     "inputWidgets": {},
     "nuid": "6f485757-6f5d-4bd9-b00e-8dd35ace4a5f",
     "showTitle": false,
     "title": ""
    }
   },
   "outputs": [],
   "source": [
    "pr_4= duckdb.sql(\"\"\" \n",
    " SELECT \n",
    "        \"Supplier GSTIN (PR)\",\n",
    "        \"My GSTIN (PR)\",\n",
    "        \"Document Number (PR)\",\n",
    "        \"Document Date (PR)\",\n",
    "        \"IGST (PR)\", \n",
    "        \"CGST (PR)\",  \n",
    "        \"SGST (PR)\",\n",
    "        CAST(REPLACE(\"Total Tax(PR)\", ',', '') AS DECIMAL(10,2)) AS \"Total Tax(PR)\"\n",
    "    FROM result_3\n",
    "    WHERE \"Supplier GSTIN/UIN\" is null  \"\"\")"
   ]
  },
  {
   "cell_type": "code",
   "execution_count": 50,
   "metadata": {
    "application/vnd.databricks.v1+cell": {
     "cellMetadata": {
      "byteLimit": 2048000,
      "implicitDf": true,
      "rowLimit": 10000
     },
     "inputWidgets": {},
     "nuid": "cf541316-08fc-4ea6-b586-df4506c4af99",
     "showTitle": false,
     "title": ""
    }
   },
   "outputs": [],
   "source": [
    " gl_4 = duckdb.sql(\"\"\"\n",
    "SELECT \n",
    "    \"Supplier GSTIN/UIN\",\n",
    "     \"MY GSTIN\",\n",
    "     \"Invoice No\", \n",
    "     \"Invoice Date\", \n",
    "     \"IGST (GL)\",\n",
    "    \"CGST (GL)\",\n",
    "    \"SGST (GL)\",\n",
    "    \"total Tax(GL)\",\n",
    "    \"Remark\",\n",
    "    \"HL Remark\" ,\n",
    " from result_3\n",
    " where  \"Supplier GSTIN (PR)\" is null \"\"\")"
   ]
  },
  {
   "cell_type": "code",
   "execution_count": 51,
   "metadata": {
    "application/vnd.databricks.v1+cell": {
     "cellMetadata": {
      "byteLimit": 2048000,
      "rowLimit": 10000
     },
     "inputWidgets": {},
     "nuid": "90b0af95-adbb-47d8-89b7-afebea32f7bb",
     "showTitle": false,
     "title": ""
    }
   },
   "outputs": [],
   "source": [
    "result_4 = duckdb.sql( \"\"\"\n",
    "        SELECT\n",
    "        gl_file.\"Supplier GSTIN/UIN\",\n",
    "        gl_file.\"MY GSTIN\" ,\n",
    "        gl_file.\"Invoice No\", \n",
    "        gl_file.\"Invoice Date\",\n",
    "        gl_file.\"IGST (GL)\",\n",
    "        gl_file.\"CGST (GL)\",\n",
    "        gl_file.\"SGST (GL)\",\n",
    "        gl_file.\"Total Tax(GL)\" ,\n",
    "        pr_filtered.\"Supplier GSTIN (PR)\", \n",
    "        pr_filtered.\"My GSTIN (PR)\" ,\n",
    "        pr_filtered.\"Document Number (PR)\",\n",
    "        pr_filtered.\"Document Date (PR)\" ,\n",
    "        pr_filtered.\"IGST (PR)\",\n",
    "        pr_filtered. \"CGST (PR)\",\n",
    "        pr_filtered.\"SGST (PR)\",\n",
    "        pr_filtered.\"Total Tax(PR)\",\n",
    "        case when gl_file.\"Remark\" is null then '' else gl_file.\"Remark\" end as \"Remark\" ,\n",
    "        case when gl_file.\"HL Remark\" is null then '' else gl_file.\"HL Remark\" end as \"HL Remark\",\n",
    "        'SUPPLIER GSTIN, BUYER PAN, INVOICE NO' as \"Matching keys\",\n",
    "        CASE\n",
    "            WHEN ABS(gl_file.\"Total Tax(GL)\" - pr_filtered.\"Total Tax(PR)\") BETWEEN 1 AND 10 THEN 'Suggested Match'\n",
    "            WHEN abs(gl_file.\"Total Tax(GL)\" - pr_filtered.\"Total Tax(PR)\") <1  THEN 'Exact Match'\n",
    "            WHEN abs(gl_file.\"Total Tax(GL)\" - pr_filtered.\"Total Tax(PR)\") >10  THEN 'Mismatch'\n",
    "            ELSE 'Others In Mismatch'\n",
    "        END AS \"Remarks\",\n",
    "        'MY GSTIN and Date Not match' as \"Remarks_1\"\n",
    "    FROM gl_4 as gl_file\n",
    "    FULL OUTER JOIN pr_4 as pr_filtered\n",
    "    ON gl_file.\"Supplier GSTIN/UIN\" = pr_filtered.\"Supplier GSTIN (PR)\"\n",
    "        AND SUBSTRING(gl_file.\"MY GSTIN\", 3, 10)  = SUBSTRING(pr_filtered.\"My GSTIN (PR)\", 3, 10) \n",
    "        AND gl_file.\"Invoice No\" = pr_filtered.\"Document Number (PR)\"\n",
    "       AND abs(pr_filtered.\"Total Tax(PR)\"-gl_file.\"Total Tax(GL)\" ) <=10\n",
    "\"\"\")\n"
   ]
  },
  {
   "cell_type": "code",
   "execution_count": 52,
   "metadata": {},
   "outputs": [
    {
     "name": "stdout",
     "output_type": "stream",
     "text": [
      "-472671259.99\n",
      "385773272.2799999\n",
      "2261521.31\n",
      "-472671259.99\n",
      "tax amount after result_2_1_1 is:-> 385773272.2799999, Diff: >> -4475.61000007391)\n"
     ]
    },
    {
     "name": "stderr",
     "output_type": "stream",
     "text": [
      "C:\\Users\\rishabh.singh_clear\\AppData\\Local\\Temp\\ipykernel_13224\\1263518764.py:10: DtypeWarning: Columns (0,1,2,3,16,17) have mixed types. Specify dtype option on import or set low_memory=False.\n",
      "  result_4 = pd.read_csv('result_4.csv')\n"
     ]
    }
   ],
   "source": [
    "result_4.df().to_csv('result_4.csv', index = False)\n",
    "\n",
    "matched_4 = duckdb.sql( \"\"\"select * from result_4\n",
    "                               \n",
    "                               where Remarks in ('Exact Match', 'Suggested Match', 'Mismatch') \"\"\")\n",
    "m5 = matched_4.df()[\"Total Tax(GL)\"].sum()\n",
    "\n",
    "matched_4.df().to_csv('matched_4.csv', index = False)\n",
    "\n",
    "result_4 = pd.read_csv('result_4.csv')\n",
    "\n",
    "val = result_4[\"Total Tax(GL)\"].sum()\n",
    "print(val)\n",
    "print(val+m+m2+m3+m4)\n",
    "print(m4)\n",
    "print(val)\n",
    "\n",
    "print(f'tax amount after result_2_1_1 is:-> {val+m+m2+m3+m4}, Diff: >> {(val+m+m2+m3+m4) - g_val})')"
   ]
  },
  {
   "cell_type": "code",
   "execution_count": 53,
   "metadata": {
    "application/vnd.databricks.v1+cell": {
     "cellMetadata": {
      "byteLimit": 2048000,
      "implicitDf": true,
      "rowLimit": 10000
     },
     "inputWidgets": {},
     "nuid": "6e207a7c-3c06-443b-8da6-632f9031057c",
     "showTitle": false,
     "title": ""
    }
   },
   "outputs": [],
   "source": [
    "pr_4_1  =duckdb.sql(\"\"\"\n",
    " SELECT \n",
    "        \"Supplier GSTIN (PR)\",\n",
    "        \"My GSTIN (PR)\",\n",
    "        \"Document Number (PR)\",\n",
    "        \"Document Date (PR)\",\n",
    "        \"IGST (PR)\",\n",
    "        \"CGST (PR)\",\n",
    "        \"SGST (PR)\",\n",
    "        CAST(REPLACE(\"Total Tax(PR)\", ',', '') AS DECIMAL(10,2)) AS \"Total Tax(PR)\"\n",
    "    FROM result_4\n",
    "    WHERE \"Supplier GSTIN/UIN\" is null  \"\"\")"
   ]
  },
  {
   "cell_type": "code",
   "execution_count": 54,
   "metadata": {
    "application/vnd.databricks.v1+cell": {
     "cellMetadata": {
      "byteLimit": 2048000,
      "implicitDf": true,
      "rowLimit": 10000
     },
     "inputWidgets": {},
     "nuid": "2d8dee3f-976c-4c8b-9402-d81626756079",
     "showTitle": false,
     "title": ""
    }
   },
   "outputs": [],
   "source": [
    " gl_4_1 = duckdb.sql(\"\"\"\n",
    "SELECT \n",
    "    \"Supplier GSTIN/UIN\",\n",
    "     \"MY GSTIN\",\n",
    "     \"Invoice No\", \n",
    "     \"Invoice Date\", \n",
    "     \"IGST (GL)\",\n",
    "    \"CGST (GL)\",\n",
    "    \"SGST (GL)\",\n",
    "    \"total Tax(GL)\",\n",
    "     \"Remark\" ,\n",
    "    \"HL Remark\",\n",
    " from result_4\n",
    " where  \"Supplier GSTIN (PR)\" is null \"\"\")"
   ]
  },
  {
   "cell_type": "code",
   "execution_count": 55,
   "metadata": {
    "application/vnd.databricks.v1+cell": {
     "cellMetadata": {
      "byteLimit": 2048000,
      "rowLimit": 10000
     },
     "inputWidgets": {},
     "nuid": "b0aeadd5-33df-477d-a57f-892499c9ca65",
     "showTitle": false,
     "title": ""
    }
   },
   "outputs": [],
   "source": [
    "result_4_1 = duckdb.sql( \"\"\"\n",
    "        SELECT\n",
    "        gl_file.\"Supplier GSTIN/UIN\",\n",
    "        gl_file.\"MY GSTIN\" ,\n",
    "        gl_file.\"Invoice No\", \n",
    "        gl_file.\"Invoice Date\", \n",
    "        gl_file.\"IGST (GL)\",\n",
    "        gl_file.\"CGST (GL)\",\n",
    "        gl_file.\"SGST (GL)\",\n",
    "        gl_file.\"Total Tax(GL)\" ,\n",
    "        pr_filtered.\"Supplier GSTIN (PR)\", \n",
    "        pr_filtered.\"My GSTIN (PR)\" ,\n",
    "        pr_filtered.\"Document Number (PR)\",\n",
    "        pr_filtered.\"Document Date (PR)\",\n",
    "        pr_filtered.\"IGST (PR)\",\n",
    "        pr_filtered. \"CGST (PR)\",\n",
    "        pr_filtered.\"SGST (PR)\",\n",
    "        pr_filtered.\"Total Tax(PR)\",\n",
    "        case when gl_file.\"Remark\" is null then '' else gl_file.\"Remark\" end as \"Remark\" ,\n",
    "        case when gl_file.\"HL Remark\" is null then '' else gl_file.\"HL Remark\" end as \"HL Remark\",\n",
    "        'SUPPLIER GSTIN, BUYER PAN, INVOICE NO(FUZZY)' as \"Matching keys\",\n",
    "        CASE\n",
    "            WHEN ABS(gl_file.\"Total Tax(GL)\" - pr_filtered.\"Total Tax(PR)\") BETWEEN 1 AND 10 THEN 'Suggested Match'\n",
    "            WHEN abs(gl_file.\"Total Tax(GL)\" - pr_filtered.\"Total Tax(PR)\") <1  THEN 'Exact Match'\n",
    "            WHEN abs(gl_file.\"Total Tax(GL)\" - pr_filtered.\"Total Tax(PR)\") >10  THEN 'Mismatch'\n",
    "            ELSE 'Others In Mismatch'\n",
    "        END AS \"Remarks\",\n",
    "        'MY GSTIN and Date not match' as \"Remarks_1\"\n",
    "    FROM gl_4_1 as gl_file\n",
    "    FULL OUTER JOIN pr_4_1 as pr_filtered\n",
    "    ON gl_file.\"Supplier GSTIN/UIN\" = pr_filtered.\"Supplier GSTIN (PR)\"\n",
    "        AND SUBSTRING(gl_file.\"MY GSTIN\", 3, 10)  = SUBSTRING(pr_filtered.\"My GSTIN (PR)\", 3, 10) \n",
    "        AND REGEXP_REPLACE(gl_file.\"Invoice No\", '[^a-zA-Z0-9]', '') =\n",
    "        REGEXP_REPLACE(pr_filtered.\"Document Number (PR)\", '[^a-zA-Z0-9]', '')\n",
    "    AND abs(pr_filtered.\"Total Tax(PR)\"- gl_file.\"Total Tax(GL)\" ) <=10\n",
    "      \n",
    "\"\"\")\n"
   ]
  },
  {
   "cell_type": "code",
   "execution_count": 56,
   "metadata": {},
   "outputs": [
    {
     "name": "stdout",
     "output_type": "stream",
     "text": [
      "-472671259.99\n",
      "385773272.2799999\n",
      "2261521.31\n",
      "-472671259.99\n",
      "tax amount after result_2_1_1 is:-> 385773272.2799999, Diff: >> -4475.61000007391)\n"
     ]
    },
    {
     "name": "stderr",
     "output_type": "stream",
     "text": [
      "C:\\Users\\rishabh.singh_clear\\AppData\\Local\\Temp\\ipykernel_13224\\2162257700.py:10: DtypeWarning: Columns (0,1,2,3,16,17) have mixed types. Specify dtype option on import or set low_memory=False.\n",
      "  result_4_1 = pd.read_csv('result_4_1.csv')\n"
     ]
    }
   ],
   "source": [
    "result_4_1.df().to_csv('result_4_1.csv', index = False)\n",
    "\n",
    "matched_4_1 = duckdb.sql( \"\"\"select * from result_4_1\n",
    "                               \n",
    "                               where Remarks in ('Exact Match', 'Suggested Match', 'Mismatch') \"\"\")\n",
    "m6 = matched_4_1.df()[\"Total Tax(GL)\"].sum()\n",
    "\n",
    "matched_4_1.df().to_csv('matched_4_1.csv', index = False)\n",
    "\n",
    "result_4_1 = pd.read_csv('result_4_1.csv')\n",
    "\n",
    "val = result_4_1[\"Total Tax(GL)\"].sum()\n",
    "print(val)\n",
    "print(val+m+m2+m3+m4+m5)\n",
    "print(m4)\n",
    "print(val)\n",
    "\n",
    "print(f'tax amount after result_2_1_1 is:-> {val+m+m2+m3+m4+m5}, Diff: >> {(val+m+m2+m3+m4+m5) - g_val})')"
   ]
  },
  {
   "cell_type": "code",
   "execution_count": 57,
   "metadata": {
    "application/vnd.databricks.v1+cell": {
     "cellMetadata": {
      "byteLimit": 2048000,
      "implicitDf": true,
      "rowLimit": 10000
     },
     "inputWidgets": {},
     "nuid": "82622003-c53c-480f-be0e-ea7443af6d80",
     "showTitle": false,
     "title": ""
    }
   },
   "outputs": [],
   "source": [
    "pr_5 = duckdb.sql(\"\"\"\n",
    "         SELECT \n",
    "        \"Supplier GSTIN (PR)\",\n",
    "        \"My GSTIN (PR)\",\n",
    "        \"Document Number (PR)\",\n",
    "        \"Document Date (PR)\",\n",
    "        \"IGST (PR)\",\n",
    "        \"CGST (PR)\",\n",
    "        \"SGST (PR)\",\n",
    "        CAST(REPLACE(\"Total Tax(PR)\", ',', '') AS DECIMAL(10,2)) AS \"Total Tax(PR)\"\n",
    "    FROM result_4_1\n",
    "    WHERE \"Supplier GSTIN/UIN\" is null\"\"\")"
   ]
  },
  {
   "cell_type": "code",
   "execution_count": 58,
   "metadata": {
    "application/vnd.databricks.v1+cell": {
     "cellMetadata": {
      "byteLimit": 2048000,
      "implicitDf": true,
      "rowLimit": 10000
     },
     "inputWidgets": {},
     "nuid": "1d351ea3-a571-4db9-a227-f346007c3272",
     "showTitle": false,
     "title": ""
    }
   },
   "outputs": [],
   "source": [
    " gl_5 = duckdb.sql(\"\"\"\n",
    "SELECT \n",
    "    \"Supplier GSTIN/UIN\",\n",
    "     \"MY GSTIN\",\n",
    "     \"Invoice No\", \n",
    "     \"Invoice Date\", \n",
    "     \"IGST (GL)\",\n",
    "     \"CGST (GL)\",\n",
    "     \"SGST (GL)\",\n",
    "     \"total Tax(GL)\",\n",
    "     \"Remark\",\n",
    "     \"HL Remark\",\n",
    " from result_4_1\n",
    " where  \"Supplier GSTIN (PR)\" is null \"\"\")"
   ]
  },
  {
   "cell_type": "code",
   "execution_count": 59,
   "metadata": {
    "application/vnd.databricks.v1+cell": {
     "cellMetadata": {
      "byteLimit": 2048000,
      "rowLimit": 10000
     },
     "inputWidgets": {},
     "nuid": "9b6e6756-77e0-4786-944a-82bb3563e185",
     "showTitle": false,
     "title": ""
    }
   },
   "outputs": [],
   "source": [
    "result_5 = duckdb.sql( \"\"\"\n",
    "        SELECT\n",
    "        gl_file.\"Supplier GSTIN/UIN\",\n",
    "        gl_file.\"MY GSTIN\" ,\n",
    "        gl_file.\"Invoice No\", \n",
    "        gl_file.\"Invoice Date\",\n",
    "        gl_file.\"IGST (GL)\",\n",
    "        gl_file.\"CGST (GL)\",\n",
    "        gl_file.\"SGST (GL)\",\n",
    "        gl_file.\"Total Tax(GL)\",\n",
    "        pr_filtered.\"Supplier GSTIN (PR)\", \n",
    "        pr_filtered.\"My GSTIN (PR)\" ,\n",
    "        pr_filtered.\"Document Number (PR)\",\n",
    "        pr_filtered.\"Document Date (PR)\" ,\n",
    "        pr_filtered.\"IGST (PR)\",\n",
    "        pr_filtered. \"CGST (PR)\",\n",
    "        pr_filtered.\"SGST (PR)\",\n",
    "        pr_filtered.\"Total Tax(PR)\",\n",
    "        case when gl_file.\"Remark\" is null then '' else gl_file.\"Remark\" end as \"Remark\" ,\n",
    "        case when gl_file.\"HL Remark\" is null then '' else gl_file.\"HL Remark\" end as \"HL Remark\" ,\n",
    "        'SUPPLIER PAN, MY GSTIN, INVOICE NO, INVOICE DATE' as \"Matching keys\",\n",
    "        CASE\n",
    "            WHEN ABS(gl_file.\"Total Tax(GL)\" - pr_filtered.\"Total Tax(PR)\") BETWEEN 1 AND 10 THEN 'Suggested Match'\n",
    "            WHEN abs(gl_file.\"Total Tax(GL)\" - pr_filtered.\"Total Tax(PR)\") <1  THEN 'Exact Match'\n",
    "            WHEN abs(gl_file.\"Total Tax(GL)\" - pr_filtered.\"Total Tax(PR)\") >10  THEN 'Mismatch'\n",
    "            when gl_file.\"Invoice No\" is not null and pr_filtered.\"Document Number (PR)\" is null then 'Missing In GSTR-1'\n",
    "            when gl_file.\"Invoice No\" is null and pr_filtered.\"Document Number (PR)\" is not null then 'Missing In Revenue - GL'\n",
    "            ELSE 'Others In Mismatch'\n",
    "        END AS \"Remarks\",\n",
    "        'Supplier GSTIN Not Match' as \"Remarks_1\"\n",
    "    FROM gl_5 as gl_file\n",
    "    FULL OUTER JOIN pr_5 as pr_filtered\n",
    "    ON SUBSTRING(gl_file.\"Supplier GSTIN/UIN\", 3, 10)  = SUBSTRING(pr_filtered.\"Supplier GSTIN (PR)\", 3, 10)\n",
    "        AND gl_file.\"MY GSTIN\" = pr_filtered.\"My GSTIN (PR)\"\n",
    "        AND gl_file.\"Invoice No\" = pr_filtered.\"Document Number (PR)\"\n",
    "        AND  gl_file.\"Invoice Date\" = pr_filtered.\"Document Date (PR)\"\n",
    "        AND abs(pr_filtered.\"Total Tax(PR)\"- gl_file.\"Total Tax(GL)\" ) <=10\n",
    "        \n",
    "\"\"\")"
   ]
  },
  {
   "cell_type": "code",
   "execution_count": 60,
   "metadata": {},
   "outputs": [
    {
     "name": "stdout",
     "output_type": "stream",
     "text": [
      "-472671259.99\n",
      "385773272.2799999\n",
      "2261521.31\n",
      "-472671259.99\n",
      "tax amount after result_2_1_1 is:-> 385773272.2799999, Diff: >> -4475.61000007391)\n"
     ]
    }
   ],
   "source": [
    "result_5.df().to_csv('result_5.csv', index = False)\n",
    "\n",
    "matched_5 = duckdb.sql( \"\"\"select * from result_5\n",
    "                               \n",
    "                               where Remarks in ('Exact Match', 'Suggested Match', 'Mismatch') \"\"\")\n",
    "m7 = matched_5.df()[\"Total Tax(GL)\"].sum()\n",
    "\n",
    "matched_5.df().to_csv('matched_5.csv', index = False)\n",
    "\n",
    "result_5 = pd.read_csv('result_5.csv')\n",
    "\n",
    "val = result_5[\"Total Tax(GL)\"].sum()\n",
    "print(val)\n",
    "print(val+m+m2+m3+m4+m5+m6)\n",
    "print(m4)\n",
    "print(val)\n",
    "\n",
    "print(f'tax amount after result_2_1_1 is:-> {val+m+m2+m3+m4+m5+m6}, Diff: >> {(val+m+m2+m3+m4+m5+m6) - g_val})')"
   ]
  },
  {
   "cell_type": "code",
   "execution_count": 61,
   "metadata": {},
   "outputs": [],
   "source": [
    "duplicates = pd.read_csv('Duplicates.csv')"
   ]
  },
  {
   "cell_type": "code",
   "execution_count": 62,
   "metadata": {},
   "outputs": [],
   "source": [
    "final_sheet = duckdb.sql(\"\"\"\n",
    "            select   * from matched_1\n",
    "                    union all\n",
    "                    select   * from matched_2\n",
    "                    union all \n",
    "                    select   * from matched_2_1\n",
    "                    union all\n",
    "                    select   * from matched_3 \n",
    "                    union all \n",
    "                    select   * from matched_4\n",
    "                    union all \n",
    "                    select   * from matched_4_1\n",
    "                    union all\n",
    "         \n",
    "                 select * from  result_5 \n",
    "                       union all \n",
    "                   select * from Duplicates.csv\n",
    "\"\"\")"
   ]
  },
  {
   "cell_type": "code",
   "execution_count": 63,
   "metadata": {},
   "outputs": [],
   "source": [
    "final_sheet.df().to_csv('final_sheet.csv')"
   ]
  },
  {
   "cell_type": "code",
   "execution_count": 64,
   "metadata": {},
   "outputs": [],
   "source": [
    "###### BREAK after this code >>>>>>>>>>>>>>>>>>>>>>>>>>>>>>>>"
   ]
  },
  {
   "cell_type": "code",
   "execution_count": 65,
   "metadata": {},
   "outputs": [
    {
     "ename": "SyntaxError",
     "evalue": "invalid syntax (2164265595.py, line 1)",
     "output_type": "error",
     "traceback": [
      "\u001b[1;36m  Cell \u001b[1;32mIn[65], line 1\u001b[1;36m\u001b[0m\n\u001b[1;33m    Break break break break break break break\u001b[0m\n\u001b[1;37m          ^\u001b[0m\n\u001b[1;31mSyntaxError\u001b[0m\u001b[1;31m:\u001b[0m invalid syntax\n"
     ]
    }
   ],
   "source": [
    "Break break break break break break break\n"
   ]
  },
  {
   "cell_type": "code",
   "execution_count": null,
   "metadata": {},
   "outputs": [],
   "source": []
  },
  {
   "cell_type": "code",
   "execution_count": null,
   "metadata": {},
   "outputs": [],
   "source": []
  },
  {
   "cell_type": "code",
   "execution_count": null,
   "metadata": {},
   "outputs": [],
   "source": []
  },
  {
   "cell_type": "code",
   "execution_count": null,
   "metadata": {},
   "outputs": [],
   "source": []
  },
  {
   "cell_type": "code",
   "execution_count": null,
   "metadata": {},
   "outputs": [],
   "source": []
  },
  {
   "cell_type": "code",
   "execution_count": null,
   "metadata": {},
   "outputs": [],
   "source": []
  },
  {
   "cell_type": "code",
   "execution_count": null,
   "metadata": {},
   "outputs": [],
   "source": []
  },
  {
   "cell_type": "code",
   "execution_count": null,
   "metadata": {},
   "outputs": [],
   "source": []
  },
  {
   "cell_type": "code",
   "execution_count": null,
   "metadata": {},
   "outputs": [],
   "source": []
  },
  {
   "cell_type": "code",
   "execution_count": null,
   "metadata": {
    "application/vnd.databricks.v1+cell": {
     "cellMetadata": {
      "byteLimit": 2048000,
      "implicitDf": true,
      "rowLimit": 10000
     },
     "inputWidgets": {},
     "nuid": "5988e853-2d3f-48bc-a976-186450311f7c",
     "showTitle": false,
     "title": ""
    }
   },
   "outputs": [],
   "source": [
    " pr_6 = duckdb.sql(\"\"\"\n",
    " SELECT \n",
    "        \"Supplier GSTIN (PR)\",\n",
    "        \"My GSTIN (PR)\",\n",
    "        \"Document Number (PR)\",\n",
    "        \"Document Date (PR)\",\n",
    "        \"IGST (PR)\",\n",
    "        \"CGST (PR)\",\n",
    "        \"SGST (PR)\",\n",
    "        CAST(REPLACE(\"Total Tax(PR)\", ',', '') AS DECIMAL(10,2)) AS \"Total Tax(PR)\"\n",
    "    FROM result_5\n",
    "    WHERE \"Supplier GSTIN/UIN\" is null \"\"\")"
   ]
  },
  {
   "cell_type": "code",
   "execution_count": null,
   "metadata": {
    "application/vnd.databricks.v1+cell": {
     "cellMetadata": {
      "byteLimit": 2048000,
      "implicitDf": true,
      "rowLimit": 10000
     },
     "inputWidgets": {},
     "nuid": "0e0c80f1-c549-46e2-9c45-b42d06164c9e",
     "showTitle": false,
     "title": ""
    }
   },
   "outputs": [],
   "source": [
    "gl_6 = duckdb.sql(\"\"\"\n",
    "SELECT \n",
    "    \"Supplier GSTIN/UIN\",\n",
    "     \"MY GSTIN\",\n",
    "     \"Invoice No\", \n",
    "     \"Invoice Date\", \n",
    "      \"IGST (GL)\",\n",
    "      \"CGST (GL)\",\n",
    "      \"SGST (GL)\",\n",
    "      \"total Tax(GL)\",\n",
    "     \"Remark\",\n",
    "     \"HL Remark\" \n",
    " from result_5\n",
    " where  \"Supplier GSTIN (PR)\" is null \"\"\")"
   ]
  },
  {
   "cell_type": "code",
   "execution_count": null,
   "metadata": {
    "application/vnd.databricks.v1+cell": {
     "cellMetadata": {
      "byteLimit": 2048000,
      "rowLimit": 10000
     },
     "inputWidgets": {},
     "nuid": "cadc36fa-8503-4bb0-8b40-e56c1a392b92",
     "showTitle": false,
     "title": ""
    }
   },
   "outputs": [],
   "source": [
    "result_6 = duckdb.sql( \"\"\"\n",
    "        SELECT\n",
    "        gl_file.\"Supplier GSTIN/UIN\",\n",
    "        gl_file.\"MY GSTIN\" ,\n",
    "        gl_file.\"Invoice No\", \n",
    "        gl_file.\"Invoice Date\", \n",
    "        gl_file.\"IGST (GL)\",\n",
    "        gl_file.\"CGST (GL)\",\n",
    "        gl_file.\"SGST (GL)\",\n",
    "        gl_file.\"Total Tax(GL)\",\n",
    "        pr_filtered.\"Supplier GSTIN (PR)\", \n",
    "        pr_filtered.\"My GSTIN (PR)\" ,\n",
    "        pr_filtered.\"Document Number (PR)\",\n",
    "        pr_filtered.\"Document Date (PR)\" ,\n",
    "        pr_filtered.\"IGST (PR)\",\n",
    "        pr_filtered. \"CGST (PR)\",\n",
    "        pr_filtered.\"SGST (PR)\",\n",
    "        pr_filtered.\"Total Tax(PR)\",\n",
    "        \"Remark\" ,\n",
    "        \"HL Remark\" ,\n",
    "        'SUPPLIER PAN, MY GSTIN, INVOICE NO' as \"Matching keys\",\n",
    "        CASE\n",
    "            WHEN ABS(gl_file.\"Total Tax(GL)\" - pr_filtered.\"Total Tax(PR)\") BETWEEN 1 AND 10 THEN 'Suggested Match'\n",
    "            WHEN abs(gl_file.\"Total Tax(GL)\" - pr_filtered.\"Total Tax(PR)\") <1  THEN 'Exact Match'\n",
    "            WHEN abs(gl_file.\"Total Tax(GL)\" - pr_filtered.\"Total Tax(PR)\") >10  THEN 'Mismatch'\n",
    "            ELSE 'Others In Mismatch'\n",
    "        END AS \"Remarks\",\n",
    "        'Supplier GSTIN and Date not match' as \"Remarks_1\",\n",
    "        CASE\n",
    "            WHEN gl_file.\"Total Tax(GL)\" IS NULL OR pr_filtered.\"Total Tax(PR)\" IS NULL THEN 1\n",
    "            ELSE \n",
    "             row_number() OVER (PARTITION BY SUBSTRING(gl_file.\"Supplier GSTIN/UIN\", 3, 10), \"MY GSTIN\", \"Invoice No\"\n",
    "                            order by \"Invoice Date\" ) end AS rn\n",
    "    FROM gl_6 as gl_file\n",
    "    FULL OUTER JOIN pr_6 as pr_filtered\n",
    "    ON SUBSTRING(gl_file.\"Supplier GSTIN/UIN\", 3, 10)  = SUBSTRING(pr_filtered.\"Supplier GSTIN (PR)\", 3, 10)\n",
    "        AND gl_file.\"MY GSTIN\" = pr_filtered.\"My GSTIN (PR)\"\n",
    "        AND gl_file.\"Invoice No\" = pr_filtered.\"Document Number (PR)\"\n",
    "        AND abs(pr_filtered.\"Total Tax(PR)\"- gl_file.\"Total Tax(GL)\") <= 10\"\"\")\n"
   ]
  },
  {
   "cell_type": "code",
   "execution_count": null,
   "metadata": {},
   "outputs": [],
   "source": [
    "matched_6 = duckdb.sql( \"\"\"select * from result_6\n",
    "                               \n",
    "                               where Remarks in ('Exact Match', 'Suggested Match', 'Mismatch')\"\"\")"
   ]
  },
  {
   "cell_type": "code",
   "execution_count": null,
   "metadata": {},
   "outputs": [],
   "source": [
    "result_6.df().to_csv('result_6.csv', index = False)"
   ]
  },
  {
   "cell_type": "code",
   "execution_count": null,
   "metadata": {},
   "outputs": [],
   "source": [
    "m7 = matched_6.df()[\"Total Tax(GL)\"].sum()\n",
    "matched_6.df().to_csv('matched_6.csv', index = False)\n",
    "\n",
    "result_6 = pd.read_csv('result_6.csv')\n",
    "\n",
    "val = result_6[\"Total Tax(GL)\"].sum()\n",
    "print(val)\n",
    "print(val+m+m2+m3+m4+m5+m6)\n",
    "print(m7)\n",
    "print(g_val)\n",
    "\n",
    "print(f'tax amount after result_2_1_1 is:-> {val+m+m2+m3+m4+m5+m6}, Diff: >> {(val+m+m2+m3+m4+m5+m6) - g_val})')"
   ]
  },
  {
   "cell_type": "code",
   "execution_count": null,
   "metadata": {},
   "outputs": [],
   "source": []
  },
  {
   "cell_type": "code",
   "execution_count": null,
   "metadata": {},
   "outputs": [],
   "source": [
    "rishabh"
   ]
  },
  {
   "cell_type": "code",
   "execution_count": null,
   "metadata": {},
   "outputs": [],
   "source": []
  },
  {
   "cell_type": "code",
   "execution_count": null,
   "metadata": {},
   "outputs": [],
   "source": []
  },
  {
   "cell_type": "code",
   "execution_count": null,
   "metadata": {},
   "outputs": [],
   "source": []
  },
  {
   "cell_type": "code",
   "execution_count": null,
   "metadata": {},
   "outputs": [],
   "source": []
  },
  {
   "cell_type": "code",
   "execution_count": null,
   "metadata": {
    "application/vnd.databricks.v1+cell": {
     "cellMetadata": {
      "byteLimit": 2048000,
      "rowLimit": 10000
     },
     "inputWidgets": {},
     "nuid": "2394782d-44c3-46a8-8a24-230c0ff27a66",
     "showTitle": false,
     "title": ""
    }
   },
   "outputs": [],
   "source": [
    "matched_6 = duckdb.sql( \"\"\"select * from result_6\n",
    "                               \n",
    "                               where Remarks in ('Exact Match', 'Suggested Match', 'Mismatch') \"\"\" )"
   ]
  },
  {
   "cell_type": "code",
   "execution_count": null,
   "metadata": {
    "application/vnd.databricks.v1+cell": {
     "cellMetadata": {
      "byteLimit": 2048000,
      "rowLimit": 10000
     },
     "inputWidgets": {},
     "nuid": "7ebad9db-1a3f-41dc-93d5-b13705c07f43",
     "showTitle": false,
     "title": ""
    }
   },
   "outputs": [],
   "source": [
    "matched_6.df().to_csv('matched_6.csv', index= False)"
   ]
  },
  {
   "cell_type": "code",
   "execution_count": null,
   "metadata": {},
   "outputs": [],
   "source": [
    "result_6 = pd.read_csv('result_6.csv')"
   ]
  },
  {
   "cell_type": "code",
   "execution_count": null,
   "metadata": {
    "application/vnd.databricks.v1+cell": {
     "cellMetadata": {
      "byteLimit": 2048000,
      "implicitDf": true,
      "rowLimit": 10000
     },
     "inputWidgets": {},
     "nuid": "316e955e-3c96-4037-a5a7-be315eb693df",
     "showTitle": false,
     "title": ""
    }
   },
   "outputs": [],
   "source": [
    " pr_6_1 = duckdb.sql(\"\"\"\n",
    " SELECT \n",
    "        \"Supplier GSTIN (PR)\",\n",
    "        \"My GSTIN (PR)\",\n",
    "        \"Document Number (PR)\",\n",
    "        \"Document Date (PR)\",\n",
    "        \"IGST (PR)\",\n",
    "        \"CGST (PR)\",\n",
    "        \"SGST (PR)\",\n",
    "        CAST(REPLACE(\"Total Tax(PR)\", ',', '') AS DECIMAL(10,2)) AS \"Total Tax(PR)\"\n",
    "    FROM result_6\n",
    "    WHERE \"Supplier GSTIN/UIN\" is null \"\"\")"
   ]
  },
  {
   "cell_type": "code",
   "execution_count": null,
   "metadata": {
    "application/vnd.databricks.v1+cell": {
     "cellMetadata": {
      "byteLimit": 2048000,
      "implicitDf": true,
      "rowLimit": 10000
     },
     "inputWidgets": {},
     "nuid": "1ec2081b-a864-4a90-84cc-06ede836373a",
     "showTitle": false,
     "title": ""
    }
   },
   "outputs": [],
   "source": [
    " gl_6_1 = duckdb.sql(\"\"\"\n",
    "SELECT \n",
    "    \"Supplier GSTIN/UIN\",\n",
    "     \"MY GSTIN\",\n",
    "     \"Invoice No\", \n",
    "     \"Invoice Date\", \n",
    "     \"IGST (GL)\",\n",
    "    \"CGST (GL)\",\n",
    "    \"SGST (GL)\",\n",
    "    \"total Tax(GL)\",\n",
    "     \"Remark\",\n",
    "     \"HL Remark\" \n",
    " from result_6\n",
    " where  \"Supplier GSTIN (PR)\" is null \"\"\")"
   ]
  },
  {
   "cell_type": "code",
   "execution_count": null,
   "metadata": {
    "application/vnd.databricks.v1+cell": {
     "cellMetadata": {
      "byteLimit": 2048000,
      "rowLimit": 10000
     },
     "inputWidgets": {},
     "nuid": "b62069fd-4566-4be8-9aaa-e67385cad428",
     "showTitle": false,
     "title": ""
    }
   },
   "outputs": [],
   "source": [
    "result_6_1 = duckdb.sql( \"\"\"\n",
    "        SELECT\n",
    "        gl_file.\"Supplier GSTIN/UIN\",\n",
    "        gl_file.\"MY GSTIN\" ,\n",
    "        gl_file.\"Invoice No\", \n",
    "        gl_file.\"Invoice Date\", \n",
    "        gl_file.\"IGST (GL)\",\n",
    "        gl_file.\"CGST (GL)\",\n",
    "        gl_file.\"SGST (GL)\",\n",
    "        gl_file.\"Total Tax(GL)\" ,\n",
    "        pr_filtered.\"Supplier GSTIN (PR)\", \n",
    "        pr_filtered.\"My GSTIN (PR)\" ,\n",
    "        pr_filtered.\"Document Number (PR)\",\n",
    "        pr_filtered.\"Document Date (PR)\",\n",
    "        pr_filtered.\"IGST (PR)\",\n",
    "        pr_filtered. \"CGST (PR)\",\n",
    "        pr_filtered.\"SGST (PR)\",\n",
    "         pr_filtered.\"Total Tax(PR)\",\n",
    "        case when gl_file.\"Remark\" is null then '' else gl_file.\"Remark\" end as \"Remark\" ,\n",
    "        case when gl_file.\"HL Remark\" is null then '' else gl_file.\"HL Remark\" end as \"HL Remark\" ,\n",
    "        'SUPPLIER PAN, MY GSTIN, INVOICE NO(FUZZY)' as \"Matching keys\",\n",
    "        CASE\n",
    "            WHEN ABS(gl_file.\"Total Tax(GL)\" - pr_filtered.\"Total Tax(PR)\") BETWEEN 1 AND 10 THEN 'Suggested Match'\n",
    "            WHEN abs(gl_file.\"Total Tax(GL)\" - pr_filtered.\"Total Tax(PR)\") <1  THEN 'Exact Match'\n",
    "            WHEN abs(gl_file.\"Total Tax(GL)\" - pr_filtered.\"Total Tax(PR)\") >10  THEN 'Mismatch'\n",
    "            ELSE 'Others In Mismatch'\n",
    "        END AS \"Remarks\",\n",
    "        'Suppliers GSTIN and Date not match' as \"Remarks_1\"\n",
    "    FROM gl_6_1 as gl_file\n",
    "    FULL OUTER JOIN pr_6_1 as pr_filtered\n",
    "    ON gl_file.\"Supplier GSTIN/UIN\" = pr_filtered.\"Supplier GSTIN (PR)\"\n",
    "        AND SUBSTRING(gl_file.\"MY GSTIN\", 3, 10)  = SUBSTRING(pr_filtered.\"My GSTIN (PR)\", 3, 10) \n",
    "        AND REGEXP_REPLACE(gl_file.\"Invoice No\", '[^a-zA-Z0-9]', '') =\n",
    "        REGEXP_REPLACE(pr_filtered.\"Document Number (PR)\", '[^a-zA-Z0-9]', '')\n",
    "\"\"\")\n"
   ]
  },
  {
   "cell_type": "code",
   "execution_count": null,
   "metadata": {
    "application/vnd.databricks.v1+cell": {
     "cellMetadata": {
      "byteLimit": 2048000,
      "rowLimit": 10000
     },
     "inputWidgets": {},
     "nuid": "1e24f7da-5201-4058-9350-16eb9b87811d",
     "showTitle": false,
     "title": ""
    }
   },
   "outputs": [],
   "source": [
    "result_6_1.df().to_csv('result_6_1.csv',index= False)"
   ]
  },
  {
   "cell_type": "code",
   "execution_count": null,
   "metadata": {
    "application/vnd.databricks.v1+cell": {
     "cellMetadata": {
      "byteLimit": 2048000,
      "rowLimit": 10000
     },
     "inputWidgets": {},
     "nuid": "1d393792-9fe1-4521-aa9d-ac1f7b5e46e9",
     "showTitle": false,
     "title": ""
    }
   },
   "outputs": [],
   "source": [
    "matched_6_1 = duckdb.sql( \"\"\"select * from result_6_1\n",
    "                               \n",
    "                               where Remarks in ('Exact Match', 'Suggested Match', 'Mismatch') \"\"\" )"
   ]
  },
  {
   "cell_type": "code",
   "execution_count": null,
   "metadata": {
    "application/vnd.databricks.v1+cell": {
     "cellMetadata": {
      "byteLimit": 2048000,
      "rowLimit": 10000
     },
     "inputWidgets": {},
     "nuid": "f9f1d093-2a23-41fa-aa09-15077ef5b356",
     "showTitle": false,
     "title": ""
    }
   },
   "outputs": [],
   "source": [
    "matched_6_1.df().to_csv('matched_6_1.csv', index= False)"
   ]
  },
  {
   "cell_type": "code",
   "execution_count": null,
   "metadata": {},
   "outputs": [],
   "source": [
    "result_6_1 = pd.read_csv('result_6_1.csv')"
   ]
  },
  {
   "cell_type": "code",
   "execution_count": null,
   "metadata": {
    "application/vnd.databricks.v1+cell": {
     "cellMetadata": {
      "byteLimit": 2048000,
      "implicitDf": true,
      "rowLimit": 10000
     },
     "inputWidgets": {},
     "nuid": "4dae33c6-e0f1-4f1b-8198-f993e12d7723",
     "showTitle": false,
     "title": ""
    }
   },
   "outputs": [],
   "source": [
    " pr_7= duckdb.sql(\"\"\"\n",
    " SELECT \n",
    "        \"Supplier GSTIN (PR)\",\n",
    "        \"My GSTIN (PR)\",\n",
    "        \"Document Number (PR)\",\n",
    "        \"Document Date (PR)\",\n",
    "        \"IGST (PR)\",\n",
    "        \"CGST (PR)\",\n",
    "        \"SGST (PR)\",\n",
    "        CAST(REPLACE(\"Total Tax(PR)\", ',', '') AS DECIMAL(10,2)) AS \"Total Tax(PR)\"\n",
    "    FROM result_6_1\n",
    "    WHERE \"Supplier GSTIN/UIN\" is null  \"\"\")"
   ]
  },
  {
   "cell_type": "code",
   "execution_count": null,
   "metadata": {
    "application/vnd.databricks.v1+cell": {
     "cellMetadata": {},
     "inputWidgets": {},
     "nuid": "3caa75bc-751a-4a5c-bead-8ce2d8250f35",
     "showTitle": false,
     "title": ""
    }
   },
   "outputs": [],
   "source": [
    "# pr_7.shape"
   ]
  },
  {
   "cell_type": "code",
   "execution_count": null,
   "metadata": {
    "application/vnd.databricks.v1+cell": {
     "cellMetadata": {
      "byteLimit": 2048000,
      "implicitDf": true,
      "rowLimit": 10000
     },
     "inputWidgets": {},
     "nuid": "c7c7d8ef-4548-4341-9ac5-75e380e2fe90",
     "showTitle": false,
     "title": ""
    }
   },
   "outputs": [],
   "source": [
    " gl_7 = duckdb.sql(\"\"\"\n",
    "SELECT \n",
    "    \"Supplier GSTIN/UIN\",\n",
    "     \"MY GSTIN\",\n",
    "     \"Invoice No\", \n",
    "     \"Invoice Date\", \n",
    "     \"IGST (GL)\",\n",
    "     \"CGST (GL)\",\n",
    "     \"SGST (GL)\",\n",
    "    \"total Tax(GL)\",\n",
    "     \"Remark\",\n",
    "     \"HL Remark\" \n",
    " from result_6_1\n",
    " where  \"Supplier GSTIN (PR)\" is null \"\"\")"
   ]
  },
  {
   "cell_type": "code",
   "execution_count": null,
   "metadata": {
    "application/vnd.databricks.v1+cell": {
     "cellMetadata": {
      "byteLimit": 2048000,
      "rowLimit": 10000
     },
     "inputWidgets": {},
     "nuid": "c72dd4a5-9135-4f79-abf1-db4267be3e2f",
     "showTitle": false,
     "title": ""
    }
   },
   "outputs": [],
   "source": [
    "result_7 = duckdb.sql( \"\"\"\n",
    "        SELECT\n",
    "        gl_file.\"Supplier GSTIN/UIN\",\n",
    "        gl_file.\"MY GSTIN\" ,\n",
    "        gl_file.\"Invoice No\", \n",
    "        gl_file.\"Invoice Date\", \n",
    "        gl_file.\"IGST (GL)\",\n",
    "        gl_file.\"CGST (GL)\",\n",
    "        gl_file.\"SGST (GL)\",\n",
    "        gl_file.\"Total Tax(GL)\" ,\n",
    "        pr_filtered.\"Supplier GSTIN (PR)\", \n",
    "        pr_filtered.\"My GSTIN (PR)\" ,\n",
    "        pr_filtered.\"Document Number (PR)\",\n",
    "        pr_filtered.\"Document Date (PR)\" ,\n",
    "        pr_filtered.\"IGST (PR)\",\n",
    "        pr_filtered. \"CGST (PR)\",\n",
    "        pr_filtered.\"SGST (PR)\",\n",
    "        pr_filtered.\"Total Tax(PR)\",\n",
    "        \"Remark\" ,\n",
    "        \"HL Remark\" ,\n",
    "        'SUPPLIER PAN, BUYER PAN, INVOICE NO, INVOICE DATE' as \"Matching keys\",\n",
    "        CASE\n",
    "            WHEN ABS(gl_file.\"Total Tax(GL)\" - pr_filtered.\"Total Tax(PR)\") BETWEEN 1 AND 10 THEN 'Suggested Match'\n",
    "            WHEN abs(gl_file.\"Total Tax(GL)\" - pr_filtered.\"Total Tax(PR)\") <1  THEN 'Exact Match'\n",
    "            WHEN abs(gl_file.\"Total Tax(GL)\" - pr_filtered.\"Total Tax(PR)\") >10  THEN 'Mismatch'\n",
    "            ELSE 'Others In Mismatch'\n",
    "        END AS \"Remarks\",\n",
    "        'Supplier GSTIN and MY GSTIN not match' as \"Remarks_1\"\n",
    "    FROM gl_7 as gl_file\n",
    "    FULL OUTER JOIN pr_7 as pr_filtered\n",
    "    ON SUBSTRING(gl_file.\"Supplier GSTIN/UIN\", 3, 10)  = SUBSTRING(pr_filtered.\"Supplier GSTIN (PR)\", 3, 10)\n",
    "        AND SUBSTRING(gl_file.\"MY GSTIN\", 3, 10)  = SUBSTRING(pr_filtered.\"My GSTIN (PR)\", 3, 10) \n",
    "        AND gl_file.\"Invoice No\" = pr_filtered.\"Document Number (PR)\"\n",
    "        AND  gl_file.\"Invoice Date\" = pr_filtered.\"Document Date (PR)\" \n",
    "\"\"\")"
   ]
  },
  {
   "cell_type": "code",
   "execution_count": null,
   "metadata": {
    "application/vnd.databricks.v1+cell": {
     "cellMetadata": {
      "byteLimit": 2048000,
      "rowLimit": 10000
     },
     "inputWidgets": {},
     "nuid": "5f9038f9-22d5-49ff-841f-f25b327e18ed",
     "showTitle": false,
     "title": ""
    }
   },
   "outputs": [],
   "source": [
    "result_7.df().to_csv('result_7.csv',index= False)"
   ]
  },
  {
   "cell_type": "code",
   "execution_count": null,
   "metadata": {
    "application/vnd.databricks.v1+cell": {
     "cellMetadata": {
      "byteLimit": 2048000,
      "rowLimit": 10000
     },
     "inputWidgets": {},
     "nuid": "447563c3-0ea6-4bf2-b83a-e390819ff154",
     "showTitle": false,
     "title": ""
    }
   },
   "outputs": [],
   "source": [
    "matched_7 = duckdb.sql( \"\"\"select * from result_7\n",
    "                               \n",
    "                               where Remarks in ('Exact Match', 'Suggested Match', 'Mismatch') \"\"\" )"
   ]
  },
  {
   "cell_type": "code",
   "execution_count": null,
   "metadata": {
    "application/vnd.databricks.v1+cell": {
     "cellMetadata": {
      "byteLimit": 2048000,
      "rowLimit": 10000
     },
     "inputWidgets": {},
     "nuid": "c687dce1-3ad6-4c36-8bcb-79810be88d24",
     "showTitle": false,
     "title": ""
    }
   },
   "outputs": [],
   "source": [
    "matched_7.df().to_csv('matched_7.csv', index= False)"
   ]
  },
  {
   "cell_type": "code",
   "execution_count": null,
   "metadata": {},
   "outputs": [],
   "source": [
    "result_7= pd.read_csv('result_7.csv')"
   ]
  },
  {
   "cell_type": "code",
   "execution_count": null,
   "metadata": {
    "application/vnd.databricks.v1+cell": {
     "cellMetadata": {
      "byteLimit": 2048000,
      "implicitDf": true,
      "rowLimit": 10000
     },
     "inputWidgets": {},
     "nuid": "d83f9c66-b87b-4e9b-a42e-e00f30fe5af0",
     "showTitle": false,
     "title": ""
    }
   },
   "outputs": [],
   "source": [
    " pr_8 = duckdb.sql(\"\"\"\n",
    " SELECT \n",
    "        \"Supplier GSTIN (PR)\",\n",
    "        \"My GSTIN (PR)\",\n",
    "        \"Document Number (PR)\",\n",
    "        \"Document Date (PR)\",\n",
    "        \"IGST (PR)\",\n",
    "        \"CGST (PR)\",\n",
    "        \"SGST (PR)\",\n",
    "        CAST(REPLACE(\"Total Tax(PR)\", ',', '') AS DECIMAL(10,2)) AS \"Total Tax(PR)\"\n",
    "    FROM result_7\n",
    "    WHERE \"Supplier GSTIN/UIN\" is null  \"\"\")"
   ]
  },
  {
   "cell_type": "code",
   "execution_count": null,
   "metadata": {},
   "outputs": [],
   "source": [
    "gl_8 = duckdb.sql(\"\"\"\n",
    "SELECT \n",
    "    \"Supplier GSTIN/UIN\",\n",
    "     \"MY GSTIN\",\n",
    "     \"Invoice No\", \n",
    "     \"Invoice Date\", \n",
    "     \"IGST (GL)\",\n",
    "    \"CGST (GL)\",\n",
    "    \"SGST (GL)\",\n",
    "    \"total Tax(GL)\",\n",
    "    \"Remark\" ,\n",
    "   \"HL Remark\" \n",
    " from result_7\n",
    " where  \"Supplier GSTIN (PR)\" is null \"\"\")"
   ]
  },
  {
   "cell_type": "code",
   "execution_count": null,
   "metadata": {
    "application/vnd.databricks.v1+cell": {
     "cellMetadata": {
      "byteLimit": 2048000,
      "rowLimit": 10000
     },
     "inputWidgets": {},
     "nuid": "80e98064-ab94-480b-9648-dc72317718c4",
     "showTitle": false,
     "title": ""
    }
   },
   "outputs": [],
   "source": [
    "result_8 = duckdb.sql( \"\"\"\n",
    "        SELECT\n",
    "        gl_file.\"Supplier GSTIN/UIN\",\n",
    "        gl_file.\"MY GSTIN\" ,\n",
    "        gl_file.\"Invoice No\", \n",
    "        gl_file.\"Invoice Date\", \n",
    "        gl_file.\"IGST (GL)\",\n",
    "        gl_file.\"CGST (GL)\",\n",
    "        gl_file.\"SGST (GL)\",\n",
    "        gl_file.\"Total Tax(GL)\" ,\n",
    "        pr_filtered.\"Supplier GSTIN (PR)\", \n",
    "        pr_filtered.\"My GSTIN (PR)\" ,\n",
    "        pr_filtered.\"Document Number (PR)\",\n",
    "        pr_filtered.\"Document Date (PR)\" ,\n",
    "        pr_filtered.\"IGST (PR)\",\n",
    "        pr_filtered. \"CGST (PR)\",\n",
    "        pr_filtered.\"SGST (PR)\",\n",
    "        pr_filtered.\"Total Tax(PR)\",\n",
    "        case when gl_file.\"Remark\" is null then '' else gl_file.\"Remark\" end as \"Remark\" ,\n",
    "        case when gl_file.\"HL Remark\" is null then '' else gl_file.\"HL Remark\" end as \"HL Remark\" ,\n",
    "        'SUPPLIER PAN, BUYER PAN, INVOICE NO' as \"Matching keys\",\n",
    "        CASE\n",
    "            WHEN ABS(gl_file.\"Total Tax(GL)\" - pr_filtered.\"Total Tax(PR)\") BETWEEN 1 AND 10 THEN 'Suggested Match'\n",
    "            WHEN abs(gl_file.\"Total Tax(GL)\" - pr_filtered.\"Total Tax(PR)\") <1  THEN 'Exact Match'\n",
    "            WHEN abs(gl_file.\"Total Tax(GL)\" - pr_filtered.\"Total Tax(PR)\") >10  THEN 'Mismatch'\n",
    "            ELSE 'Others In Mismatch'\n",
    "        END AS \"Remarks\",\n",
    "        'Supplier GSTIN , MY GSTIN and Date not match' as \"Remarks_1\"\n",
    "    FROM gl_8 as gl_file\n",
    "    FULL OUTER JOIN pr_8 as pr_filtered\n",
    "    ON SUBSTRING(gl_file.\"Supplier GSTIN/UIN\", 3, 10)  = SUBSTRING(pr_filtered.\"Supplier GSTIN (PR)\", 3, 10)\n",
    "        AND SUBSTRING(gl_file.\"MY GSTIN\", 3, 10)  = SUBSTRING(pr_filtered.\"My GSTIN (PR)\", 3, 10) \n",
    "        AND gl_file.\"Invoice No\" = pr_filtered.\"Document Number (PR)\"\n",
    "\"\"\")\n"
   ]
  },
  {
   "cell_type": "code",
   "execution_count": null,
   "metadata": {},
   "outputs": [],
   "source": [
    "result_8.df().to_csv('result_8.csv',index= False)"
   ]
  },
  {
   "cell_type": "code",
   "execution_count": null,
   "metadata": {
    "application/vnd.databricks.v1+cell": {
     "cellMetadata": {
      "byteLimit": 2048000,
      "rowLimit": 10000
     },
     "inputWidgets": {},
     "nuid": "23596c0a-8b70-4a72-a5ed-c6a3f3fdea12",
     "showTitle": false,
     "title": ""
    }
   },
   "outputs": [],
   "source": [
    "matched_8 = duckdb.sql( \"\"\"select * from result_8\n",
    "                               \n",
    "                               where Remarks in ('Exact Match', 'Suggested Match', 'Mismatch') \"\"\" )"
   ]
  },
  {
   "cell_type": "code",
   "execution_count": null,
   "metadata": {
    "application/vnd.databricks.v1+cell": {
     "cellMetadata": {
      "byteLimit": 2048000,
      "rowLimit": 10000
     },
     "inputWidgets": {},
     "nuid": "ad54ec74-ffc8-49ed-80b9-155133cb7a43",
     "showTitle": false,
     "title": ""
    }
   },
   "outputs": [],
   "source": [
    "matched_8.df().to_csv('matched_8.csv', index= False)"
   ]
  },
  {
   "cell_type": "code",
   "execution_count": null,
   "metadata": {},
   "outputs": [],
   "source": [
    "result_8 = pd.read_csv('result_8.csv')"
   ]
  },
  {
   "cell_type": "code",
   "execution_count": null,
   "metadata": {
    "application/vnd.databricks.v1+cell": {
     "cellMetadata": {
      "byteLimit": 2048000,
      "implicitDf": true,
      "rowLimit": 10000
     },
     "inputWidgets": {},
     "nuid": "a918bf3c-53cf-47c3-93c8-4c9dacee9adb",
     "showTitle": false,
     "title": ""
    }
   },
   "outputs": [],
   "source": [
    " pr_8_1  = duckdb.sql(\"\"\"\n",
    " SELECT \n",
    "        \"Supplier GSTIN (PR)\",\n",
    "        \"My GSTIN (PR)\",\n",
    "        \"Document Number (PR)\",\n",
    "        \"Document Date (PR)\",\n",
    "        \"IGST (PR)\",\n",
    "        \"CGST (PR)\",\n",
    "        \"SGST (PR)\",\n",
    "        CAST(REPLACE(\"Total Tax(PR)\", ',', '') AS DECIMAL(10,2)) AS \"Total Tax(PR)\"\n",
    "    FROM result_8\n",
    "    WHERE \"Supplier GSTIN/UIN\" is null \"\"\")"
   ]
  },
  {
   "cell_type": "code",
   "execution_count": null,
   "metadata": {
    "application/vnd.databricks.v1+cell": {
     "cellMetadata": {
      "byteLimit": 2048000,
      "implicitDf": true,
      "rowLimit": 10000
     },
     "inputWidgets": {},
     "nuid": "226b9cee-6071-4e87-9bca-0238fd6e78f1",
     "showTitle": false,
     "title": ""
    }
   },
   "outputs": [],
   "source": [
    " gl_8_1 = duckdb.sql(\"\"\"\n",
    "SELECT \n",
    "    \"Supplier GSTIN/UIN\",\n",
    "     \"MY GSTIN\",\n",
    "     \"Invoice No\", \n",
    "     \"Invoice Date\",\n",
    "     \"IGST (GL)\",\n",
    "    \"CGST (GL)\",\n",
    "    \"SGST (GL)\",\n",
    "    \"total Tax(GL)\",\n",
    "    \"Remark\" ,\n",
    "    \"HL Remark\"\n",
    " from result_8\n",
    " where  \"Supplier GSTIN (PR)\" is null \"\"\")"
   ]
  },
  {
   "cell_type": "code",
   "execution_count": null,
   "metadata": {
    "application/vnd.databricks.v1+cell": {
     "cellMetadata": {
      "byteLimit": 2048000,
      "rowLimit": 10000
     },
     "inputWidgets": {},
     "nuid": "af8b076a-c235-412b-9291-c24a7e0966c5",
     "showTitle": false,
     "title": ""
    }
   },
   "outputs": [],
   "source": [
    "result_8_1 = duckdb.sql( \"\"\"\n",
    "        SELECT\n",
    "        gl_file.\"Supplier GSTIN/UIN\",\n",
    "        gl_file.\"MY GSTIN\" ,\n",
    "        gl_file.\"Invoice No\", \n",
    "        gl_file.\"Invoice Date\", \n",
    "        gl_file.\"IGST (GL)\",\n",
    "        gl_file.\"CGST (GL)\",\n",
    "        gl_file.\"SGST (GL)\",\n",
    "        gl_file.\"Total Tax(GL)\" ,\n",
    "        pr_filtered.\"Supplier GSTIN (PR)\", \n",
    "        pr_filtered.\"My GSTIN (PR)\" ,\n",
    "        pr_filtered.\"Document Number (PR)\",\n",
    "        pr_filtered.\"Document Date (PR)\" ,\n",
    "        pr_filtered.\"IGST (PR)\",\n",
    "        pr_filtered. \"CGST (PR)\",\n",
    "        pr_filtered.\"SGST (PR)\",\n",
    "        pr_filtered.\"Total Tax(PR)\",\n",
    "        \"Remark\" ,\n",
    "        \"HL Remark\" ,\n",
    "        'SUPPLIER PAN, BUYER PAN, INVOICE NO(FUZZY)' as \"Matching keys\",\n",
    "        CASE\n",
    "            WHEN ABS(gl_file.\"Total Tax(GL)\" - pr_filtered.\"Total Tax(PR)\") BETWEEN 1 AND 10 THEN 'Suggested Match'\n",
    "            WHEN abs(gl_file.\"Total Tax(GL)\" - pr_filtered.\"Total Tax(PR)\") <1  THEN 'Exact Match'\n",
    "            WHEN abs(gl_file.\"Total Tax(GL)\" - pr_filtered.\"Total Tax(PR)\") >10  THEN 'Mismatch'\n",
    "            ELSE 'Others In Mismatch'\n",
    "        END AS \"Remarks\",\n",
    "        'Supplier GSTIN , MY GSTIN and Date not match' as \"Remarks_1\"\n",
    "    FROM gl_8_1 as gl_file\n",
    "    FULL OUTER JOIN pr_8_1 as pr_filtered\n",
    "    ON SUBSTRING(gl_file.\"Supplier GSTIN/UIN\", 3, 10)  = SUBSTRING(pr_filtered.\"Supplier GSTIN (PR)\", 3, 10)\n",
    "        AND SUBSTRING(gl_file.\"MY GSTIN\", 3, 10)  = SUBSTRING(pr_filtered.\"My GSTIN (PR)\", 3, 10) \n",
    "        AND REGEXP_REPLACE(gl_file.\"Invoice No\", '[^a-zA-Z0-9]', '') =\n",
    "        REGEXP_REPLACE(pr_filtered.\"Document Number (PR)\", '[^a-zA-Z0-9]', '')\n",
    "\"\"\")\n"
   ]
  },
  {
   "cell_type": "code",
   "execution_count": null,
   "metadata": {},
   "outputs": [],
   "source": [
    "result_8_1.df().to_csv('result_8_1.csv',index= False)"
   ]
  },
  {
   "cell_type": "code",
   "execution_count": null,
   "metadata": {
    "application/vnd.databricks.v1+cell": {
     "cellMetadata": {},
     "inputWidgets": {},
     "nuid": "5d414f96-9a1b-4e88-8bca-b4b52af22244",
     "showTitle": false,
     "title": ""
    }
   },
   "outputs": [],
   "source": [
    "matched_8_1 = duckdb.sql( \"\"\"select * from result_8_1\n",
    "                               \n",
    "                               where Remarks in ('Exact Match', 'Suggested Match', 'Mismatch') \"\"\" )"
   ]
  },
  {
   "cell_type": "code",
   "execution_count": null,
   "metadata": {},
   "outputs": [],
   "source": [
    "result_8_1 = pd.read_csv('result_8_1.csv')"
   ]
  },
  {
   "cell_type": "code",
   "execution_count": null,
   "metadata": {},
   "outputs": [],
   "source": [
    "# only_gl_or_pr_entry = pd.read_csv('only_in_pr_gl.csv')"
   ]
  },
  {
   "cell_type": "code",
   "execution_count": null,
   "metadata": {},
   "outputs": [],
   "source": [
    " pr_9  = duckdb.sql(\"\"\"\n",
    " SELECT \n",
    "        \"Supplier GSTIN (PR)\",\n",
    "        \"My GSTIN (PR)\",\n",
    "        \"Document Number (PR)\",\n",
    "        \"Document Date (PR)\",\n",
    "        \"IGST (PR)\",\n",
    "        \"CGST (PR)\",\n",
    "        \"SGST (PR)\",\n",
    "        CAST(REPLACE(\"Total Tax(PR)\", ',', '') AS DECIMAL(10,2)) AS \"Total Tax(PR)\"\n",
    "    FROM result_8_1\n",
    "    WHERE \"Supplier GSTIN/UIN\" is null \n",
    "    \n",
    "    \"\"\")"
   ]
  },
  {
   "cell_type": "code",
   "execution_count": null,
   "metadata": {},
   "outputs": [],
   "source": [
    "gl_9 = duckdb.sql(\"\"\"\n",
    "SELECT \n",
    "    \"Supplier GSTIN/UIN\",\n",
    "     \"MY GSTIN\",\n",
    "     \"Invoice No\", \n",
    "     \"Invoice Date\",\n",
    "     \"IGST (GL)\",\n",
    "    \"CGST (GL)\",\n",
    "    \"SGST (GL)\",\n",
    "    \"total Tax(GL)\",\n",
    "    \"Remark\" ,\n",
    "    \"HL Remark\"\n",
    "  from result_8_1\n",
    "  where  \"Supplier GSTIN (PR)\" is null\"\"\")"
   ]
  },
  {
   "cell_type": "code",
   "execution_count": null,
   "metadata": {},
   "outputs": [],
   "source": [
    "result_9 = duckdb.sql( \"\"\"\n",
    "        SELECT\n",
    "        gl_file.\"Supplier GSTIN/UIN\",\n",
    "        gl_file.\"MY GSTIN\" ,\n",
    "        gl_file.\"Invoice No\", \n",
    "        gl_file.\"Invoice Date\", \n",
    "        gl_file.\"IGST (GL)\",\n",
    "        gl_file.\"CGST (GL)\",\n",
    "        gl_file.\"SGST (GL)\",\n",
    "        gl_file.\"Total Tax(GL)\" ,\n",
    "        pr_filtered.\"Supplier GSTIN (PR)\", \n",
    "        pr_filtered.\"My GSTIN (PR)\" ,\n",
    "        pr_filtered.\"Document Number (PR)\",\n",
    "        pr_filtered.\"Document Date (PR)\" ,\n",
    "        pr_filtered.\"IGST (PR)\",\n",
    "        pr_filtered. \"CGST (PR)\",\n",
    "        pr_filtered.\"SGST (PR)\",\n",
    "        pr_filtered.\"Total Tax(PR)\",\n",
    "        \"Remark\" ,\n",
    "        \"HL Remark\" ,\n",
    "        'SUPPLIER GSTIN ,MY GSTIN and Tax Amount' as \"Matching keys\",\n",
    "        CASE\n",
    "            WHEN ABS(gl_file.\"Total Tax(GL)\" - pr_filtered.\"Total Tax(PR)\") BETWEEN 1 AND 10 THEN 'Suggested Match'\n",
    "            WHEN abs(gl_file.\"Total Tax(GL)\" - pr_filtered.\"Total Tax(PR)\") <1  THEN 'Exact Match'\n",
    "            WHEN abs(gl_file.\"Total Tax(GL)\" - pr_filtered.\"Total Tax(PR)\") >10  THEN 'Mismatch'\n",
    "            ELSE 'Others In Mismatch Or Entry only in PR/GL'\n",
    "        END AS \"Remarks\",\n",
    "        'Invoice Number and Date Not Match' as \"Remarks_1\"\n",
    "    FROM gl_9 as gl_file\n",
    "    FULL OUTER JOIN pr_9 as pr_filtered\n",
    "    ON gl_file.\"Supplier GSTIN/UIN\" = pr_filtered.\"Supplier GSTIN (PR)\"\n",
    "    AND gl_file.\"MY GSTIN\" = pr_filtered.\"My GSTIN (PR)\"\n",
    "    AND abs(pr_filtered.\"Total Tax(PR)\"-gl_file.\"Total Tax(GL)\" ) <=10\n",
    "\"\"\")\n"
   ]
  },
  {
   "cell_type": "code",
   "execution_count": null,
   "metadata": {},
   "outputs": [],
   "source": [
    "result_9.df().to_csv('result_9.csv',index= False)"
   ]
  },
  {
   "cell_type": "code",
   "execution_count": null,
   "metadata": {},
   "outputs": [],
   "source": [
    "matched_9 = duckdb.sql( \"\"\"select * from result_9\n",
    "                               \n",
    "                               where Remarks in ('Exact Match', 'Suggested Match', 'Mismatch') \"\"\")"
   ]
  },
  {
   "cell_type": "code",
   "execution_count": null,
   "metadata": {},
   "outputs": [],
   "source": [
    "result_9= pd.read_csv('result_9.csv')"
   ]
  },
  {
   "cell_type": "code",
   "execution_count": null,
   "metadata": {},
   "outputs": [],
   "source": [
    " pr_10  = duckdb.sql(\"\"\"\n",
    " SELECT \n",
    "        \"Supplier GSTIN (PR)\",\n",
    "        \"My GSTIN (PR)\",\n",
    "        \"Document Number (PR)\",\n",
    "        \"Document Date (PR)\",\n",
    "        \"IGST (PR)\",\n",
    "        \"CGST (PR)\",\n",
    "        \"SGST (PR)\",\n",
    "        CAST(REPLACE(\"Total Tax(PR)\", ',', '') AS DECIMAL(10,2)) AS \"Total Tax(PR)\"\n",
    "    FROM result_9\n",
    "    WHERE \"Supplier GSTIN/UIN\" is null \"\"\")"
   ]
  },
  {
   "cell_type": "code",
   "execution_count": null,
   "metadata": {},
   "outputs": [],
   "source": [
    " gl_10 = duckdb.sql(\"\"\"\n",
    "SELECT \n",
    "    \"Supplier GSTIN/UIN\",\n",
    "     \"MY GSTIN\",\n",
    "     \"Invoice No\", \n",
    "     \"Invoice Date\",\n",
    "     \"IGST (GL)\",\n",
    "    \"CGST (GL)\",\n",
    "    \"SGST (GL)\",\n",
    "    \"total Tax(GL)\",\n",
    "    \"Remark\" ,\n",
    "    \"HL Remark\"\n",
    " from result_9\n",
    " where  \"Supplier GSTIN (PR)\" is null \"\"\")"
   ]
  },
  {
   "cell_type": "code",
   "execution_count": null,
   "metadata": {},
   "outputs": [],
   "source": [
    "result_10 = duckdb.sql( \"\"\"\n",
    "        SELECT\n",
    "        gl_file.\"Supplier GSTIN/UIN\",\n",
    "        gl_file.\"MY GSTIN\" ,\n",
    "        gl_file.\"Invoice No\", \n",
    "        gl_file.\"Invoice Date\",\n",
    "        gl_file.\"IGST (GL)\",\n",
    "        gl_file.\"CGST (GL)\",\n",
    "        gl_file.\"SGST (GL)\",\n",
    "        gl_file.\"Total Tax(GL)\" ,\n",
    "        pr_filtered.\"Supplier GSTIN (PR)\", \n",
    "        pr_filtered.\"My GSTIN (PR)\" ,\n",
    "        pr_filtered.\"Document Number (PR)\",\n",
    "        pr_filtered.\"Document Date (PR)\" ,\n",
    "        pr_filtered.\"IGST (PR)\",\n",
    "        pr_filtered. \"CGST (PR)\",\n",
    "        pr_filtered.\"SGST (PR)\",\n",
    "        pr_filtered.\"Total Tax(PR)\",\n",
    "        \"Remark\" ,\n",
    "        \"HL Remark\",\n",
    "        'SUPPLIER GSTIN, BUYER PAN, Tax Amount' as \"Matching keys\",\n",
    "        CASE\n",
    "            WHEN ABS(gl_file.\"Total Tax(GL)\" - pr_filtered.\"Total Tax(PR)\") BETWEEN 1 AND 10 THEN 'Suggested Match'\n",
    "            WHEN abs(gl_file.\"Total Tax(GL)\" - pr_filtered.\"Total Tax(PR)\") <1  THEN 'Exact Match'\n",
    "            WHEN abs(gl_file.\"Total Tax(GL)\" - pr_filtered.\"Total Tax(PR)\") >10  THEN 'Mismatch'\n",
    "            ELSE 'Others In Mismatch Or Entry only in PR/GL'\n",
    "        END AS \"Remarks\",\n",
    "        'MY GSTIN , Invoice No and Date Not match' as \"Remarks_1\"\n",
    "    FROM gl_10 as gl_file\n",
    "    FULL OUTER JOIN pr_10 as pr_filtered\n",
    "    ON gl_file.\"Supplier GSTIN/UIN\" = pr_filtered.\"Supplier GSTIN (PR)\"\n",
    "        AND SUBSTRING(gl_file.\"MY GSTIN\", 3, 10)  = SUBSTRING(pr_filtered.\"My GSTIN (PR)\", 3, 10) \n",
    "        AND abs(pr_filtered.\"Total Tax(PR)\"-gl_file.\"Total Tax(GL)\" ) <=10\n",
    "        \"\"\")\n"
   ]
  },
  {
   "cell_type": "code",
   "execution_count": null,
   "metadata": {},
   "outputs": [],
   "source": [
    "result_10.df().to_csv('result_10.csv',index= False)"
   ]
  },
  {
   "cell_type": "code",
   "execution_count": null,
   "metadata": {},
   "outputs": [],
   "source": [
    "matched_10 = duckdb.sql( \"\"\"select * from result_10\n",
    "                               \n",
    "                               where Remarks in ('Exact Match', 'Suggested Match', 'Mismatch') \"\"\")"
   ]
  },
  {
   "cell_type": "code",
   "execution_count": null,
   "metadata": {},
   "outputs": [],
   "source": [
    "result_10= pd.read_csv('result_10.csv')"
   ]
  },
  {
   "cell_type": "code",
   "execution_count": null,
   "metadata": {},
   "outputs": [],
   "source": [
    "pr_11  = duckdb.sql(\"\"\"\n",
    " SELECT \n",
    "        \"Supplier GSTIN (PR)\",\n",
    "        \"My GSTIN (PR)\",\n",
    "        \"Document Number (PR)\",\n",
    "        \"Document Date (PR)\",\n",
    "        \"IGST (PR)\",\n",
    "        \"CGST (PR)\",\n",
    "        \"SGST (PR)\",\n",
    "        CAST(REPLACE(\"Total Tax(PR)\", ',', '') AS DECIMAL(10,2)) AS \"Total Tax(PR)\"\n",
    "    FROM result_10\n",
    "    WHERE \"Supplier GSTIN/UIN\" is null \"\"\")"
   ]
  },
  {
   "cell_type": "code",
   "execution_count": null,
   "metadata": {},
   "outputs": [],
   "source": [
    "gl_11 = duckdb.sql(\"\"\"\n",
    "SELECT \n",
    "    \"Supplier GSTIN/UIN\",\n",
    "     \"MY GSTIN\",\n",
    "     \"Invoice No\", \n",
    "     \"Invoice Date\",\n",
    "     \"IGST (GL)\",\n",
    "    \"CGST (GL)\",\n",
    "    \"SGST (GL)\",\n",
    "    \"total Tax(GL)\",\n",
    "    \"Remark\" ,\n",
    "    \"HL Remark\"\n",
    " from result_10\n",
    " where  \"Supplier GSTIN (PR)\" is null \"\"\")"
   ]
  },
  {
   "cell_type": "code",
   "execution_count": null,
   "metadata": {},
   "outputs": [],
   "source": [
    "result_11 = duckdb.sql( \"\"\"\n",
    "        SELECT\n",
    "        gl_file.\"Supplier GSTIN/UIN\",\n",
    "        gl_file.\"MY GSTIN\" ,\n",
    "        gl_file.\"Invoice No\", \n",
    "        gl_file.\"Invoice Date\", \n",
    "        gl_file.\"IGST (GL)\",\n",
    "        gl_file.\"CGST (GL)\",\n",
    "        gl_file.\"SGST (GL)\",\n",
    "        gl_file.\"Total Tax(GL)\" ,\n",
    "        pr_filtered.\"Supplier GSTIN (PR)\", \n",
    "        pr_filtered.\"My GSTIN (PR)\" ,\n",
    "        pr_filtered.\"Document Number (PR)\",\n",
    "        pr_filtered.\"Document Date (PR)\" ,\n",
    "        pr_filtered.\"IGST (PR)\",\n",
    "        pr_filtered. \"CGST (PR)\",\n",
    "        pr_filtered.\"SGST (PR)\",\n",
    "        pr_filtered.\"Total Tax(PR)\",\n",
    "        case when gl_file.\"Remark\" is null then '' else gl_file.\"Remark\" end as \"Remark\" ,\n",
    "        case when gl_file.\"HL Remark\" is null then '' else gl_file.\"HL Remark\" end as \"HL Remark\" ,\n",
    "        'SUPPLIER PAN, MY GSTIN, Tax Amount' as \"Matching keys\",\n",
    "        CASE\n",
    "            WHEN ABS(gl_file.\"Total Tax(GL)\" - pr_filtered.\"Total Tax(PR)\") BETWEEN 1 AND 10 THEN 'Suggested Match'\n",
    "            WHEN abs(gl_file.\"Total Tax(GL)\" - pr_filtered.\"Total Tax(PR)\") <1  THEN 'Exact Match'\n",
    "            WHEN abs(gl_file.\"Total Tax(GL)\" - pr_filtered.\"Total Tax(PR)\") >10  THEN 'Mismatch'\n",
    "            ELSE 'Others In Mismatch Or Entry only in PR/GL'\n",
    "        END AS \"Remarks\",\n",
    "        'SupplierGSTIN , Invoice No and Date Not match' as \"Remarks_1\"\n",
    "    FROM gl_11 as gl_file\n",
    "    FULL OUTER JOIN pr_11 as pr_filtered\n",
    "    ON SUBSTRING(gl_file.\"Supplier GSTIN/UIN\", 3, 10)  = SUBSTRING(pr_filtered.\"Supplier GSTIN (PR)\", 3, 10)\n",
    "        AND gl_file.\"MY GSTIN\"  = pr_filtered.\"My GSTIN (PR)\"\n",
    "        AND abs(pr_filtered.\"Total Tax(PR)\"-gl_file.\"Total Tax(GL)\" ) <=10\n",
    "        \n",
    "\"\"\")\n",
    "\n",
    "   "
   ]
  },
  {
   "cell_type": "code",
   "execution_count": null,
   "metadata": {},
   "outputs": [],
   "source": [
    "result_11.df().to_csv('result_11.csv',index= False)"
   ]
  },
  {
   "cell_type": "code",
   "execution_count": null,
   "metadata": {},
   "outputs": [],
   "source": [
    "matched_11 = duckdb.sql( \"\"\"select * from result_11\n",
    "                               \n",
    "                               where Remarks in ('Exact Match', 'Suggested Match', 'Mismatch') \"\"\")"
   ]
  },
  {
   "cell_type": "code",
   "execution_count": null,
   "metadata": {},
   "outputs": [],
   "source": [
    "result_11= pd.read_csv('result_11.csv')"
   ]
  },
  {
   "cell_type": "code",
   "execution_count": null,
   "metadata": {},
   "outputs": [],
   "source": [
    "pr_12  = duckdb.sql(\"\"\"\n",
    " SELECT \n",
    "        \"Supplier GSTIN (PR)\",\n",
    "        \"My GSTIN (PR)\",\n",
    "        \"Document Number (PR)\",\n",
    "        \"Document Date (PR)\",\n",
    "        \"IGST (PR)\",\n",
    "        \"CGST (PR)\",\n",
    "        \"SGST (PR)\",\n",
    "        CAST(REPLACE(\"Total Tax(PR)\", ',', '') AS DECIMAL(10,2)) AS \"Total Tax(PR)\"\n",
    "    FROM result_11\n",
    "    WHERE \"Supplier GSTIN/UIN\" is null \"\"\")"
   ]
  },
  {
   "cell_type": "code",
   "execution_count": null,
   "metadata": {},
   "outputs": [],
   "source": [
    "gl_12 = duckdb.sql(\"\"\"\n",
    "SELECT \n",
    "    \"Supplier GSTIN/UIN\",\n",
    "     \"MY GSTIN\",\n",
    "     \"Invoice No\", \n",
    "     \"Invoice Date\",\n",
    "     \"IGST (GL)\",\n",
    "    \"CGST (GL)\",\n",
    "    \"SGST (GL)\",\n",
    "    \"total Tax(GL)\",\n",
    "    \"Remark\" ,\n",
    "    \"HL Remark\"\n",
    " from result_11\n",
    " where  \"Supplier GSTIN (PR)\" is null \"\"\")"
   ]
  },
  {
   "cell_type": "code",
   "execution_count": null,
   "metadata": {},
   "outputs": [],
   "source": [
    "result_12 = duckdb.sql( \"\"\"\n",
    "        SELECT\n",
    "        gl_file.\"Supplier GSTIN/UIN\",\n",
    "        gl_file.\"MY GSTIN\" ,\n",
    "        gl_file.\"Invoice No\", \n",
    "        gl_file.\"Invoice Date\", \n",
    "        gl_file.\"IGST (GL)\",\n",
    "        gl_file.\"CGST (GL)\",\n",
    "        gl_file.\"SGST (GL)\",\n",
    "        gl_file.\"Total Tax(GL)\" ,\n",
    "        pr_filtered.\"Supplier GSTIN (PR)\", \n",
    "        pr_filtered.\"My GSTIN (PR)\" ,\n",
    "        pr_filtered.\"Document Number (PR)\",\n",
    "        pr_filtered.\"Document Date (PR)\" ,\n",
    "        pr_filtered.\"IGST (PR)\",\n",
    "        pr_filtered. \"CGST (PR)\",\n",
    "        pr_filtered.\"SGST (PR)\",\n",
    "        pr_filtered.\"Total Tax(PR)\",\n",
    "        \"Remark\" ,\n",
    "        \"HL Remark\" ,\n",
    "        'SUPPLIER PAN, BUYER PAN, Tax Amount' as \"Matching keys\",\n",
    "        CASE\n",
    "            WHEN ABS(gl_file.\"Total Tax(GL)\" - pr_filtered.\"Total Tax(PR)\") BETWEEN 1 AND 10 THEN 'Suggested Match'\n",
    "            WHEN abs(gl_file.\"Total Tax(GL)\" - pr_filtered.\"Total Tax(PR)\") <1  THEN 'Exact Match'\n",
    "            WHEN abs(gl_file.\"Total Tax(GL)\" - pr_filtered.\"Total Tax(PR)\") >10  THEN 'Mismatch'\n",
    "            ELSE 'Others In Mismatch Or Entry only in PR/GL'\n",
    "        END AS \"Remarks\",\n",
    "        'Supplier GSTIN , MY GSTIN , Invoice No and Date not match' as \"Remarks_1\"\n",
    "    FROM gl_12 as gl_file\n",
    "    FULL OUTER JOIN pr_12 as pr_filtered\n",
    "    ON SUBSTRING(gl_file.\"Supplier GSTIN/UIN\", 3, 10)  = SUBSTRING(pr_filtered.\"Supplier GSTIN (PR)\", 3, 10)\n",
    "        AND SUBSTRING(gl_file.\"MY GSTIN\", 3, 10)  = SUBSTRING(pr_filtered.\"My GSTIN (PR)\", 3, 10) \n",
    "        AND abs(pr_filtered.\"Total Tax(PR)\"-gl_file.\"Total Tax(GL)\" ) <=10\n",
    "        \n",
    "\"\"\")\n",
    "\n",
    "   "
   ]
  },
  {
   "cell_type": "code",
   "execution_count": null,
   "metadata": {},
   "outputs": [],
   "source": [
    "result_12.df().to_csv('result_12.csv',index= False)"
   ]
  },
  {
   "cell_type": "code",
   "execution_count": null,
   "metadata": {},
   "outputs": [],
   "source": [
    "matched_12 = duckdb.sql( \"\"\"select * from result_12\n",
    "                               \n",
    "                               where Remarks in ('Exact Match', 'Suggested Match', 'Mismatch') \"\"\")"
   ]
  },
  {
   "cell_type": "code",
   "execution_count": null,
   "metadata": {},
   "outputs": [],
   "source": [
    "result_12 = pd.read_csv('result_12.csv')"
   ]
  },
  {
   "cell_type": "code",
   "execution_count": null,
   "metadata": {},
   "outputs": [],
   "source": [
    "pr_13  = duckdb.sql(\"\"\"\n",
    " SELECT \n",
    "        \"Supplier GSTIN (PR)\",\n",
    "        \"My GSTIN (PR)\",\n",
    "        \"Document Number (PR)\",\n",
    "        \"Document Date (PR)\",\n",
    "        \"IGST (PR)\",\n",
    "        \"CGST (PR)\",\n",
    "        \"SGST (PR)\",\n",
    "        CAST(REPLACE(\"Total Tax(PR)\", ',', '') AS DECIMAL(10,2)) AS \"Total Tax(PR)\"\n",
    "    FROM result_12\n",
    "    WHERE \"Supplier GSTIN/UIN\" is null \"\"\")"
   ]
  },
  {
   "cell_type": "code",
   "execution_count": null,
   "metadata": {},
   "outputs": [],
   "source": [
    "gl_13 = duckdb.sql(\"\"\"\n",
    "SELECT \n",
    "    \"Supplier GSTIN/UIN\",\n",
    "     \"MY GSTIN\",\n",
    "     \"Invoice No\", \n",
    "     \"Invoice Date\",\n",
    "     \"IGST (GL)\",\n",
    "    \"CGST (GL)\",\n",
    "    \"SGST (GL)\",\n",
    "    \"total Tax(GL)\",\n",
    "    \"Remark\" ,\n",
    "    \"HL Remark\"\n",
    " from result_11\n",
    " where  \"Supplier GSTIN (PR)\" is null \"\"\")"
   ]
  },
  {
   "cell_type": "code",
   "execution_count": null,
   "metadata": {},
   "outputs": [],
   "source": [
    "result_13 = duckdb.sql( \"\"\"\n",
    "        SELECT\n",
    "        gl_file.\"Supplier GSTIN/UIN\",\n",
    "        gl_file.\"MY GSTIN\" ,\n",
    "        gl_file.\"Invoice No\", \n",
    "        gl_file.\"Invoice Date\", \n",
    "        gl_file.\"IGST (GL)\",\n",
    "        gl_file.\"CGST (GL)\",\n",
    "        gl_file.\"SGST (GL)\",\n",
    "        gl_file.\"Total Tax(GL)\" ,\n",
    "        pr_filtered.\"Supplier GSTIN (PR)\", \n",
    "        pr_filtered.\"My GSTIN (PR)\" ,\n",
    "        pr_filtered.\"Document Number (PR)\",\n",
    "        pr_filtered.\"Document Date (PR)\" ,\n",
    "        pr_filtered.\"IGST (PR)\",\n",
    "        pr_filtered. \"CGST (PR)\",\n",
    "        pr_filtered.\"SGST (PR)\",\n",
    "        pr_filtered.\"Total Tax(PR)\",\n",
    "        \"Remark\" ,\n",
    "        \"HL Remark\" ,\n",
    "         'BUYER GSTIN/PAN, INOVICE NO, Tax Amount' as \"Matching keys\",\n",
    "        CASE\n",
    "            WHEN ABS(gl_file.\"Total Tax(GL)\" - pr_filtered.\"Total Tax(PR)\") BETWEEN 1 AND 10 THEN 'Suggested Match'\n",
    "            WHEN abs(gl_file.\"Total Tax(GL)\" - pr_filtered.\"Total Tax(PR)\") <1  THEN 'Exact Match'\n",
    "            WHEN abs(gl_file.\"Total Tax(GL)\" - pr_filtered.\"Total Tax(PR)\") >10  THEN 'Mismatch'\n",
    "            ELSE 'Others In Mismatch Or Entry only in PR/GL'\n",
    "        END AS \"Remarks\",\n",
    "        'Supplier GSTIN(PAN),MY GSTIN , Invoice No and Date not match' as \"Remarks_1\"\n",
    "    FROM gl_13 as gl_file\n",
    "    FULL OUTER JOIN pr_13 as pr_filtered\n",
    "    ON \n",
    "     (\n",
    "            gl_file.\"MY GSTIN\" = pr_filtered.\"My GSTIN (PR)\" \n",
    "            OR SUBSTRING(gl_file.\"MY GSTIN\", 3, 10) = SUBSTRING(pr_filtered.\"My GSTIN (PR)\", 3, 10)\n",
    "        )\n",
    "AND gl_file.\"Invoice Date\" = pr_filtered.\"Document Date (PR)\" \n",
    "AND abs(pr_filtered.\"Total Tax(PR)\"-gl_file.\"Total Tax(GL)\" ) <=10\n",
    "        \n",
    "\"\"\")\n",
    "\n",
    "   "
   ]
  },
  {
   "cell_type": "code",
   "execution_count": null,
   "metadata": {},
   "outputs": [],
   "source": [
    "result_13.df().to_csv('result_13.csv',index= False)"
   ]
  },
  {
   "cell_type": "code",
   "execution_count": null,
   "metadata": {},
   "outputs": [],
   "source": [
    "matched_13 = duckdb.sql( \"\"\"select * from result_13\n",
    "                               \n",
    "                               where Remarks in ('Exact Match', 'Suggested Match', 'Mismatch') \"\"\")"
   ]
  },
  {
   "cell_type": "code",
   "execution_count": null,
   "metadata": {},
   "outputs": [],
   "source": [
    "matched_13.shape"
   ]
  },
  {
   "cell_type": "code",
   "execution_count": null,
   "metadata": {
    "application/vnd.databricks.v1+cell": {
     "cellMetadata": {
      "byteLimit": 2048000,
      "rowLimit": 10000
     },
     "inputWidgets": {},
     "nuid": "d6944ed6-f33e-4f2c-8aaf-d72ce8d2598e",
     "showTitle": false,
     "title": ""
    }
   },
   "outputs": [],
   "source": [
    "combined_sheet = duckdb.sql(\"\"\"\n",
    "                    select   * from matched_1\n",
    "                    union all\n",
    "                    select   * from matched_2\n",
    "                    union all \n",
    "                    select   * from matched_2_1\n",
    "                    union all\n",
    "                    select   * from matched_3 \n",
    "                    union all \n",
    "                    select   * from matched_4\n",
    "                    union all \n",
    "                    select   * from matched_4_1\n",
    "                    union all\n",
    "                    select * from matched_5\n",
    "                    union all\n",
    "                    select * from matched_6\n",
    "                    union all \n",
    "                    select * from matched_6_1\n",
    "                    union all \n",
    "                    select * from matched_7\n",
    "                    union all\n",
    "                    select * from matched_8\n",
    "                    union all \n",
    "                    select * from matched_8_1\n",
    "                    union all\n",
    "                    select * from matched_9\n",
    "                    union all\n",
    "                    select * from matched_10\n",
    "                    union all\n",
    "                    select * from matched_11\n",
    "                    union all\n",
    "                    select * from matched_12\n",
    "                    union all\n",
    "                    select * from result_13\n",
    "                    \n",
    "                     \"\"\")\n"
   ]
  },
  {
   "cell_type": "code",
   "execution_count": null,
   "metadata": {},
   "outputs": [],
   "source": [
    "combined_sheet.df().to_csv('combined_sheet.csv', index = False)"
   ]
  },
  {
   "cell_type": "code",
   "execution_count": null,
   "metadata": {},
   "outputs": [],
   "source": [
    "duplicates_df = pd.read_csv(\"Duplicates.csv\")"
   ]
  },
  {
   "cell_type": "code",
   "execution_count": null,
   "metadata": {},
   "outputs": [],
   "source": [
    "final_sheet = duckdb.sql(\"\"\"\n",
    "    select * from combined_sheet\n",
    "    union all\n",
    "    select * from duplicates_df\n",
    "\"\"\")"
   ]
  },
  {
   "cell_type": "code",
   "execution_count": null,
   "metadata": {},
   "outputs": [],
   "source": [
    "final_sheet.df().to_csv('final_sheet.csv', index= False)"
   ]
  },
  {
   "cell_type": "code",
   "execution_count": null,
   "metadata": {},
   "outputs": [],
   "source": []
  }
 ],
 "metadata": {
  "application/vnd.databricks.v1+notebook": {
   "dashboards": [],
   "environmentMetadata": null,
   "language": "python",
   "notebookMetadata": {
    "mostRecentlyExecutedCommandWithImplicitDF": {
     "commandId": 3550860919006769,
     "dataframes": [
      "_sqldf"
     ]
    },
    "pythonIndentUnit": 4
   },
   "notebookName": "1 - (Clone) Rishabh final-  Home Lane recon -1",
   "widgets": {}
  },
  "kernelspec": {
   "display_name": "Python 3 (ipykernel)",
   "language": "python",
   "name": "python3"
  },
  "language_info": {
   "codemirror_mode": {
    "name": "ipython",
    "version": 3
   },
   "file_extension": ".py",
   "mimetype": "text/x-python",
   "name": "python",
   "nbconvert_exporter": "python",
   "pygments_lexer": "ipython3",
   "version": "3.11.0"
  }
 },
 "nbformat": 4,
 "nbformat_minor": 4
}
